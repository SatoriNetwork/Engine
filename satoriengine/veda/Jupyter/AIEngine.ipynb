{
 "cells": [
  {
   "cell_type": "code",
   "execution_count": 46,
   "id": "726d1447-ef22-4b3b-b82d-8c7048c5e0eb",
   "metadata": {},
   "outputs": [],
   "source": [
    "import warnings\n",
    "warnings.filterwarnings('ignore', category=UserWarning)\n",
    "warnings.filterwarnings('ignore', category=Warning)\n",
    "warnings.simplefilter('ignore')\n",
    "import sys\n",
    "sys.path.append('./aienginepackages')\n",
    "\n",
    "import pandas as pd"
   ]
  },
  {
   "cell_type": "code",
   "execution_count": 47,
   "id": "32839575-b9b8-47ff-a382-3eacdd26decb",
   "metadata": {},
   "outputs": [],
   "source": [
    "from aienginepackages import process_data\n",
    "from aienginepackages import determine_feature_set\n",
    "from aienginepackages import model_create_train_test_and_predict\n",
    "from aienginepackages import skEnginePipeline"
   ]
  },
  {
   "cell_type": "code",
   "execution_count": 48,
   "id": "070e147d-2284-4186-9384-142e41d5ad31",
   "metadata": {},
   "outputs": [],
   "source": [
    "df = pd.read_csv(\"datasets/aggregate.csv\", names=['date_time', 'value','id'])\n",
    "proc_dataa = process_data(df, quick_start=False)"
   ]
  },
  {
   "cell_type": "code",
   "execution_count": 49,
   "id": "1f1d9899-fa97-4707-bdd9-d450a2fe3b41",
   "metadata": {},
   "outputs": [
    {
     "data": {
      "text/plain": [
       "['baseline', 'direct_linearregression', 'autoreg_lightgbm']"
      ]
     },
     "execution_count": 49,
     "metadata": {},
     "output_type": "execute_result"
    }
   ],
   "source": [
    "proc_dataa.allowed_models"
   ]
  },
  {
   "cell_type": "code",
   "execution_count": 50,
   "id": "9ff2b778-2ba6-4d51-a551-f0ae8c7e7de8",
   "metadata": {
    "scrolled": true
   },
   "outputs": [
    {
     "name": "stdout",
     "output_type": "stream",
     "text": [
      "adfuller stat and adfuller boolean is: 7.180279572655863e-10, True\n",
      "kpss stat and kpss boolean is: 0.09308829137940346, True\n",
      "The time series (diff order 0) is likely to be stationary.\n",
      "The differentiation is: 0\n",
      "Neither hour nor fractional_hour is seasonal.\n",
      "No seasonal periods detected. Returning no exogenous calendar related features.\n",
      "1\n",
      "123\n"
     ]
    },
    {
     "data": {
      "application/vnd.jupyter.widget-view+json": {
       "model_id": "fd03c8b953054998a95cb15c50d36c9f",
       "version_major": 2,
       "version_minor": 0
      },
      "text/plain": [
       "  0%|          | 0/20 [00:00<?, ?it/s]"
      ]
     },
     "metadata": {},
     "output_type": "display_data"
    },
    {
     "name": "stderr",
     "output_type": "stream",
     "text": [
      "C:\\Users\\krizh\\AppData\\Local\\Programs\\Python\\Python312\\Lib\\site-packages\\sklearn\\preprocessing\\_discretization.py:263: UserWarning: Feature 0 is constant and will be replaced with 0.\n",
      "  warnings.warn(\n"
     ]
    },
    {
     "name": "stdout",
     "output_type": "stream",
     "text": [
      "`Forecaster` refitted using the best-found lags and parameters, and the whole data set: \n",
      "  Lags: [ 1  2  3  4  5  6  7  8  9 10 11 12 13 14 15 16] \n",
      "  Parameters: {'n_estimators': 1000, 'max_depth': 5, 'min_data_in_leaf': 132, 'learning_rate': 0.28014423685061673, 'feature_fraction': 0.9, 'max_bin': 125, 'reg_alpha': 1.0, 'reg_lambda': 0.7000000000000001}\n",
      "  Backtesting metric: 0.07131611336300196\n",
      "\n"
     ]
    },
    {
     "name": "stderr",
     "output_type": "stream",
     "text": [
      "C:\\Users\\krizh\\AppData\\Local\\Programs\\Python\\Python312\\Lib\\site-packages\\sklearn\\preprocessing\\_discretization.py:263: UserWarning: Feature 0 is constant and will be replaced with 0.\n",
      "  warnings.warn(\n"
     ]
    },
    {
     "name": "stdout",
     "output_type": "stream",
     "text": [
      "Total data points: 4\n",
      "Data points within range: 0\n",
      "Predicted interval coverage assuming Gaussian distribution: 0.0%\n",
      "Total area of the interval: 170.1\n"
     ]
    },
    {
     "name": "stderr",
     "output_type": "stream",
     "text": [
      "C:\\Users\\krizh\\AppData\\Local\\Programs\\Python\\Python312\\Lib\\site-packages\\sklearn\\preprocessing\\_discretization.py:263: UserWarning: Feature 0 is constant and will be replaced with 0.\n",
      "  warnings.warn(\n"
     ]
    }
   ],
   "source": [
    "engine = skEnginePipeline(df, ['autoreg_lightgbm'], mode='all')"
   ]
  },
  {
   "cell_type": "code",
   "execution_count": 43,
   "id": "c751493e-25c3-40a1-95f6-bf5839ee3ad3",
   "metadata": {},
   "outputs": [
    {
     "data": {
      "text/plain": [
       "1"
      ]
     },
     "execution_count": 43,
     "metadata": {},
     "output_type": "execute_result"
    }
   ],
   "source": [
    "engine.status"
   ]
  },
  {
   "cell_type": "code",
   "execution_count": 44,
   "id": "ba3b54d9-526e-44c5-a13d-39191567682c",
   "metadata": {},
   "outputs": [
    {
     "data": {
      "text/plain": [
       "0.0787198089293487"
      ]
     },
     "execution_count": 44,
     "metadata": {},
     "output_type": "execute_result"
    }
   ],
   "source": [
    "engine.list_of_models[0].backtest_error"
   ]
  },
  {
   "cell_type": "code",
   "execution_count": 45,
   "id": "73bf2f91-72c0-4330-8c3d-42a3c0f8be23",
   "metadata": {},
   "outputs": [
    {
     "data": {
      "text/html": [
       "<div>\n",
       "<style scoped>\n",
       "    .dataframe tbody tr th:only-of-type {\n",
       "        vertical-align: middle;\n",
       "    }\n",
       "\n",
       "    .dataframe tbody tr th {\n",
       "        vertical-align: top;\n",
       "    }\n",
       "\n",
       "    .dataframe thead th {\n",
       "        text-align: right;\n",
       "    }\n",
       "</style>\n",
       "<table border=\"1\" class=\"dataframe\">\n",
       "  <thead>\n",
       "    <tr style=\"text-align: right;\">\n",
       "      <th></th>\n",
       "      <th>pred</th>\n",
       "      <th>lower_bound</th>\n",
       "      <th>upper_bound</th>\n",
       "    </tr>\n",
       "  </thead>\n",
       "  <tbody>\n",
       "    <tr>\n",
       "      <th>2024-11-21 14:41:00</th>\n",
       "      <td>1210.409033</td>\n",
       "      <td>1197.679628</td>\n",
       "      <td>1240.491562</td>\n",
       "    </tr>\n",
       "    <tr>\n",
       "      <th>2024-11-21 14:50:00</th>\n",
       "      <td>1210.409033</td>\n",
       "      <td>1198.111740</td>\n",
       "      <td>1205.639183</td>\n",
       "    </tr>\n",
       "    <tr>\n",
       "      <th>2024-11-21 14:59:00</th>\n",
       "      <td>1210.409033</td>\n",
       "      <td>1195.852914</td>\n",
       "      <td>1240.491562</td>\n",
       "    </tr>\n",
       "    <tr>\n",
       "      <th>2024-11-21 15:08:00</th>\n",
       "      <td>1210.409033</td>\n",
       "      <td>1195.852914</td>\n",
       "      <td>1205.639183</td>\n",
       "    </tr>\n",
       "  </tbody>\n",
       "</table>\n",
       "</div>"
      ],
      "text/plain": [
       "                            pred  lower_bound  upper_bound\n",
       "2024-11-21 14:41:00  1210.409033  1197.679628  1240.491562\n",
       "2024-11-21 14:50:00  1210.409033  1198.111740  1205.639183\n",
       "2024-11-21 14:59:00  1210.409033  1195.852914  1240.491562\n",
       "2024-11-21 15:08:00  1210.409033  1195.852914  1205.639183"
      ]
     },
     "execution_count": 45,
     "metadata": {},
     "output_type": "execute_result"
    }
   ],
   "source": [
    "engine.list_of_models[0].forecast"
   ]
  },
  {
   "cell_type": "code",
   "execution_count": null,
   "id": "7b939eb3-d866-4f61-8b63-76f14b3f6fa5",
   "metadata": {},
   "outputs": [],
   "source": []
  }
 ],
 "metadata": {
  "kernelspec": {
   "display_name": "Python 3 (ipykernel)",
   "language": "python",
   "name": "python3"
  },
  "language_info": {
   "codemirror_mode": {
    "name": "ipython",
    "version": 3
   },
   "file_extension": ".py",
   "mimetype": "text/x-python",
   "name": "python",
   "nbconvert_exporter": "python",
   "pygments_lexer": "ipython3",
   "version": "3.12.6"
  }
 },
 "nbformat": 4,
 "nbformat_minor": 5
}
