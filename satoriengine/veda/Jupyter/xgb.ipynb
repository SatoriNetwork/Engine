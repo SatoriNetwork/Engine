{
 "cells": [
  {
   "cell_type": "code",
<<<<<<< HEAD
   "execution_count": 1,
=======
<<<<<<< HEAD
<<<<<<< HEAD:satoriengine/veda/Jupyter/xgb.ipynb
   "execution_count": 236,
=======
   "execution_count": 1,
>>>>>>> krishna_exp:satoriengine/framework/Jupyter/xgb.ipynb
=======
   "execution_count": 1,
>>>>>>> krishna
>>>>>>> meta
   "id": "0311d3d3-fba1-4799-8922-965521074a06",
   "metadata": {},
   "outputs": [],
   "source": [
    "import sys\n",
    "sys.path.append('./aienginepackages')\n",
    "\n",
    "import pandas as pd\n",
    "import numpy as np\n",
    "from aienginepackages import process_data, determine_feature_set"
   ]
  },
  {
   "cell_type": "code",
<<<<<<< HEAD
   "execution_count": 2,
=======
<<<<<<< HEAD
<<<<<<< HEAD:satoriengine/veda/Jupyter/xgb.ipynb
   "execution_count": 237,
=======
   "execution_count": 2,
>>>>>>> krishna_exp:satoriengine/framework/Jupyter/xgb.ipynb
=======
   "execution_count": 2,
>>>>>>> krishna
>>>>>>> meta
   "id": "e22c9464-0c99-423d-a1aa-d260e954f332",
   "metadata": {},
   "outputs": [],
   "source": [
    "from xgboost import XGBRegressor\n",
    "\n",
    "from sklearn.metrics import mean_absolute_error\n",
    "from sklearn.model_selection import train_test_split\n",
    "\n",
    "import pandas as pd"
   ]
  },
  {
   "cell_type": "code",
<<<<<<< HEAD
=======
<<<<<<< HEAD
<<<<<<< HEAD:satoriengine/veda/Jupyter/xgb.ipynb
   "execution_count": 238,
=======
=======
>>>>>>> krishna
>>>>>>> meta
   "execution_count": 3,
   "id": "684259aa-300e-45a3-add4-e6e49c62f45c",
   "metadata": {},
   "outputs": [],
   "source": [
    "from joblib import dump, load"
   ]
  },
  {
   "cell_type": "code",
<<<<<<< HEAD
   "execution_count": 3,
=======
<<<<<<< HEAD
   "execution_count": 4,
>>>>>>> krishna_exp:satoriengine/framework/Jupyter/xgb.ipynb
=======
   "execution_count": 3,
>>>>>>> krishna
>>>>>>> meta
   "id": "f888be5b-9270-42dd-b968-c27f79133388",
   "metadata": {},
   "outputs": [],
   "source": [
    "def prepare_time_features(dates):\n",
    "    \"\"\"Convert datetime series into numeric features for XGBoost\"\"\"\n",
    "    df = pd.DataFrame({'date_time': pd.to_datetime(dates)})\n",
    "    \n",
    "    # Extract useful time features\n",
    "    df['hour'] = df['date_time'].dt.hour\n",
    "    df['day'] = df['date_time'].dt.day\n",
    "    df['month'] = df['date_time'].dt.month\n",
    "    df['year'] = df['date_time'].dt.year\n",
    "    df['day_of_week'] = df['date_time'].dt.dayofweek\n",
    "    \n",
    "    # Return features without datetime column\n",
    "    return df.drop('date_time', axis=1)"
   ]
  },
  {
   "cell_type": "code",
<<<<<<< HEAD
   "execution_count": 4,
=======
<<<<<<< HEAD
<<<<<<< HEAD:satoriengine/veda/Jupyter/xgb.ipynb
   "execution_count": 239,
=======
   "execution_count": 5,
>>>>>>> krishna_exp:satoriengine/framework/Jupyter/xgb.ipynb
=======
   "execution_count": 4,
>>>>>>> krishna
>>>>>>> meta
   "id": "7eafbfb4-56f2-4cd0-91ef-24806de30d38",
   "metadata": {},
   "outputs": [],
   "source": [
    "# import pandas as pd\n",
    "# from xgboost import XGBRegressor\n",
    "# from sklearn.preprocessing import LabelEncoder\n",
    "\n",
    "# # Convert datetime to numeric features\n",
    "# def prepare_time_features(df):\n",
    "#     \"\"\"\n",
    "#     Convert datetime index into useful numeric features for XGBoost\n",
    "#     \"\"\"\n",
    "#     # Convert to pandas datetime if not already\n",
    "#     df['date_time'] = pd.to_datetime(df['date_time'])\n",
    "    \n",
    "#     # Extract useful time features\n",
    "#     df['hour'] = df['date_time'].dt.hour\n",
    "#     df['day'] = df['date_time'].dt.day\n",
    "#     df['month'] = df['date_time'].dt.month\n",
    "#     df['year'] = df['date_time'].dt.year\n",
    "#     df['day_of_week'] = df['date_time'].dt.dayofweek\n",
    "    \n",
    "#     # Drop original datetime column\n",
    "#     return df.drop('date_time', axis=1)\n",
    "\n",
    "# # Prepare your data\n",
    "# train_data = pd.DataFrame({\n",
    "#     'date_time': train_x,\n",
    "#     'value': train_y\n",
    "# })\n",
    "\n",
    "# test_data = pd.DataFrame({\n",
    "#     'date_time': test_x,\n",
    "#     'value': test_y\n",
    "# })\n",
    "\n",
    "# # Create features\n",
    "# train_features = prepare_time_features(train_data)\n",
    "# test_features = prepare_time_features(test_data)\n",
    "\n",
    "# # Separate features and target\n",
    "# X_train = train_features.drop('value', axis=1)\n",
    "# y_train = train_features['value']\n",
    "# X_test = test_features.drop('value', axis=1)\n",
    "# y_test = test_features['value']\n",
    "\n",
    "# # Train model\n",
    "# # xgb_model = XGBRegressor(eval_metric='mae')\n",
    "# # xgb_model.fit(\n",
    "# #     X_train,\n",
    "# #     y_train,\n",
    "# #     eval_set=[(X_train, y_train), (X_test, y_test)],\n",
    "# #     verbose=False\n",
    "# # )"
   ]
  },
  {
   "cell_type": "code",
<<<<<<< HEAD
   "execution_count": 5,
=======
<<<<<<< HEAD
<<<<<<< HEAD:satoriengine/veda/Jupyter/xgb.ipynb
   "execution_count": 240,
=======
   "execution_count": 6,
>>>>>>> krishna_exp:satoriengine/framework/Jupyter/xgb.ipynb
=======
   "execution_count": 5,
>>>>>>> krishna
>>>>>>> meta
   "id": "b32f810d-b27c-492d-89c2-ca59faad95fb",
   "metadata": {},
   "outputs": [],
   "source": [
    "def _prep_params():\n",
    "        \"\"\"\n",
    "        Generates randomized hyperparameters for XGBoost within reasonable ranges.\n",
    "        Returns a dictionary of hyperparameters.\n",
    "        \"\"\"\n",
    "        param_ranges = {\n",
    "            'n_estimators': (100, 1000),  \n",
    "            'max_depth': (3, 10),        \n",
    "            'learning_rate': (0.01, 0.3), \n",
    "            'subsample': (0.6, 1.0),     \n",
    "            'colsample_bytree': (0.6, 1.0), \n",
    "            'min_child_weight': (1, 7),    \n",
    "            'gamma': (0, 0.5),            \n",
    "        }\n",
    "        \n",
    "        # Initialize parameters dictionary with random values\n",
    "        params = {\n",
    "            'random_state': np.random.randint(0, 10000),  # Random seed\n",
    "            'eval_metric': 'mae',\n",
    "            # Randomly sample continuous parameters\n",
    "            'learning_rate': np.random.uniform(\n",
    "                param_ranges['learning_rate'][0],\n",
    "                param_ranges['learning_rate'][1]\n",
    "            ),\n",
    "            'subsample': np.random.uniform(\n",
    "                param_ranges['subsample'][0],\n",
    "                param_ranges['subsample'][1]\n",
    "            ),\n",
    "            'colsample_bytree': np.random.uniform(\n",
    "                param_ranges['colsample_bytree'][0],\n",
    "                param_ranges['colsample_bytree'][1]\n",
    "            ),\n",
    "            'gamma': np.random.uniform(\n",
    "                param_ranges['gamma'][0],\n",
    "                param_ranges['gamma'][1]\n",
    "            ),\n",
    "            \n",
    "            # Randomly sample integer parameters\n",
    "            'n_estimators': np.random.randint(\n",
    "                param_ranges['n_estimators'][0],\n",
    "                param_ranges['n_estimators'][1]\n",
    "            ),\n",
    "            'max_depth': np.random.randint(\n",
    "                param_ranges['max_depth'][0],\n",
    "                param_ranges['max_depth'][1]\n",
    "            ),\n",
    "            'min_child_weight': np.random.randint(\n",
    "                param_ranges['min_child_weight'][0],\n",
    "                param_ranges['min_child_weight'][1]\n",
    "            ),\n",
    "        }\n",
    "        \n",
    "        return params"
   ]
  },
  {
   "cell_type": "code",
<<<<<<< HEAD
   "execution_count": 6,
=======
<<<<<<< HEAD
<<<<<<< HEAD:satoriengine/veda/Jupyter/xgb.ipynb
   "execution_count": 241,
=======
   "execution_count": 7,
>>>>>>> krishna_exp:satoriengine/framework/Jupyter/xgb.ipynb
=======
   "execution_count": 6,
>>>>>>> krishna
>>>>>>> meta
   "id": "d1f40dd7-efea-4e1a-b7cb-a0e831eb5666",
   "metadata": {},
   "outputs": [],
   "source": [
    "df = pd.read_csv('datasets/aggregate.csv', names=['date_time', 'value','id'])"
   ]
  },
  {
   "cell_type": "code",
<<<<<<< HEAD
   "execution_count": 7,
=======
<<<<<<< HEAD
<<<<<<< HEAD:satoriengine/veda/Jupyter/xgb.ipynb
   "execution_count": 242,
=======
   "execution_count": 8,
>>>>>>> krishna_exp:satoriengine/framework/Jupyter/xgb.ipynb
=======
   "execution_count": 7,
>>>>>>> krishna
>>>>>>> meta
   "id": "f9211b4f-1c2a-47a0-bede-35669ebcb719",
   "metadata": {},
   "outputs": [],
   "source": [
    "#Process_Data\n",
    "proc_data = process_data(df, quick_start=False)\n",
    "train_x, test_x, train_y, test_y = train_test_split(\n",
    "            proc_data.dataset.index.values, proc_data.dataset['value'], test_size=0.2, shuffle=False\n",
    "            )\n"
   ]
  },
  {
   "cell_type": "code",
<<<<<<< HEAD
   "execution_count": null,
   "id": "d8e97a47-9b26-45d9-aa31-3a89f29cba5b",
   "metadata": {},
   "outputs": [],
=======
<<<<<<< HEAD
<<<<<<< HEAD:satoriengine/veda/Jupyter/xgb.ipynb
   "execution_count": 243,
   "id": "d8e97a47-9b26-45d9-aa31-3a89f29cba5b",
   "metadata": {},
   "outputs": [
    {
     "data": {
      "text/plain": [
       "numpy.ndarray"
      ]
     },
     "execution_count": 243,
     "metadata": {},
     "output_type": "execute_result"
    }
   ],
=======
   "execution_count": null,
   "id": "d8e97a47-9b26-45d9-aa31-3a89f29cba5b",
   "metadata": {},
   "outputs": [],
>>>>>>> krishna_exp:satoriengine/framework/Jupyter/xgb.ipynb
=======
   "execution_count": null,
   "id": "d8e97a47-9b26-45d9-aa31-3a89f29cba5b",
   "metadata": {},
   "outputs": [],
>>>>>>> krishna
>>>>>>> meta
   "source": [
    "type(train_x)"
   ]
  },
  {
   "cell_type": "code",
<<<<<<< HEAD
   "execution_count": 8,
=======
<<<<<<< HEAD
<<<<<<< HEAD:satoriengine/veda/Jupyter/xgb.ipynb
   "execution_count": 244,
=======
   "execution_count": 9,
>>>>>>> krishna_exp:satoriengine/framework/Jupyter/xgb.ipynb
=======
   "execution_count": 8,
>>>>>>> krishna
>>>>>>> meta
   "id": "0bca64eb-9ff7-496f-a114-912c42bd1405",
   "metadata": {},
   "outputs": [],
   "source": [
    "X_train = prepare_time_features(train_x)\n",
    "X_test = prepare_time_features(test_x)\n",
    "y_train = train_y\n",
    "y_test = test_y"
   ]
  },
  {
   "cell_type": "code",
<<<<<<< HEAD
   "execution_count": null,
   "id": "8c0c7287-59bf-4b51-91da-2564ca384883",
   "metadata": {},
   "outputs": [],
=======
<<<<<<< HEAD
<<<<<<< HEAD:satoriengine/veda/Jupyter/xgb.ipynb
   "execution_count": 245,
   "id": "8c0c7287-59bf-4b51-91da-2564ca384883",
   "metadata": {},
   "outputs": [
    {
     "data": {
      "text/plain": [
       "pandas.core.frame.DataFrame"
      ]
     },
     "execution_count": 245,
     "metadata": {},
     "output_type": "execute_result"
    }
   ],
=======
   "execution_count": null,
   "id": "8c0c7287-59bf-4b51-91da-2564ca384883",
   "metadata": {},
   "outputs": [],
>>>>>>> krishna_exp:satoriengine/framework/Jupyter/xgb.ipynb
=======
   "execution_count": null,
   "id": "8c0c7287-59bf-4b51-91da-2564ca384883",
   "metadata": {},
   "outputs": [],
>>>>>>> krishna
>>>>>>> meta
   "source": [
    "type(X_train)"
   ]
  },
  {
   "cell_type": "code",
<<<<<<< HEAD
   "execution_count": 9,
=======
<<<<<<< HEAD
<<<<<<< HEAD:satoriengine/veda/Jupyter/xgb.ipynb
   "execution_count": 246,
=======
   "execution_count": 17,
>>>>>>> krishna_exp:satoriengine/framework/Jupyter/xgb.ipynb
=======
   "execution_count": 9,
>>>>>>> krishna
>>>>>>> meta
   "id": "6d8a66af-c1ff-464c-8da6-8033d30d4881",
   "metadata": {},
   "outputs": [],
   "source": [
    "hyperparameters = _prep_params()"
   ]
  },
  {
   "cell_type": "code",
<<<<<<< HEAD
   "execution_count": null,
   "id": "7cd68b40-cc45-4018-a3eb-60ab4460fc36",
   "metadata": {},
   "outputs": [],
=======
<<<<<<< HEAD
<<<<<<< HEAD:satoriengine/veda/Jupyter/xgb.ipynb
   "execution_count": 230,
   "id": "7cd68b40-cc45-4018-a3eb-60ab4460fc36",
   "metadata": {},
   "outputs": [
    {
     "data": {
      "text/plain": [
       "dict"
      ]
     },
     "execution_count": 230,
     "metadata": {},
     "output_type": "execute_result"
    }
   ],
=======
   "execution_count": null,
   "id": "7cd68b40-cc45-4018-a3eb-60ab4460fc36",
   "metadata": {},
   "outputs": [],
>>>>>>> krishna_exp:satoriengine/framework/Jupyter/xgb.ipynb
=======
   "execution_count": null,
   "id": "7cd68b40-cc45-4018-a3eb-60ab4460fc36",
   "metadata": {},
   "outputs": [],
>>>>>>> krishna
>>>>>>> meta
   "source": [
    "type(hyperparameters)"
   ]
  },
  {
   "cell_type": "code",
<<<<<<< HEAD
   "execution_count": 10,
=======
<<<<<<< HEAD
<<<<<<< HEAD:satoriengine/veda/Jupyter/xgb.ipynb
   "execution_count": 247,
=======
   "execution_count": 18,
>>>>>>> krishna_exp:satoriengine/framework/Jupyter/xgb.ipynb
=======
   "execution_count": 10,
>>>>>>> krishna
>>>>>>> meta
   "id": "d7ec8686-9501-4f3b-b88d-5d8e42a1a3e0",
   "metadata": {},
   "outputs": [],
   "source": [
    "xgb_model = XGBRegressor(**hyperparameters)"
   ]
  },
  {
   "cell_type": "code",
<<<<<<< HEAD
=======
<<<<<<< HEAD
<<<<<<< HEAD:satoriengine/veda/Jupyter/xgb.ipynb
   "execution_count": 199,
=======
=======
>>>>>>> krishna
>>>>>>> meta
   "execution_count": null,
   "id": "4af06a35-96ed-421a-b858-42bec911cb0f",
   "metadata": {},
   "outputs": [],
   "source": [
    "model_filename = 'xgboost_model.joblib'\n",
    "dump(xgb_model, model_filename)"
   ]
  },
  {
   "cell_type": "code",
   "execution_count": null,
   "id": "eba86254-58e7-495d-a40c-b3b02db81d17",
   "metadata": {},
   "outputs": [],
   "source": [
    "xgb_model"
   ]
  },
  {
   "cell_type": "code",
   "execution_count": null,
   "id": "6f224db9-e2a6-4774-b4dc-a2ebf64208af",
   "metadata": {},
   "outputs": [],
   "source": [
    "xgb_model"
   ]
  },
  {
   "cell_type": "code",
   "execution_count": null,
   "id": "0a9b7ba2-6a7e-43c6-a058-52f1395c89af",
   "metadata": {},
   "outputs": [],
   "source": [
    "loaded_model = load('xgboost_model.joblib')"
   ]
  },
  {
   "cell_type": "code",
   "execution_count": null,
<<<<<<< HEAD
=======
<<<<<<< HEAD
>>>>>>> krishna_exp:satoriengine/framework/Jupyter/xgb.ipynb
=======
>>>>>>> krishna
>>>>>>> meta
   "id": "0dfe6e9e-8407-4e78-b0dd-5e0f962f01a4",
   "metadata": {},
   "outputs": [],
   "source": [
    "xgb_model = XGBRegressor(eval_metric='mae')"
   ]
  },
  {
   "cell_type": "code",
<<<<<<< HEAD
   "execution_count": null,
=======
<<<<<<< HEAD
<<<<<<< HEAD:satoriengine/veda/Jupyter/xgb.ipynb
   "execution_count": 196,
=======
   "execution_count": null,
>>>>>>> krishna_exp:satoriengine/framework/Jupyter/xgb.ipynb
=======
   "execution_count": null,
>>>>>>> krishna
>>>>>>> meta
   "id": "32b81c6c-b0f9-4e00-bbb7-79c040587b29",
   "metadata": {},
   "outputs": [],
   "source": [
    "xgb_model = XGBRegressor(\n",
    "    # Tree-specific parameters\n",
    "    max_depth=6,          # Maximum depth of trees (3-10)\n",
    "    min_child_weight=1,   # Minimum sum of instance weight in a child (1-10)\n",
    "    gamma=0,              # Minimum loss reduction for split (0-1)\n",
    "    \n",
    "    # # Boosting parameters\n",
    "    learning_rate=0.1,    # Learning rate/eta (0.01-0.3)\n",
    "    n_estimators=100,     # Number of trees/boosting rounds (50-2000)\n",
    "    subsample=0.8,        # Fraction of samples used for tree building (0.5-1)\n",
    "    colsample_bytree=0.8, # Fraction of features used for tree building (0.5-1)\n",
    "    \n",
    "    # # Regularization parameters\n",
    "    reg_alpha=0,          # L1 regularization (0-1)\n",
    "    reg_lambda=1,         # L2 regularization (0-1)\n",
    "    \n",
    "    # # Other parameters\n",
    "    random_state=42,      # For reproducibility\n",
    "    eval_metric='mae',    # Evaluation metric\n",
    "    early_stopping_rounds=10  # Stop if no improvement after N rounds\n",
    ")"
   ]
  },
  {
   "cell_type": "code",
<<<<<<< HEAD
   "execution_count": 11,
=======
<<<<<<< HEAD
<<<<<<< HEAD:satoriengine/veda/Jupyter/xgb.ipynb
   "execution_count": 249,
=======
   "execution_count": 19,
>>>>>>> krishna_exp:satoriengine/framework/Jupyter/xgb.ipynb
=======
   "execution_count": 11,
>>>>>>> krishna
>>>>>>> meta
   "id": "bc233e3d-673a-4c8a-8ae1-b40b1e57983d",
   "metadata": {},
   "outputs": [
    {
     "data": {
      "text/html": [
<<<<<<< HEAD
       "<style>#sk-container-id-1 {\n",
=======
<<<<<<< HEAD
<<<<<<< HEAD:satoriengine/veda/Jupyter/xgb.ipynb
       "<style>#sk-container-id-23 {\n",
=======
       "<style>#sk-container-id-2 {\n",
>>>>>>> krishna_exp:satoriengine/framework/Jupyter/xgb.ipynb
=======
       "<style>#sk-container-id-1 {\n",
>>>>>>> krishna
>>>>>>> meta
       "  /* Definition of color scheme common for light and dark mode */\n",
       "  --sklearn-color-text: black;\n",
       "  --sklearn-color-line: gray;\n",
       "  /* Definition of color scheme for unfitted estimators */\n",
       "  --sklearn-color-unfitted-level-0: #fff5e6;\n",
       "  --sklearn-color-unfitted-level-1: #f6e4d2;\n",
       "  --sklearn-color-unfitted-level-2: #ffe0b3;\n",
       "  --sklearn-color-unfitted-level-3: chocolate;\n",
       "  /* Definition of color scheme for fitted estimators */\n",
       "  --sklearn-color-fitted-level-0: #f0f8ff;\n",
       "  --sklearn-color-fitted-level-1: #d4ebff;\n",
       "  --sklearn-color-fitted-level-2: #b3dbfd;\n",
       "  --sklearn-color-fitted-level-3: cornflowerblue;\n",
       "\n",
       "  /* Specific color for light theme */\n",
       "  --sklearn-color-text-on-default-background: var(--sg-text-color, var(--theme-code-foreground, var(--jp-content-font-color1, black)));\n",
       "  --sklearn-color-background: var(--sg-background-color, var(--theme-background, var(--jp-layout-color0, white)));\n",
       "  --sklearn-color-border-box: var(--sg-text-color, var(--theme-code-foreground, var(--jp-content-font-color1, black)));\n",
       "  --sklearn-color-icon: #696969;\n",
       "\n",
       "  @media (prefers-color-scheme: dark) {\n",
       "    /* Redefinition of color scheme for dark theme */\n",
       "    --sklearn-color-text-on-default-background: var(--sg-text-color, var(--theme-code-foreground, var(--jp-content-font-color1, white)));\n",
       "    --sklearn-color-background: var(--sg-background-color, var(--theme-background, var(--jp-layout-color0, #111)));\n",
       "    --sklearn-color-border-box: var(--sg-text-color, var(--theme-code-foreground, var(--jp-content-font-color1, white)));\n",
       "    --sklearn-color-icon: #878787;\n",
       "  }\n",
       "}\n",
       "\n",
<<<<<<< HEAD
       "#sk-container-id-1 {\n",
=======
<<<<<<< HEAD
<<<<<<< HEAD:satoriengine/veda/Jupyter/xgb.ipynb
       "#sk-container-id-23 {\n",
=======
       "#sk-container-id-1 {\n",
>>>>>>> krishna
>>>>>>> meta
       "  color: var(--sklearn-color-text);\n",
       "}\n",
       "\n",
       "#sk-container-id-1 pre {\n",
       "  padding: 0;\n",
       "}\n",
       "\n",
<<<<<<< HEAD
       "#sk-container-id-1 input.sk-hidden--visually {\n",
=======
<<<<<<< HEAD
       "#sk-container-id-23 input.sk-hidden--visually {\n",
=======
       "#sk-container-id-2 {\n",
       "  color: var(--sklearn-color-text);\n",
       "}\n",
       "\n",
       "#sk-container-id-2 pre {\n",
       "  padding: 0;\n",
       "}\n",
       "\n",
       "#sk-container-id-2 input.sk-hidden--visually {\n",
>>>>>>> krishna_exp:satoriengine/framework/Jupyter/xgb.ipynb
=======
       "#sk-container-id-1 input.sk-hidden--visually {\n",
>>>>>>> krishna
>>>>>>> meta
       "  border: 0;\n",
       "  clip: rect(1px 1px 1px 1px);\n",
       "  clip: rect(1px, 1px, 1px, 1px);\n",
       "  height: 1px;\n",
       "  margin: -1px;\n",
       "  overflow: hidden;\n",
       "  padding: 0;\n",
       "  position: absolute;\n",
       "  width: 1px;\n",
       "}\n",
       "\n",
<<<<<<< HEAD
       "#sk-container-id-1 div.sk-dashed-wrapped {\n",
=======
<<<<<<< HEAD
<<<<<<< HEAD:satoriengine/veda/Jupyter/xgb.ipynb
       "#sk-container-id-23 div.sk-dashed-wrapped {\n",
=======
       "#sk-container-id-2 div.sk-dashed-wrapped {\n",
>>>>>>> krishna_exp:satoriengine/framework/Jupyter/xgb.ipynb
=======
       "#sk-container-id-1 div.sk-dashed-wrapped {\n",
>>>>>>> krishna
>>>>>>> meta
       "  border: 1px dashed var(--sklearn-color-line);\n",
       "  margin: 0 0.4em 0.5em 0.4em;\n",
       "  box-sizing: border-box;\n",
       "  padding-bottom: 0.4em;\n",
       "  background-color: var(--sklearn-color-background);\n",
       "}\n",
       "\n",
<<<<<<< HEAD
       "#sk-container-id-1 div.sk-container {\n",
=======
<<<<<<< HEAD
<<<<<<< HEAD:satoriengine/veda/Jupyter/xgb.ipynb
       "#sk-container-id-23 div.sk-container {\n",
=======
       "#sk-container-id-2 div.sk-container {\n",
>>>>>>> krishna_exp:satoriengine/framework/Jupyter/xgb.ipynb
=======
       "#sk-container-id-1 div.sk-container {\n",
>>>>>>> krishna
>>>>>>> meta
       "  /* jupyter's `normalize.less` sets `[hidden] { display: none; }`\n",
       "     but bootstrap.min.css set `[hidden] { display: none !important; }`\n",
       "     so we also need the `!important` here to be able to override the\n",
       "     default hidden behavior on the sphinx rendered scikit-learn.org.\n",
       "     See: https://github.com/scikit-learn/scikit-learn/issues/21755 */\n",
       "  display: inline-block !important;\n",
       "  position: relative;\n",
       "}\n",
       "\n",
<<<<<<< HEAD
       "#sk-container-id-1 div.sk-text-repr-fallback {\n",
=======
<<<<<<< HEAD
<<<<<<< HEAD:satoriengine/veda/Jupyter/xgb.ipynb
       "#sk-container-id-23 div.sk-text-repr-fallback {\n",
=======
       "#sk-container-id-2 div.sk-text-repr-fallback {\n",
>>>>>>> krishna_exp:satoriengine/framework/Jupyter/xgb.ipynb
=======
       "#sk-container-id-1 div.sk-text-repr-fallback {\n",
>>>>>>> krishna
>>>>>>> meta
       "  display: none;\n",
       "}\n",
       "\n",
       "div.sk-parallel-item,\n",
       "div.sk-serial,\n",
       "div.sk-item {\n",
       "  /* draw centered vertical line to link estimators */\n",
       "  background-image: linear-gradient(var(--sklearn-color-text-on-default-background), var(--sklearn-color-text-on-default-background));\n",
       "  background-size: 2px 100%;\n",
       "  background-repeat: no-repeat;\n",
       "  background-position: center center;\n",
       "}\n",
       "\n",
       "/* Parallel-specific style estimator block */\n",
       "\n",
<<<<<<< HEAD
       "#sk-container-id-1 div.sk-parallel-item::after {\n",
=======
<<<<<<< HEAD
<<<<<<< HEAD:satoriengine/veda/Jupyter/xgb.ipynb
       "#sk-container-id-23 div.sk-parallel-item::after {\n",
=======
       "#sk-container-id-2 div.sk-parallel-item::after {\n",
>>>>>>> krishna_exp:satoriengine/framework/Jupyter/xgb.ipynb
=======
       "#sk-container-id-1 div.sk-parallel-item::after {\n",
>>>>>>> krishna
>>>>>>> meta
       "  content: \"\";\n",
       "  width: 100%;\n",
       "  border-bottom: 2px solid var(--sklearn-color-text-on-default-background);\n",
       "  flex-grow: 1;\n",
       "}\n",
       "\n",
<<<<<<< HEAD
       "#sk-container-id-1 div.sk-parallel {\n",
=======
<<<<<<< HEAD
<<<<<<< HEAD:satoriengine/veda/Jupyter/xgb.ipynb
       "#sk-container-id-23 div.sk-parallel {\n",
=======
       "#sk-container-id-2 div.sk-parallel {\n",
>>>>>>> krishna_exp:satoriengine/framework/Jupyter/xgb.ipynb
=======
       "#sk-container-id-1 div.sk-parallel {\n",
>>>>>>> krishna
>>>>>>> meta
       "  display: flex;\n",
       "  align-items: stretch;\n",
       "  justify-content: center;\n",
       "  background-color: var(--sklearn-color-background);\n",
       "  position: relative;\n",
       "}\n",
       "\n",
<<<<<<< HEAD
       "#sk-container-id-1 div.sk-parallel-item {\n",
=======
<<<<<<< HEAD
<<<<<<< HEAD:satoriengine/veda/Jupyter/xgb.ipynb
       "#sk-container-id-23 div.sk-parallel-item {\n",
=======
       "#sk-container-id-2 div.sk-parallel-item {\n",
>>>>>>> krishna_exp:satoriengine/framework/Jupyter/xgb.ipynb
=======
       "#sk-container-id-1 div.sk-parallel-item {\n",
>>>>>>> krishna
>>>>>>> meta
       "  display: flex;\n",
       "  flex-direction: column;\n",
       "}\n",
       "\n",
<<<<<<< HEAD
       "#sk-container-id-1 div.sk-parallel-item:first-child::after {\n",
=======
<<<<<<< HEAD
<<<<<<< HEAD:satoriengine/veda/Jupyter/xgb.ipynb
       "#sk-container-id-23 div.sk-parallel-item:first-child::after {\n",
=======
       "#sk-container-id-2 div.sk-parallel-item:first-child::after {\n",
>>>>>>> krishna_exp:satoriengine/framework/Jupyter/xgb.ipynb
=======
       "#sk-container-id-1 div.sk-parallel-item:first-child::after {\n",
>>>>>>> krishna
>>>>>>> meta
       "  align-self: flex-end;\n",
       "  width: 50%;\n",
       "}\n",
       "\n",
<<<<<<< HEAD
       "#sk-container-id-1 div.sk-parallel-item:last-child::after {\n",
=======
<<<<<<< HEAD
<<<<<<< HEAD:satoriengine/veda/Jupyter/xgb.ipynb
       "#sk-container-id-23 div.sk-parallel-item:last-child::after {\n",
=======
       "#sk-container-id-2 div.sk-parallel-item:last-child::after {\n",
>>>>>>> krishna_exp:satoriengine/framework/Jupyter/xgb.ipynb
=======
       "#sk-container-id-1 div.sk-parallel-item:last-child::after {\n",
>>>>>>> krishna
>>>>>>> meta
       "  align-self: flex-start;\n",
       "  width: 50%;\n",
       "}\n",
       "\n",
<<<<<<< HEAD
       "#sk-container-id-1 div.sk-parallel-item:only-child::after {\n",
=======
<<<<<<< HEAD
<<<<<<< HEAD:satoriengine/veda/Jupyter/xgb.ipynb
       "#sk-container-id-23 div.sk-parallel-item:only-child::after {\n",
=======
       "#sk-container-id-2 div.sk-parallel-item:only-child::after {\n",
>>>>>>> krishna_exp:satoriengine/framework/Jupyter/xgb.ipynb
=======
       "#sk-container-id-1 div.sk-parallel-item:only-child::after {\n",
>>>>>>> krishna
>>>>>>> meta
       "  width: 0;\n",
       "}\n",
       "\n",
       "/* Serial-specific style estimator block */\n",
       "\n",
<<<<<<< HEAD
       "#sk-container-id-1 div.sk-serial {\n",
=======
<<<<<<< HEAD
<<<<<<< HEAD:satoriengine/veda/Jupyter/xgb.ipynb
       "#sk-container-id-23 div.sk-serial {\n",
=======
       "#sk-container-id-2 div.sk-serial {\n",
>>>>>>> krishna_exp:satoriengine/framework/Jupyter/xgb.ipynb
=======
       "#sk-container-id-1 div.sk-serial {\n",
>>>>>>> krishna
>>>>>>> meta
       "  display: flex;\n",
       "  flex-direction: column;\n",
       "  align-items: center;\n",
       "  background-color: var(--sklearn-color-background);\n",
       "  padding-right: 1em;\n",
       "  padding-left: 1em;\n",
       "}\n",
       "\n",
       "\n",
       "/* Toggleable style: style used for estimator/Pipeline/ColumnTransformer box that is\n",
       "clickable and can be expanded/collapsed.\n",
       "- Pipeline and ColumnTransformer use this feature and define the default style\n",
       "- Estimators will overwrite some part of the style using the `sk-estimator` class\n",
       "*/\n",
       "\n",
       "/* Pipeline and ColumnTransformer style (default) */\n",
       "\n",
<<<<<<< HEAD
       "#sk-container-id-1 div.sk-toggleable {\n",
=======
<<<<<<< HEAD
<<<<<<< HEAD:satoriengine/veda/Jupyter/xgb.ipynb
       "#sk-container-id-23 div.sk-toggleable {\n",
=======
       "#sk-container-id-2 div.sk-toggleable {\n",
>>>>>>> krishna_exp:satoriengine/framework/Jupyter/xgb.ipynb
=======
       "#sk-container-id-1 div.sk-toggleable {\n",
>>>>>>> krishna
>>>>>>> meta
       "  /* Default theme specific background. It is overwritten whether we have a\n",
       "  specific estimator or a Pipeline/ColumnTransformer */\n",
       "  background-color: var(--sklearn-color-background);\n",
       "}\n",
       "\n",
       "/* Toggleable label */\n",
<<<<<<< HEAD
       "#sk-container-id-1 label.sk-toggleable__label {\n",
=======
<<<<<<< HEAD
<<<<<<< HEAD:satoriengine/veda/Jupyter/xgb.ipynb
       "#sk-container-id-23 label.sk-toggleable__label {\n",
=======
       "#sk-container-id-2 label.sk-toggleable__label {\n",
>>>>>>> krishna_exp:satoriengine/framework/Jupyter/xgb.ipynb
=======
       "#sk-container-id-1 label.sk-toggleable__label {\n",
>>>>>>> krishna
>>>>>>> meta
       "  cursor: pointer;\n",
       "  display: block;\n",
       "  width: 100%;\n",
       "  margin-bottom: 0;\n",
       "  padding: 0.5em;\n",
       "  box-sizing: border-box;\n",
       "  text-align: center;\n",
       "}\n",
       "\n",
<<<<<<< HEAD
       "#sk-container-id-1 label.sk-toggleable__label-arrow:before {\n",
=======
<<<<<<< HEAD
<<<<<<< HEAD:satoriengine/veda/Jupyter/xgb.ipynb
       "#sk-container-id-23 label.sk-toggleable__label-arrow:before {\n",
=======
       "#sk-container-id-2 label.sk-toggleable__label-arrow:before {\n",
>>>>>>> krishna_exp:satoriengine/framework/Jupyter/xgb.ipynb
=======
       "#sk-container-id-1 label.sk-toggleable__label-arrow:before {\n",
>>>>>>> krishna
>>>>>>> meta
       "  /* Arrow on the left of the label */\n",
       "  content: \"▸\";\n",
       "  float: left;\n",
       "  margin-right: 0.25em;\n",
       "  color: var(--sklearn-color-icon);\n",
       "}\n",
       "\n",
<<<<<<< HEAD
       "#sk-container-id-1 label.sk-toggleable__label-arrow:hover:before {\n",
=======
<<<<<<< HEAD
<<<<<<< HEAD:satoriengine/veda/Jupyter/xgb.ipynb
       "#sk-container-id-23 label.sk-toggleable__label-arrow:hover:before {\n",
=======
       "#sk-container-id-2 label.sk-toggleable__label-arrow:hover:before {\n",
>>>>>>> krishna_exp:satoriengine/framework/Jupyter/xgb.ipynb
=======
       "#sk-container-id-1 label.sk-toggleable__label-arrow:hover:before {\n",
>>>>>>> krishna
>>>>>>> meta
       "  color: var(--sklearn-color-text);\n",
       "}\n",
       "\n",
       "/* Toggleable content - dropdown */\n",
       "\n",
<<<<<<< HEAD
       "#sk-container-id-1 div.sk-toggleable__content {\n",
=======
<<<<<<< HEAD
<<<<<<< HEAD:satoriengine/veda/Jupyter/xgb.ipynb
       "#sk-container-id-23 div.sk-toggleable__content {\n",
=======
       "#sk-container-id-2 div.sk-toggleable__content {\n",
>>>>>>> krishna_exp:satoriengine/framework/Jupyter/xgb.ipynb
=======
       "#sk-container-id-1 div.sk-toggleable__content {\n",
>>>>>>> krishna
>>>>>>> meta
       "  max-height: 0;\n",
       "  max-width: 0;\n",
       "  overflow: hidden;\n",
       "  text-align: left;\n",
       "  /* unfitted */\n",
       "  background-color: var(--sklearn-color-unfitted-level-0);\n",
       "}\n",
       "\n",
<<<<<<< HEAD
       "#sk-container-id-1 div.sk-toggleable__content.fitted {\n",
=======
<<<<<<< HEAD
<<<<<<< HEAD:satoriengine/veda/Jupyter/xgb.ipynb
       "#sk-container-id-23 div.sk-toggleable__content.fitted {\n",
=======
       "#sk-container-id-2 div.sk-toggleable__content.fitted {\n",
>>>>>>> krishna_exp:satoriengine/framework/Jupyter/xgb.ipynb
=======
       "#sk-container-id-1 div.sk-toggleable__content.fitted {\n",
>>>>>>> krishna
>>>>>>> meta
       "  /* fitted */\n",
       "  background-color: var(--sklearn-color-fitted-level-0);\n",
       "}\n",
       "\n",
<<<<<<< HEAD
       "#sk-container-id-1 div.sk-toggleable__content pre {\n",
=======
<<<<<<< HEAD
<<<<<<< HEAD:satoriengine/veda/Jupyter/xgb.ipynb
       "#sk-container-id-23 div.sk-toggleable__content pre {\n",
=======
       "#sk-container-id-2 div.sk-toggleable__content pre {\n",
>>>>>>> krishna_exp:satoriengine/framework/Jupyter/xgb.ipynb
=======
       "#sk-container-id-1 div.sk-toggleable__content pre {\n",
>>>>>>> krishna
>>>>>>> meta
       "  margin: 0.2em;\n",
       "  border-radius: 0.25em;\n",
       "  color: var(--sklearn-color-text);\n",
       "  /* unfitted */\n",
       "  background-color: var(--sklearn-color-unfitted-level-0);\n",
       "}\n",
       "\n",
<<<<<<< HEAD
       "#sk-container-id-1 div.sk-toggleable__content.fitted pre {\n",
=======
<<<<<<< HEAD
<<<<<<< HEAD:satoriengine/veda/Jupyter/xgb.ipynb
       "#sk-container-id-23 div.sk-toggleable__content.fitted pre {\n",
=======
       "#sk-container-id-2 div.sk-toggleable__content.fitted pre {\n",
>>>>>>> krishna_exp:satoriengine/framework/Jupyter/xgb.ipynb
=======
       "#sk-container-id-1 div.sk-toggleable__content.fitted pre {\n",
>>>>>>> krishna
>>>>>>> meta
       "  /* unfitted */\n",
       "  background-color: var(--sklearn-color-fitted-level-0);\n",
       "}\n",
       "\n",
<<<<<<< HEAD
       "#sk-container-id-1 input.sk-toggleable__control:checked~div.sk-toggleable__content {\n",
=======
<<<<<<< HEAD
<<<<<<< HEAD:satoriengine/veda/Jupyter/xgb.ipynb
       "#sk-container-id-23 input.sk-toggleable__control:checked~div.sk-toggleable__content {\n",
=======
       "#sk-container-id-2 input.sk-toggleable__control:checked~div.sk-toggleable__content {\n",
>>>>>>> krishna_exp:satoriengine/framework/Jupyter/xgb.ipynb
=======
       "#sk-container-id-1 input.sk-toggleable__control:checked~div.sk-toggleable__content {\n",
>>>>>>> krishna
>>>>>>> meta
       "  /* Expand drop-down */\n",
       "  max-height: 200px;\n",
       "  max-width: 100%;\n",
       "  overflow: auto;\n",
       "}\n",
       "\n",
<<<<<<< HEAD
       "#sk-container-id-1 input.sk-toggleable__control:checked~label.sk-toggleable__label-arrow:before {\n",
=======
<<<<<<< HEAD
<<<<<<< HEAD:satoriengine/veda/Jupyter/xgb.ipynb
       "#sk-container-id-23 input.sk-toggleable__control:checked~label.sk-toggleable__label-arrow:before {\n",
=======
       "#sk-container-id-2 input.sk-toggleable__control:checked~label.sk-toggleable__label-arrow:before {\n",
>>>>>>> krishna_exp:satoriengine/framework/Jupyter/xgb.ipynb
=======
       "#sk-container-id-1 input.sk-toggleable__control:checked~label.sk-toggleable__label-arrow:before {\n",
>>>>>>> krishna
>>>>>>> meta
       "  content: \"▾\";\n",
       "}\n",
       "\n",
       "/* Pipeline/ColumnTransformer-specific style */\n",
       "\n",
<<<<<<< HEAD
       "#sk-container-id-1 div.sk-label input.sk-toggleable__control:checked~label.sk-toggleable__label {\n",
=======
<<<<<<< HEAD
<<<<<<< HEAD:satoriengine/veda/Jupyter/xgb.ipynb
       "#sk-container-id-23 div.sk-label input.sk-toggleable__control:checked~label.sk-toggleable__label {\n",
=======
       "#sk-container-id-2 div.sk-label input.sk-toggleable__control:checked~label.sk-toggleable__label {\n",
>>>>>>> krishna_exp:satoriengine/framework/Jupyter/xgb.ipynb
=======
       "#sk-container-id-1 div.sk-label input.sk-toggleable__control:checked~label.sk-toggleable__label {\n",
>>>>>>> krishna
>>>>>>> meta
       "  color: var(--sklearn-color-text);\n",
       "  background-color: var(--sklearn-color-unfitted-level-2);\n",
       "}\n",
       "\n",
<<<<<<< HEAD
       "#sk-container-id-1 div.sk-label.fitted input.sk-toggleable__control:checked~label.sk-toggleable__label {\n",
=======
<<<<<<< HEAD
<<<<<<< HEAD:satoriengine/veda/Jupyter/xgb.ipynb
       "#sk-container-id-23 div.sk-label.fitted input.sk-toggleable__control:checked~label.sk-toggleable__label {\n",
=======
       "#sk-container-id-2 div.sk-label.fitted input.sk-toggleable__control:checked~label.sk-toggleable__label {\n",
>>>>>>> krishna_exp:satoriengine/framework/Jupyter/xgb.ipynb
=======
       "#sk-container-id-1 div.sk-label.fitted input.sk-toggleable__control:checked~label.sk-toggleable__label {\n",
>>>>>>> krishna
>>>>>>> meta
       "  background-color: var(--sklearn-color-fitted-level-2);\n",
       "}\n",
       "\n",
       "/* Estimator-specific style */\n",
       "\n",
       "/* Colorize estimator box */\n",
<<<<<<< HEAD
       "#sk-container-id-1 div.sk-estimator input.sk-toggleable__control:checked~label.sk-toggleable__label {\n",
=======
<<<<<<< HEAD
<<<<<<< HEAD:satoriengine/veda/Jupyter/xgb.ipynb
       "#sk-container-id-23 div.sk-estimator input.sk-toggleable__control:checked~label.sk-toggleable__label {\n",
=======
       "#sk-container-id-2 div.sk-estimator input.sk-toggleable__control:checked~label.sk-toggleable__label {\n",
>>>>>>> krishna_exp:satoriengine/framework/Jupyter/xgb.ipynb
=======
       "#sk-container-id-1 div.sk-estimator input.sk-toggleable__control:checked~label.sk-toggleable__label {\n",
>>>>>>> krishna
>>>>>>> meta
       "  /* unfitted */\n",
       "  background-color: var(--sklearn-color-unfitted-level-2);\n",
       "}\n",
       "\n",
<<<<<<< HEAD
       "#sk-container-id-1 div.sk-estimator.fitted input.sk-toggleable__control:checked~label.sk-toggleable__label {\n",
=======
<<<<<<< HEAD
<<<<<<< HEAD:satoriengine/veda/Jupyter/xgb.ipynb
       "#sk-container-id-23 div.sk-estimator.fitted input.sk-toggleable__control:checked~label.sk-toggleable__label {\n",
=======
       "#sk-container-id-2 div.sk-estimator.fitted input.sk-toggleable__control:checked~label.sk-toggleable__label {\n",
>>>>>>> krishna_exp:satoriengine/framework/Jupyter/xgb.ipynb
=======
       "#sk-container-id-1 div.sk-estimator.fitted input.sk-toggleable__control:checked~label.sk-toggleable__label {\n",
>>>>>>> krishna
>>>>>>> meta
       "  /* fitted */\n",
       "  background-color: var(--sklearn-color-fitted-level-2);\n",
       "}\n",
       "\n",
<<<<<<< HEAD
       "#sk-container-id-1 div.sk-label label.sk-toggleable__label,\n",
       "#sk-container-id-1 div.sk-label label {\n",
=======
<<<<<<< HEAD
<<<<<<< HEAD:satoriengine/veda/Jupyter/xgb.ipynb
       "#sk-container-id-23 div.sk-label label.sk-toggleable__label,\n",
       "#sk-container-id-23 div.sk-label label {\n",
=======
       "#sk-container-id-2 div.sk-label label.sk-toggleable__label,\n",
       "#sk-container-id-2 div.sk-label label {\n",
>>>>>>> krishna_exp:satoriengine/framework/Jupyter/xgb.ipynb
=======
       "#sk-container-id-1 div.sk-label label.sk-toggleable__label,\n",
       "#sk-container-id-1 div.sk-label label {\n",
>>>>>>> krishna
>>>>>>> meta
       "  /* The background is the default theme color */\n",
       "  color: var(--sklearn-color-text-on-default-background);\n",
       "}\n",
       "\n",
       "/* On hover, darken the color of the background */\n",
<<<<<<< HEAD
       "#sk-container-id-1 div.sk-label:hover label.sk-toggleable__label {\n",
=======
<<<<<<< HEAD
<<<<<<< HEAD:satoriengine/veda/Jupyter/xgb.ipynb
       "#sk-container-id-23 div.sk-label:hover label.sk-toggleable__label {\n",
=======
       "#sk-container-id-2 div.sk-label:hover label.sk-toggleable__label {\n",
>>>>>>> krishna_exp:satoriengine/framework/Jupyter/xgb.ipynb
=======
       "#sk-container-id-1 div.sk-label:hover label.sk-toggleable__label {\n",
>>>>>>> krishna
>>>>>>> meta
       "  color: var(--sklearn-color-text);\n",
       "  background-color: var(--sklearn-color-unfitted-level-2);\n",
       "}\n",
       "\n",
       "/* Label box, darken color on hover, fitted */\n",
<<<<<<< HEAD
       "#sk-container-id-1 div.sk-label.fitted:hover label.sk-toggleable__label.fitted {\n",
=======
<<<<<<< HEAD
<<<<<<< HEAD:satoriengine/veda/Jupyter/xgb.ipynb
       "#sk-container-id-23 div.sk-label.fitted:hover label.sk-toggleable__label.fitted {\n",
=======
       "#sk-container-id-2 div.sk-label.fitted:hover label.sk-toggleable__label.fitted {\n",
>>>>>>> krishna_exp:satoriengine/framework/Jupyter/xgb.ipynb
=======
       "#sk-container-id-1 div.sk-label.fitted:hover label.sk-toggleable__label.fitted {\n",
>>>>>>> krishna
>>>>>>> meta
       "  color: var(--sklearn-color-text);\n",
       "  background-color: var(--sklearn-color-fitted-level-2);\n",
       "}\n",
       "\n",
       "/* Estimator label */\n",
       "\n",
<<<<<<< HEAD
       "#sk-container-id-1 div.sk-label label {\n",
=======
<<<<<<< HEAD
<<<<<<< HEAD:satoriengine/veda/Jupyter/xgb.ipynb
       "#sk-container-id-23 div.sk-label label {\n",
=======
       "#sk-container-id-2 div.sk-label label {\n",
>>>>>>> krishna_exp:satoriengine/framework/Jupyter/xgb.ipynb
=======
       "#sk-container-id-1 div.sk-label label {\n",
>>>>>>> krishna
>>>>>>> meta
       "  font-family: monospace;\n",
       "  font-weight: bold;\n",
       "  display: inline-block;\n",
       "  line-height: 1.2em;\n",
       "}\n",
       "\n",
<<<<<<< HEAD
       "#sk-container-id-1 div.sk-label-container {\n",
=======
<<<<<<< HEAD
<<<<<<< HEAD:satoriengine/veda/Jupyter/xgb.ipynb
       "#sk-container-id-23 div.sk-label-container {\n",
=======
       "#sk-container-id-2 div.sk-label-container {\n",
>>>>>>> krishna_exp:satoriengine/framework/Jupyter/xgb.ipynb
=======
       "#sk-container-id-1 div.sk-label-container {\n",
>>>>>>> krishna
>>>>>>> meta
       "  text-align: center;\n",
       "}\n",
       "\n",
       "/* Estimator-specific */\n",
<<<<<<< HEAD
       "#sk-container-id-1 div.sk-estimator {\n",
=======
<<<<<<< HEAD
<<<<<<< HEAD:satoriengine/veda/Jupyter/xgb.ipynb
       "#sk-container-id-23 div.sk-estimator {\n",
=======
       "#sk-container-id-2 div.sk-estimator {\n",
>>>>>>> krishna_exp:satoriengine/framework/Jupyter/xgb.ipynb
=======
       "#sk-container-id-1 div.sk-estimator {\n",
>>>>>>> krishna
>>>>>>> meta
       "  font-family: monospace;\n",
       "  border: 1px dotted var(--sklearn-color-border-box);\n",
       "  border-radius: 0.25em;\n",
       "  box-sizing: border-box;\n",
       "  margin-bottom: 0.5em;\n",
       "  /* unfitted */\n",
       "  background-color: var(--sklearn-color-unfitted-level-0);\n",
       "}\n",
       "\n",
<<<<<<< HEAD
       "#sk-container-id-1 div.sk-estimator.fitted {\n",
=======
<<<<<<< HEAD
<<<<<<< HEAD:satoriengine/veda/Jupyter/xgb.ipynb
       "#sk-container-id-23 div.sk-estimator.fitted {\n",
=======
       "#sk-container-id-2 div.sk-estimator.fitted {\n",
>>>>>>> krishna_exp:satoriengine/framework/Jupyter/xgb.ipynb
=======
       "#sk-container-id-1 div.sk-estimator.fitted {\n",
>>>>>>> krishna
>>>>>>> meta
       "  /* fitted */\n",
       "  background-color: var(--sklearn-color-fitted-level-0);\n",
       "}\n",
       "\n",
       "/* on hover */\n",
<<<<<<< HEAD
       "#sk-container-id-1 div.sk-estimator:hover {\n",
=======
<<<<<<< HEAD
<<<<<<< HEAD:satoriengine/veda/Jupyter/xgb.ipynb
       "#sk-container-id-23 div.sk-estimator:hover {\n",
=======
       "#sk-container-id-2 div.sk-estimator:hover {\n",
>>>>>>> krishna_exp:satoriengine/framework/Jupyter/xgb.ipynb
=======
       "#sk-container-id-1 div.sk-estimator:hover {\n",
>>>>>>> krishna
>>>>>>> meta
       "  /* unfitted */\n",
       "  background-color: var(--sklearn-color-unfitted-level-2);\n",
       "}\n",
       "\n",
<<<<<<< HEAD
       "#sk-container-id-1 div.sk-estimator.fitted:hover {\n",
=======
<<<<<<< HEAD
<<<<<<< HEAD:satoriengine/veda/Jupyter/xgb.ipynb
       "#sk-container-id-23 div.sk-estimator.fitted:hover {\n",
=======
       "#sk-container-id-2 div.sk-estimator.fitted:hover {\n",
>>>>>>> krishna_exp:satoriengine/framework/Jupyter/xgb.ipynb
=======
       "#sk-container-id-1 div.sk-estimator.fitted:hover {\n",
>>>>>>> krishna
>>>>>>> meta
       "  /* fitted */\n",
       "  background-color: var(--sklearn-color-fitted-level-2);\n",
       "}\n",
       "\n",
       "/* Specification for estimator info (e.g. \"i\" and \"?\") */\n",
       "\n",
       "/* Common style for \"i\" and \"?\" */\n",
       "\n",
       ".sk-estimator-doc-link,\n",
       "a:link.sk-estimator-doc-link,\n",
       "a:visited.sk-estimator-doc-link {\n",
       "  float: right;\n",
       "  font-size: smaller;\n",
       "  line-height: 1em;\n",
       "  font-family: monospace;\n",
       "  background-color: var(--sklearn-color-background);\n",
       "  border-radius: 1em;\n",
       "  height: 1em;\n",
       "  width: 1em;\n",
       "  text-decoration: none !important;\n",
       "  margin-left: 1ex;\n",
       "  /* unfitted */\n",
       "  border: var(--sklearn-color-unfitted-level-1) 1pt solid;\n",
       "  color: var(--sklearn-color-unfitted-level-1);\n",
       "}\n",
       "\n",
       ".sk-estimator-doc-link.fitted,\n",
       "a:link.sk-estimator-doc-link.fitted,\n",
       "a:visited.sk-estimator-doc-link.fitted {\n",
       "  /* fitted */\n",
       "  border: var(--sklearn-color-fitted-level-1) 1pt solid;\n",
       "  color: var(--sklearn-color-fitted-level-1);\n",
       "}\n",
       "\n",
       "/* On hover */\n",
       "div.sk-estimator:hover .sk-estimator-doc-link:hover,\n",
       ".sk-estimator-doc-link:hover,\n",
       "div.sk-label-container:hover .sk-estimator-doc-link:hover,\n",
       ".sk-estimator-doc-link:hover {\n",
       "  /* unfitted */\n",
       "  background-color: var(--sklearn-color-unfitted-level-3);\n",
       "  color: var(--sklearn-color-background);\n",
       "  text-decoration: none;\n",
       "}\n",
       "\n",
       "div.sk-estimator.fitted:hover .sk-estimator-doc-link.fitted:hover,\n",
       ".sk-estimator-doc-link.fitted:hover,\n",
       "div.sk-label-container:hover .sk-estimator-doc-link.fitted:hover,\n",
       ".sk-estimator-doc-link.fitted:hover {\n",
       "  /* fitted */\n",
       "  background-color: var(--sklearn-color-fitted-level-3);\n",
       "  color: var(--sklearn-color-background);\n",
       "  text-decoration: none;\n",
       "}\n",
       "\n",
       "/* Span, style for the box shown on hovering the info icon */\n",
       ".sk-estimator-doc-link span {\n",
       "  display: none;\n",
       "  z-index: 9999;\n",
       "  position: relative;\n",
       "  font-weight: normal;\n",
       "  right: .2ex;\n",
       "  padding: .5ex;\n",
       "  margin: .5ex;\n",
       "  width: min-content;\n",
       "  min-width: 20ex;\n",
       "  max-width: 50ex;\n",
       "  color: var(--sklearn-color-text);\n",
       "  box-shadow: 2pt 2pt 4pt #999;\n",
       "  /* unfitted */\n",
       "  background: var(--sklearn-color-unfitted-level-0);\n",
       "  border: .5pt solid var(--sklearn-color-unfitted-level-3);\n",
       "}\n",
       "\n",
       ".sk-estimator-doc-link.fitted span {\n",
       "  /* fitted */\n",
       "  background: var(--sklearn-color-fitted-level-0);\n",
       "  border: var(--sklearn-color-fitted-level-3);\n",
       "}\n",
       "\n",
       ".sk-estimator-doc-link:hover span {\n",
       "  display: block;\n",
       "}\n",
       "\n",
       "/* \"?\"-specific style due to the `<a>` HTML tag */\n",
       "\n",
<<<<<<< HEAD
       "#sk-container-id-1 a.estimator_doc_link {\n",
=======
<<<<<<< HEAD
<<<<<<< HEAD:satoriengine/veda/Jupyter/xgb.ipynb
       "#sk-container-id-23 a.estimator_doc_link {\n",
=======
       "#sk-container-id-2 a.estimator_doc_link {\n",
>>>>>>> krishna_exp:satoriengine/framework/Jupyter/xgb.ipynb
=======
       "#sk-container-id-1 a.estimator_doc_link {\n",
>>>>>>> krishna
>>>>>>> meta
       "  float: right;\n",
       "  font-size: 1rem;\n",
       "  line-height: 1em;\n",
       "  font-family: monospace;\n",
       "  background-color: var(--sklearn-color-background);\n",
       "  border-radius: 1rem;\n",
       "  height: 1rem;\n",
       "  width: 1rem;\n",
       "  text-decoration: none;\n",
       "  /* unfitted */\n",
       "  color: var(--sklearn-color-unfitted-level-1);\n",
       "  border: var(--sklearn-color-unfitted-level-1) 1pt solid;\n",
       "}\n",
       "\n",
<<<<<<< HEAD
       "#sk-container-id-1 a.estimator_doc_link.fitted {\n",
=======
<<<<<<< HEAD
<<<<<<< HEAD:satoriengine/veda/Jupyter/xgb.ipynb
       "#sk-container-id-23 a.estimator_doc_link.fitted {\n",
=======
       "#sk-container-id-2 a.estimator_doc_link.fitted {\n",
>>>>>>> krishna_exp:satoriengine/framework/Jupyter/xgb.ipynb
=======
       "#sk-container-id-1 a.estimator_doc_link.fitted {\n",
>>>>>>> krishna
>>>>>>> meta
       "  /* fitted */\n",
       "  border: var(--sklearn-color-fitted-level-1) 1pt solid;\n",
       "  color: var(--sklearn-color-fitted-level-1);\n",
       "}\n",
       "\n",
       "/* On hover */\n",
<<<<<<< HEAD
       "#sk-container-id-1 a.estimator_doc_link:hover {\n",
=======
<<<<<<< HEAD
<<<<<<< HEAD:satoriengine/veda/Jupyter/xgb.ipynb
       "#sk-container-id-23 a.estimator_doc_link:hover {\n",
=======
       "#sk-container-id-2 a.estimator_doc_link:hover {\n",
>>>>>>> krishna_exp:satoriengine/framework/Jupyter/xgb.ipynb
=======
       "#sk-container-id-1 a.estimator_doc_link:hover {\n",
>>>>>>> krishna
>>>>>>> meta
       "  /* unfitted */\n",
       "  background-color: var(--sklearn-color-unfitted-level-3);\n",
       "  color: var(--sklearn-color-background);\n",
       "  text-decoration: none;\n",
       "}\n",
       "\n",
<<<<<<< HEAD
       "#sk-container-id-1 a.estimator_doc_link.fitted:hover {\n",
=======
<<<<<<< HEAD
<<<<<<< HEAD:satoriengine/veda/Jupyter/xgb.ipynb
       "#sk-container-id-23 a.estimator_doc_link.fitted:hover {\n",
=======
       "#sk-container-id-1 a.estimator_doc_link.fitted:hover {\n",
>>>>>>> krishna
>>>>>>> meta
       "  /* fitted */\n",
       "  background-color: var(--sklearn-color-fitted-level-3);\n",
       "}\n",
       "</style><div id=\"sk-container-id-1\" class=\"sk-top-container\"><div class=\"sk-text-repr-fallback\"><pre>XGBRegressor(base_score=None, booster=None, callbacks=None,\n",
       "             colsample_bylevel=None, colsample_bynode=None,\n",
       "             colsample_bytree=0.8515398956431687, device=None,\n",
       "             early_stopping_rounds=None, enable_categorical=False,\n",
       "             eval_metric=&#x27;mae&#x27;, feature_types=None, gamma=0.27174494014447687,\n",
       "             grow_policy=None, importance_type=None,\n",
       "             interaction_constraints=None, learning_rate=0.18124796230425852,\n",
       "             max_bin=None, max_cat_threshold=None, max_cat_to_onehot=None,\n",
       "             max_delta_step=None, max_depth=6, max_leaves=None,\n",
       "             min_child_weight=2, missing=nan, monotone_constraints=None,\n",
       "             multi_strategy=None, n_estimators=447, n_jobs=None,\n",
       "             num_parallel_tree=None, random_state=3024, ...)</pre><b>In a Jupyter environment, please rerun this cell to show the HTML representation or trust the notebook. <br />On GitHub, the HTML representation is unable to render, please try loading this page with nbviewer.org.</b></div><div class=\"sk-container\" hidden><div class=\"sk-item\"><div class=\"sk-estimator fitted sk-toggleable\"><input class=\"sk-toggleable__control sk-hidden--visually\" id=\"sk-estimator-id-1\" type=\"checkbox\" checked><label for=\"sk-estimator-id-1\" class=\"sk-toggleable__label fitted sk-toggleable__label-arrow fitted\">&nbsp;XGBRegressor<span class=\"sk-estimator-doc-link fitted\">i<span>Fitted</span></span></label><div class=\"sk-toggleable__content fitted\"><pre>XGBRegressor(base_score=None, booster=None, callbacks=None,\n",
       "             colsample_bylevel=None, colsample_bynode=None,\n",
       "             colsample_bytree=0.8515398956431687, device=None,\n",
       "             early_stopping_rounds=None, enable_categorical=False,\n",
       "             eval_metric=&#x27;mae&#x27;, feature_types=None, gamma=0.27174494014447687,\n",
       "             grow_policy=None, importance_type=None,\n",
       "             interaction_constraints=None, learning_rate=0.18124796230425852,\n",
       "             max_bin=None, max_cat_threshold=None, max_cat_to_onehot=None,\n",
<<<<<<< HEAD
=======
<<<<<<< HEAD
       "             max_delta_step=None, max_depth=4, max_leaves=None,\n",
       "             min_child_weight=4, missing=nan, monotone_constraints=None,\n",
       "             multi_strategy=None, n_estimators=671, n_jobs=None,\n",
       "             num_parallel_tree=None, random_state=6853, ...)</pre></div> </div></div></div></div>"
=======
       "#sk-container-id-2 a.estimator_doc_link.fitted:hover {\n",
       "  /* fitted */\n",
       "  background-color: var(--sklearn-color-fitted-level-3);\n",
       "}\n",
       "</style><div id=\"sk-container-id-2\" class=\"sk-top-container\"><div class=\"sk-text-repr-fallback\"><pre>XGBRegressor(base_score=None, booster=None, callbacks=None,\n",
       "             colsample_bylevel=None, colsample_bynode=None,\n",
       "             colsample_bytree=0.9030215175813827, device=None,\n",
       "             early_stopping_rounds=None, enable_categorical=False,\n",
       "             eval_metric=&#x27;mae&#x27;, feature_types=None, gamma=0.40215754192302894,\n",
       "             grow_policy=None, importance_type=None,\n",
       "             interaction_constraints=None, learning_rate=0.14505851141901008,\n",
       "             max_bin=None, max_cat_threshold=None, max_cat_to_onehot=None,\n",
       "             max_delta_step=None, max_depth=8, max_leaves=None,\n",
       "             min_child_weight=4, missing=nan, monotone_constraints=None,\n",
       "             multi_strategy=None, n_estimators=644, n_jobs=None,\n",
       "             num_parallel_tree=None, random_state=3296, ...)</pre><b>In a Jupyter environment, please rerun this cell to show the HTML representation or trust the notebook. <br />On GitHub, the HTML representation is unable to render, please try loading this page with nbviewer.org.</b></div><div class=\"sk-container\" hidden><div class=\"sk-item\"><div class=\"sk-estimator fitted sk-toggleable\"><input class=\"sk-toggleable__control sk-hidden--visually\" id=\"sk-estimator-id-2\" type=\"checkbox\" checked><label for=\"sk-estimator-id-2\" class=\"sk-toggleable__label fitted sk-toggleable__label-arrow fitted\">&nbsp;XGBRegressor<span class=\"sk-estimator-doc-link fitted\">i<span>Fitted</span></span></label><div class=\"sk-toggleable__content fitted\"><pre>XGBRegressor(base_score=None, booster=None, callbacks=None,\n",
       "             colsample_bylevel=None, colsample_bynode=None,\n",
       "             colsample_bytree=0.9030215175813827, device=None,\n",
       "             early_stopping_rounds=None, enable_categorical=False,\n",
       "             eval_metric=&#x27;mae&#x27;, feature_types=None, gamma=0.40215754192302894,\n",
       "             grow_policy=None, importance_type=None,\n",
       "             interaction_constraints=None, learning_rate=0.14505851141901008,\n",
       "             max_bin=None, max_cat_threshold=None, max_cat_to_onehot=None,\n",
       "             max_delta_step=None, max_depth=8, max_leaves=None,\n",
       "             min_child_weight=4, missing=nan, monotone_constraints=None,\n",
       "             multi_strategy=None, n_estimators=644, n_jobs=None,\n",
       "             num_parallel_tree=None, random_state=3296, ...)</pre></div> </div></div></div></div>"
>>>>>>> krishna_exp:satoriengine/framework/Jupyter/xgb.ipynb
=======
>>>>>>> meta
       "             max_delta_step=None, max_depth=6, max_leaves=None,\n",
       "             min_child_weight=2, missing=nan, monotone_constraints=None,\n",
       "             multi_strategy=None, n_estimators=447, n_jobs=None,\n",
       "             num_parallel_tree=None, random_state=3024, ...)</pre></div> </div></div></div></div>"
<<<<<<< HEAD
=======
>>>>>>> krishna
>>>>>>> meta
      ],
      "text/plain": [
       "XGBRegressor(base_score=None, booster=None, callbacks=None,\n",
       "             colsample_bylevel=None, colsample_bynode=None,\n",
<<<<<<< HEAD
       "             colsample_bytree=0.8515398956431687, device=None,\n",
=======
<<<<<<< HEAD
<<<<<<< HEAD:satoriengine/veda/Jupyter/xgb.ipynb
       "             colsample_bytree=0.6321600113604916, device=None,\n",
=======
       "             colsample_bytree=0.8515398956431687, device=None,\n",
>>>>>>> krishna
>>>>>>> meta
       "             early_stopping_rounds=None, enable_categorical=False,\n",
       "             eval_metric='mae', feature_types=None, gamma=0.27174494014447687,\n",
       "             grow_policy=None, importance_type=None,\n",
       "             interaction_constraints=None, learning_rate=0.18124796230425852,\n",
       "             max_bin=None, max_cat_threshold=None, max_cat_to_onehot=None,\n",
       "             max_delta_step=None, max_depth=6, max_leaves=None,\n",
       "             min_child_weight=2, missing=nan, monotone_constraints=None,\n",
       "             multi_strategy=None, n_estimators=447, n_jobs=None,\n",
       "             num_parallel_tree=None, random_state=3024, ...)"
      ]
     },
<<<<<<< HEAD
     "execution_count": 11,
=======
<<<<<<< HEAD
     "execution_count": 249,
=======
       "             colsample_bytree=0.9030215175813827, device=None,\n",
       "             early_stopping_rounds=None, enable_categorical=False,\n",
       "             eval_metric='mae', feature_types=None, gamma=0.40215754192302894,\n",
       "             grow_policy=None, importance_type=None,\n",
       "             interaction_constraints=None, learning_rate=0.14505851141901008,\n",
       "             max_bin=None, max_cat_threshold=None, max_cat_to_onehot=None,\n",
       "             max_delta_step=None, max_depth=8, max_leaves=None,\n",
       "             min_child_weight=4, missing=nan, monotone_constraints=None,\n",
       "             multi_strategy=None, n_estimators=644, n_jobs=None,\n",
       "             num_parallel_tree=None, random_state=3296, ...)"
      ]
     },
     "execution_count": 19,
>>>>>>> krishna_exp:satoriengine/framework/Jupyter/xgb.ipynb
=======
     "execution_count": 11,
>>>>>>> krishna
>>>>>>> meta
     "metadata": {},
     "output_type": "execute_result"
    }
   ],
   "source": [
    "xgb_model.fit(\n",
    "    X_train,\n",
    "    y_train,\n",
    "    eval_set=[(X_train, y_train), (X_test, y_test)],\n",
    "    verbose=False\n",
    ")"
   ]
  },
  {
   "cell_type": "code",
<<<<<<< HEAD
   "execution_count": 12,
=======
<<<<<<< HEAD
<<<<<<< HEAD:satoriengine/veda/Jupyter/xgb.ipynb
   "execution_count": 250,
=======
   "execution_count": 20,
>>>>>>> krishna_exp:satoriengine/framework/Jupyter/xgb.ipynb
=======
   "execution_count": 12,
>>>>>>> krishna
>>>>>>> meta
   "id": "02e3e88d-eeba-4685-97a7-d65d8970e505",
   "metadata": {},
   "outputs": [
    {
     "name": "stdout",
     "output_type": "stream",
     "text": [
<<<<<<< HEAD
      "Mean Absolute Error: 0.7505121742557576\n"
=======
<<<<<<< HEAD
<<<<<<< HEAD:satoriengine/veda/Jupyter/xgb.ipynb
      "Mean Absolute Error: 9.578643280008388\n"
=======
      "Mean Absolute Error: 8.856323012835198\n"
>>>>>>> krishna_exp:satoriengine/framework/Jupyter/xgb.ipynb
=======
      "Mean Absolute Error: 0.7505121742557576\n"
>>>>>>> krishna
>>>>>>> meta
     ]
    }
   ],
   "source": [
    "mae = mean_absolute_error(y_test, xgb_model.predict(X_test))\n",
    "print(f\"Mean Absolute Error: {mae}\")"
   ]
  },
  {
   "cell_type": "code",
<<<<<<< HEAD
   "execution_count": null,
=======
<<<<<<< HEAD
<<<<<<< HEAD:satoriengine/veda/Jupyter/xgb.ipynb
   "execution_count": 251,
=======
   "execution_count": null,
>>>>>>> krishna
>>>>>>> meta
   "id": "1aab90b1-0101-4463-b373-93a5a43e8c7a",
   "metadata": {},
   "outputs": [],
   "source": [
    "mae = mean_absolute_error(y_test, xgb_model.predict(X_test))\n",
    "print(f\"Mean Absolute Error: {mae}\")"
   ]
  },
  {
   "cell_type": "code",
   "execution_count": 16,
   "id": "efdf5601-2557-4bec-b76d-3a501a78bc82",
   "metadata": {},
   "outputs": [
    {
     "data": {
      "text/plain": [
       "['xgboost_model.joblib']"
      ]
     },
     "execution_count": 16,
     "metadata": {},
     "output_type": "execute_result"
    }
   ],
   "source": [
<<<<<<< HEAD
=======
<<<<<<< HEAD
    "mae = mean_absolute_error(y_test, xgb_model.predict(X_test))\n",
    "print(f\"Mean Absolute Error: {mae}\")"
=======
   "execution_count": null,
   "id": "1aab90b1-0101-4463-b373-93a5a43e8c7a",
   "metadata": {},
   "outputs": [],
   "source": [
    "mae = mean_absolute_error(y_test, xgb_model.predict(X_test))\n",
    "print(f\"Mean Absolute Error: {mae}\")"
=======
>>>>>>> meta
    "model_filename = 'xgboost_model.joblib'\n",
    "state = {\n",
    "                'xgb_model': xgb_model,\n",
    "                'model_error': mae\n",
    "            }\n",
    "dump(state, model_filename)"
<<<<<<< HEAD
=======
>>>>>>> krishna
>>>>>>> meta
   ]
  },
  {
   "cell_type": "code",
<<<<<<< HEAD
=======
<<<<<<< HEAD
   "execution_count": 16,
   "id": "efdf5601-2557-4bec-b76d-3a501a78bc82",
   "metadata": {},
   "outputs": [
    {
     "data": {
      "text/plain": [
       "['xgboost_model.joblib']"
      ]
     },
     "execution_count": 16,
     "metadata": {},
     "output_type": "execute_result"
    }
   ],
   "source": [
    "model_filename = 'xgboost_model.joblib'\n",
    "state = {\n",
    "                'xgb_model': xgb_model,\n",
    "                'model_error': mae\n",
    "            }\n",
    "dump(state, model_filename)"
>>>>>>> krishna_exp:satoriengine/framework/Jupyter/xgb.ipynb
   ]
  },
  {
   "cell_type": "code",
<<<<<<< HEAD:satoriengine/veda/Jupyter/xgb.ipynb
   "execution_count": 252,
=======
=======
>>>>>>> krishna
>>>>>>> meta
   "execution_count": 22,
   "id": "68f1c182-dde2-4e6b-b03c-a86a7b8428a3",
   "metadata": {},
   "outputs": [],
   "source": [
    "saved_state = load('xgboost_model.joblib')"
   ]
  },
  {
   "cell_type": "code",
   "execution_count": 25,
   "id": "807b28c9-5951-467b-83a5-4e1adefc27e0",
   "metadata": {},
   "outputs": [
    {
     "data": {
      "text/plain": [
       "numpy.float64"
      ]
     },
     "execution_count": 25,
     "metadata": {},
     "output_type": "execute_result"
    }
   ],
   "source": [
    "type(saved_state[\"model_error\"])"
   ]
  },
  {
   "cell_type": "code",
<<<<<<< HEAD
   "execution_count": 13,
=======
<<<<<<< HEAD
   "execution_count": null,
>>>>>>> krishna_exp:satoriengine/framework/Jupyter/xgb.ipynb
=======
   "execution_count": 13,
>>>>>>> krishna
>>>>>>> meta
   "id": "1cee6cc8-4a37-4f58-aa0d-c263c2c8b4d8",
   "metadata": {},
   "outputs": [],
   "source": [
    "X_full = prepare_time_features(proc_data.dataset.index.values)\n",
    "y_full = proc_data.dataset['value']"
   ]
  },
  {
   "cell_type": "code",
<<<<<<< HEAD
   "execution_count": 14,
=======
<<<<<<< HEAD
<<<<<<< HEAD:satoriengine/veda/Jupyter/xgb.ipynb
   "execution_count": 253,
=======
   "execution_count": null,
>>>>>>> krishna_exp:satoriengine/framework/Jupyter/xgb.ipynb
=======
   "execution_count": 14,
>>>>>>> krishna
>>>>>>> meta
   "id": "5cbaf2dc-60ae-4265-88a8-87e3280cbc79",
   "metadata": {
    "scrolled": true
   },
<<<<<<< HEAD:satoriengine/veda/Jupyter/xgb.ipynb
   "outputs": [
    {
     "data": {
      "text/html": [
       "<style>#sk-container-id-2 {\n",
       "  /* Definition of color scheme common for light and dark mode */\n",
       "  --sklearn-color-text: black;\n",
       "  --sklearn-color-line: gray;\n",
       "  /* Definition of color scheme for unfitted estimators */\n",
       "  --sklearn-color-unfitted-level-0: #fff5e6;\n",
       "  --sklearn-color-unfitted-level-1: #f6e4d2;\n",
       "  --sklearn-color-unfitted-level-2: #ffe0b3;\n",
       "  --sklearn-color-unfitted-level-3: chocolate;\n",
       "  /* Definition of color scheme for fitted estimators */\n",
       "  --sklearn-color-fitted-level-0: #f0f8ff;\n",
       "  --sklearn-color-fitted-level-1: #d4ebff;\n",
       "  --sklearn-color-fitted-level-2: #b3dbfd;\n",
       "  --sklearn-color-fitted-level-3: cornflowerblue;\n",
       "\n",
       "  /* Specific color for light theme */\n",
       "  --sklearn-color-text-on-default-background: var(--sg-text-color, var(--theme-code-foreground, var(--jp-content-font-color1, black)));\n",
       "  --sklearn-color-background: var(--sg-background-color, var(--theme-background, var(--jp-layout-color0, white)));\n",
       "  --sklearn-color-border-box: var(--sg-text-color, var(--theme-code-foreground, var(--jp-content-font-color1, black)));\n",
       "  --sklearn-color-icon: #696969;\n",
       "\n",
       "  @media (prefers-color-scheme: dark) {\n",
       "    /* Redefinition of color scheme for dark theme */\n",
       "    --sklearn-color-text-on-default-background: var(--sg-text-color, var(--theme-code-foreground, var(--jp-content-font-color1, white)));\n",
       "    --sklearn-color-background: var(--sg-background-color, var(--theme-background, var(--jp-layout-color0, #111)));\n",
       "    --sklearn-color-border-box: var(--sg-text-color, var(--theme-code-foreground, var(--jp-content-font-color1, white)));\n",
       "    --sklearn-color-icon: #878787;\n",
       "  }\n",
       "}\n",
       "\n",
       "#sk-container-id-2 {\n",
       "  color: var(--sklearn-color-text);\n",
       "}\n",
       "\n",
       "#sk-container-id-2 pre {\n",
       "  padding: 0;\n",
       "}\n",
       "\n",
       "#sk-container-id-2 input.sk-hidden--visually {\n",
       "  border: 0;\n",
       "  clip: rect(1px 1px 1px 1px);\n",
       "  clip: rect(1px, 1px, 1px, 1px);\n",
       "  height: 1px;\n",
       "  margin: -1px;\n",
       "  overflow: hidden;\n",
       "  padding: 0;\n",
       "  position: absolute;\n",
       "  width: 1px;\n",
       "}\n",
       "\n",
       "#sk-container-id-2 div.sk-dashed-wrapped {\n",
       "  border: 1px dashed var(--sklearn-color-line);\n",
       "  margin: 0 0.4em 0.5em 0.4em;\n",
       "  box-sizing: border-box;\n",
       "  padding-bottom: 0.4em;\n",
       "  background-color: var(--sklearn-color-background);\n",
       "}\n",
       "\n",
       "#sk-container-id-2 div.sk-container {\n",
       "  /* jupyter's `normalize.less` sets `[hidden] { display: none; }`\n",
       "     but bootstrap.min.css set `[hidden] { display: none !important; }`\n",
       "     so we also need the `!important` here to be able to override the\n",
       "     default hidden behavior on the sphinx rendered scikit-learn.org.\n",
       "     See: https://github.com/scikit-learn/scikit-learn/issues/21755 */\n",
       "  display: inline-block !important;\n",
       "  position: relative;\n",
       "}\n",
       "\n",
       "#sk-container-id-2 div.sk-text-repr-fallback {\n",
       "  display: none;\n",
       "}\n",
       "\n",
       "div.sk-parallel-item,\n",
       "div.sk-serial,\n",
       "div.sk-item {\n",
       "  /* draw centered vertical line to link estimators */\n",
       "  background-image: linear-gradient(var(--sklearn-color-text-on-default-background), var(--sklearn-color-text-on-default-background));\n",
       "  background-size: 2px 100%;\n",
       "  background-repeat: no-repeat;\n",
       "  background-position: center center;\n",
       "}\n",
       "\n",
       "/* Parallel-specific style estimator block */\n",
       "\n",
       "#sk-container-id-2 div.sk-parallel-item::after {\n",
       "  content: \"\";\n",
       "  width: 100%;\n",
       "  border-bottom: 2px solid var(--sklearn-color-text-on-default-background);\n",
       "  flex-grow: 1;\n",
       "}\n",
       "\n",
       "#sk-container-id-2 div.sk-parallel {\n",
       "  display: flex;\n",
       "  align-items: stretch;\n",
       "  justify-content: center;\n",
       "  background-color: var(--sklearn-color-background);\n",
       "  position: relative;\n",
       "}\n",
       "\n",
       "#sk-container-id-2 div.sk-parallel-item {\n",
       "  display: flex;\n",
       "  flex-direction: column;\n",
       "}\n",
       "\n",
       "#sk-container-id-2 div.sk-parallel-item:first-child::after {\n",
       "  align-self: flex-end;\n",
       "  width: 50%;\n",
       "}\n",
       "\n",
       "#sk-container-id-2 div.sk-parallel-item:last-child::after {\n",
       "  align-self: flex-start;\n",
       "  width: 50%;\n",
       "}\n",
       "\n",
       "#sk-container-id-2 div.sk-parallel-item:only-child::after {\n",
       "  width: 0;\n",
       "}\n",
       "\n",
       "/* Serial-specific style estimator block */\n",
       "\n",
       "#sk-container-id-2 div.sk-serial {\n",
       "  display: flex;\n",
       "  flex-direction: column;\n",
       "  align-items: center;\n",
       "  background-color: var(--sklearn-color-background);\n",
       "  padding-right: 1em;\n",
       "  padding-left: 1em;\n",
       "}\n",
       "\n",
       "\n",
       "/* Toggleable style: style used for estimator/Pipeline/ColumnTransformer box that is\n",
       "clickable and can be expanded/collapsed.\n",
       "- Pipeline and ColumnTransformer use this feature and define the default style\n",
       "- Estimators will overwrite some part of the style using the `sk-estimator` class\n",
       "*/\n",
       "\n",
       "/* Pipeline and ColumnTransformer style (default) */\n",
       "\n",
       "#sk-container-id-2 div.sk-toggleable {\n",
       "  /* Default theme specific background. It is overwritten whether we have a\n",
       "  specific estimator or a Pipeline/ColumnTransformer */\n",
       "  background-color: var(--sklearn-color-background);\n",
       "}\n",
       "\n",
       "/* Toggleable label */\n",
       "#sk-container-id-2 label.sk-toggleable__label {\n",
       "  cursor: pointer;\n",
       "  display: block;\n",
       "  width: 100%;\n",
       "  margin-bottom: 0;\n",
       "  padding: 0.5em;\n",
       "  box-sizing: border-box;\n",
       "  text-align: center;\n",
       "}\n",
       "\n",
       "#sk-container-id-2 label.sk-toggleable__label-arrow:before {\n",
       "  /* Arrow on the left of the label */\n",
       "  content: \"▸\";\n",
       "  float: left;\n",
       "  margin-right: 0.25em;\n",
       "  color: var(--sklearn-color-icon);\n",
       "}\n",
       "\n",
       "#sk-container-id-2 label.sk-toggleable__label-arrow:hover:before {\n",
       "  color: var(--sklearn-color-text);\n",
       "}\n",
       "\n",
       "/* Toggleable content - dropdown */\n",
       "\n",
       "#sk-container-id-2 div.sk-toggleable__content {\n",
       "  max-height: 0;\n",
       "  max-width: 0;\n",
       "  overflow: hidden;\n",
       "  text-align: left;\n",
       "  /* unfitted */\n",
       "  background-color: var(--sklearn-color-unfitted-level-0);\n",
       "}\n",
       "\n",
       "#sk-container-id-2 div.sk-toggleable__content.fitted {\n",
       "  /* fitted */\n",
       "  background-color: var(--sklearn-color-fitted-level-0);\n",
       "}\n",
       "\n",
       "#sk-container-id-2 div.sk-toggleable__content pre {\n",
       "  margin: 0.2em;\n",
       "  border-radius: 0.25em;\n",
       "  color: var(--sklearn-color-text);\n",
       "  /* unfitted */\n",
       "  background-color: var(--sklearn-color-unfitted-level-0);\n",
       "}\n",
       "\n",
       "#sk-container-id-2 div.sk-toggleable__content.fitted pre {\n",
       "  /* unfitted */\n",
       "  background-color: var(--sklearn-color-fitted-level-0);\n",
       "}\n",
       "\n",
       "#sk-container-id-2 input.sk-toggleable__control:checked~div.sk-toggleable__content {\n",
       "  /* Expand drop-down */\n",
       "  max-height: 200px;\n",
       "  max-width: 100%;\n",
       "  overflow: auto;\n",
       "}\n",
       "\n",
       "#sk-container-id-2 input.sk-toggleable__control:checked~label.sk-toggleable__label-arrow:before {\n",
       "  content: \"▾\";\n",
       "}\n",
       "\n",
       "/* Pipeline/ColumnTransformer-specific style */\n",
       "\n",
       "#sk-container-id-2 div.sk-label input.sk-toggleable__control:checked~label.sk-toggleable__label {\n",
       "  color: var(--sklearn-color-text);\n",
       "  background-color: var(--sklearn-color-unfitted-level-2);\n",
       "}\n",
       "\n",
       "#sk-container-id-2 div.sk-label.fitted input.sk-toggleable__control:checked~label.sk-toggleable__label {\n",
       "  background-color: var(--sklearn-color-fitted-level-2);\n",
       "}\n",
       "\n",
       "/* Estimator-specific style */\n",
       "\n",
       "/* Colorize estimator box */\n",
       "#sk-container-id-2 div.sk-estimator input.sk-toggleable__control:checked~label.sk-toggleable__label {\n",
       "  /* unfitted */\n",
       "  background-color: var(--sklearn-color-unfitted-level-2);\n",
       "}\n",
       "\n",
       "#sk-container-id-2 div.sk-estimator.fitted input.sk-toggleable__control:checked~label.sk-toggleable__label {\n",
       "  /* fitted */\n",
       "  background-color: var(--sklearn-color-fitted-level-2);\n",
       "}\n",
       "\n",
       "#sk-container-id-2 div.sk-label label.sk-toggleable__label,\n",
       "#sk-container-id-2 div.sk-label label {\n",
       "  /* The background is the default theme color */\n",
       "  color: var(--sklearn-color-text-on-default-background);\n",
       "}\n",
       "\n",
       "/* On hover, darken the color of the background */\n",
       "#sk-container-id-2 div.sk-label:hover label.sk-toggleable__label {\n",
       "  color: var(--sklearn-color-text);\n",
       "  background-color: var(--sklearn-color-unfitted-level-2);\n",
       "}\n",
       "\n",
       "/* Label box, darken color on hover, fitted */\n",
       "#sk-container-id-2 div.sk-label.fitted:hover label.sk-toggleable__label.fitted {\n",
       "  color: var(--sklearn-color-text);\n",
       "  background-color: var(--sklearn-color-fitted-level-2);\n",
       "}\n",
       "\n",
       "/* Estimator label */\n",
       "\n",
       "#sk-container-id-2 div.sk-label label {\n",
       "  font-family: monospace;\n",
       "  font-weight: bold;\n",
       "  display: inline-block;\n",
       "  line-height: 1.2em;\n",
       "}\n",
       "\n",
       "#sk-container-id-2 div.sk-label-container {\n",
       "  text-align: center;\n",
       "}\n",
       "\n",
       "/* Estimator-specific */\n",
       "#sk-container-id-2 div.sk-estimator {\n",
       "  font-family: monospace;\n",
       "  border: 1px dotted var(--sklearn-color-border-box);\n",
       "  border-radius: 0.25em;\n",
       "  box-sizing: border-box;\n",
       "  margin-bottom: 0.5em;\n",
       "  /* unfitted */\n",
       "  background-color: var(--sklearn-color-unfitted-level-0);\n",
       "}\n",
       "\n",
       "#sk-container-id-2 div.sk-estimator.fitted {\n",
       "  /* fitted */\n",
       "  background-color: var(--sklearn-color-fitted-level-0);\n",
       "}\n",
       "\n",
       "/* on hover */\n",
       "#sk-container-id-2 div.sk-estimator:hover {\n",
       "  /* unfitted */\n",
       "  background-color: var(--sklearn-color-unfitted-level-2);\n",
       "}\n",
       "\n",
       "#sk-container-id-2 div.sk-estimator.fitted:hover {\n",
       "  /* fitted */\n",
       "  background-color: var(--sklearn-color-fitted-level-2);\n",
       "}\n",
       "\n",
       "/* Specification for estimator info (e.g. \"i\" and \"?\") */\n",
       "\n",
       "/* Common style for \"i\" and \"?\" */\n",
       "\n",
       ".sk-estimator-doc-link,\n",
       "a:link.sk-estimator-doc-link,\n",
       "a:visited.sk-estimator-doc-link {\n",
       "  float: right;\n",
       "  font-size: smaller;\n",
       "  line-height: 1em;\n",
       "  font-family: monospace;\n",
       "  background-color: var(--sklearn-color-background);\n",
       "  border-radius: 1em;\n",
       "  height: 1em;\n",
       "  width: 1em;\n",
       "  text-decoration: none !important;\n",
       "  margin-left: 1ex;\n",
       "  /* unfitted */\n",
       "  border: var(--sklearn-color-unfitted-level-1) 1pt solid;\n",
       "  color: var(--sklearn-color-unfitted-level-1);\n",
       "}\n",
       "\n",
       ".sk-estimator-doc-link.fitted,\n",
       "a:link.sk-estimator-doc-link.fitted,\n",
       "a:visited.sk-estimator-doc-link.fitted {\n",
       "  /* fitted */\n",
       "  border: var(--sklearn-color-fitted-level-1) 1pt solid;\n",
       "  color: var(--sklearn-color-fitted-level-1);\n",
       "}\n",
       "\n",
       "/* On hover */\n",
       "div.sk-estimator:hover .sk-estimator-doc-link:hover,\n",
       ".sk-estimator-doc-link:hover,\n",
       "div.sk-label-container:hover .sk-estimator-doc-link:hover,\n",
       ".sk-estimator-doc-link:hover {\n",
       "  /* unfitted */\n",
       "  background-color: var(--sklearn-color-unfitted-level-3);\n",
       "  color: var(--sklearn-color-background);\n",
       "  text-decoration: none;\n",
       "}\n",
       "\n",
       "div.sk-estimator.fitted:hover .sk-estimator-doc-link.fitted:hover,\n",
       ".sk-estimator-doc-link.fitted:hover,\n",
       "div.sk-label-container:hover .sk-estimator-doc-link.fitted:hover,\n",
       ".sk-estimator-doc-link.fitted:hover {\n",
       "  /* fitted */\n",
       "  background-color: var(--sklearn-color-fitted-level-3);\n",
       "  color: var(--sklearn-color-background);\n",
       "  text-decoration: none;\n",
       "}\n",
       "\n",
       "/* Span, style for the box shown on hovering the info icon */\n",
       ".sk-estimator-doc-link span {\n",
       "  display: none;\n",
       "  z-index: 9999;\n",
       "  position: relative;\n",
       "  font-weight: normal;\n",
       "  right: .2ex;\n",
       "  padding: .5ex;\n",
       "  margin: .5ex;\n",
       "  width: min-content;\n",
       "  min-width: 20ex;\n",
       "  max-width: 50ex;\n",
       "  color: var(--sklearn-color-text);\n",
       "  box-shadow: 2pt 2pt 4pt #999;\n",
       "  /* unfitted */\n",
       "  background: var(--sklearn-color-unfitted-level-0);\n",
       "  border: .5pt solid var(--sklearn-color-unfitted-level-3);\n",
       "}\n",
       "\n",
       ".sk-estimator-doc-link.fitted span {\n",
       "  /* fitted */\n",
       "  background: var(--sklearn-color-fitted-level-0);\n",
       "  border: var(--sklearn-color-fitted-level-3);\n",
       "}\n",
       "\n",
       ".sk-estimator-doc-link:hover span {\n",
       "  display: block;\n",
       "}\n",
       "\n",
       "/* \"?\"-specific style due to the `<a>` HTML tag */\n",
       "\n",
       "#sk-container-id-2 a.estimator_doc_link {\n",
       "  float: right;\n",
       "  font-size: 1rem;\n",
       "  line-height: 1em;\n",
       "  font-family: monospace;\n",
       "  background-color: var(--sklearn-color-background);\n",
       "  border-radius: 1rem;\n",
       "  height: 1rem;\n",
       "  width: 1rem;\n",
       "  text-decoration: none;\n",
       "  /* unfitted */\n",
       "  color: var(--sklearn-color-unfitted-level-1);\n",
       "  border: var(--sklearn-color-unfitted-level-1) 1pt solid;\n",
       "}\n",
       "\n",
       "#sk-container-id-2 a.estimator_doc_link.fitted {\n",
       "  /* fitted */\n",
       "  border: var(--sklearn-color-fitted-level-1) 1pt solid;\n",
       "  color: var(--sklearn-color-fitted-level-1);\n",
       "}\n",
       "\n",
       "/* On hover */\n",
       "#sk-container-id-2 a.estimator_doc_link:hover {\n",
       "  /* unfitted */\n",
       "  background-color: var(--sklearn-color-unfitted-level-3);\n",
       "  color: var(--sklearn-color-background);\n",
       "  text-decoration: none;\n",
       "}\n",
       "\n",
       "#sk-container-id-2 a.estimator_doc_link.fitted:hover {\n",
       "  /* fitted */\n",
       "  background-color: var(--sklearn-color-fitted-level-3);\n",
       "}\n",
       "</style><div id=\"sk-container-id-2\" class=\"sk-top-container\"><div class=\"sk-text-repr-fallback\"><pre>XGBRegressor(base_score=None, booster=None, callbacks=None,\n",
       "             colsample_bylevel=None, colsample_bynode=None,\n",
       "             colsample_bytree=0.8515398956431687, device=None,\n",
       "             early_stopping_rounds=None, enable_categorical=False,\n",
       "             eval_metric=&#x27;mae&#x27;, feature_types=None, gamma=0.27174494014447687,\n",
       "             grow_policy=None, importance_type=None,\n",
       "             interaction_constraints=None, learning_rate=0.18124796230425852,\n",
       "             max_bin=None, max_cat_threshold=None, max_cat_to_onehot=None,\n",
       "             max_delta_step=None, max_depth=6, max_leaves=None,\n",
       "             min_child_weight=2, missing=nan, monotone_constraints=None,\n",
       "             multi_strategy=None, n_estimators=447, n_jobs=None,\n",
       "             num_parallel_tree=None, random_state=3024, ...)</pre><b>In a Jupyter environment, please rerun this cell to show the HTML representation or trust the notebook. <br />On GitHub, the HTML representation is unable to render, please try loading this page with nbviewer.org.</b></div><div class=\"sk-container\" hidden><div class=\"sk-item\"><div class=\"sk-estimator fitted sk-toggleable\"><input class=\"sk-toggleable__control sk-hidden--visually\" id=\"sk-estimator-id-2\" type=\"checkbox\" checked><label for=\"sk-estimator-id-2\" class=\"sk-toggleable__label fitted sk-toggleable__label-arrow fitted\">&nbsp;XGBRegressor<span class=\"sk-estimator-doc-link fitted\">i<span>Fitted</span></span></label><div class=\"sk-toggleable__content fitted\"><pre>XGBRegressor(base_score=None, booster=None, callbacks=None,\n",
       "             colsample_bylevel=None, colsample_bynode=None,\n",
       "             colsample_bytree=0.8515398956431687, device=None,\n",
       "             early_stopping_rounds=None, enable_categorical=False,\n",
       "             eval_metric=&#x27;mae&#x27;, feature_types=None, gamma=0.27174494014447687,\n",
       "             grow_policy=None, importance_type=None,\n",
       "             interaction_constraints=None, learning_rate=0.18124796230425852,\n",
       "             max_bin=None, max_cat_threshold=None, max_cat_to_onehot=None,\n",
       "             max_delta_step=None, max_depth=6, max_leaves=None,\n",
       "             min_child_weight=2, missing=nan, monotone_constraints=None,\n",
       "             multi_strategy=None, n_estimators=447, n_jobs=None,\n",
       "             num_parallel_tree=None, random_state=3024, ...)</pre></div> </div></div></div></div>"
      ],
      "text/plain": [
       "XGBRegressor(base_score=None, booster=None, callbacks=None,\n",
       "             colsample_bylevel=None, colsample_bynode=None,\n",
       "             colsample_bytree=0.8515398956431687, device=None,\n",
       "             early_stopping_rounds=None, enable_categorical=False,\n",
       "             eval_metric='mae', feature_types=None, gamma=0.27174494014447687,\n",
       "             grow_policy=None, importance_type=None,\n",
       "             interaction_constraints=None, learning_rate=0.18124796230425852,\n",
       "             max_bin=None, max_cat_threshold=None, max_cat_to_onehot=None,\n",
       "             max_delta_step=None, max_depth=6, max_leaves=None,\n",
       "             min_child_weight=2, missing=nan, monotone_constraints=None,\n",
       "             multi_strategy=None, n_estimators=447, n_jobs=None,\n",
       "             num_parallel_tree=None, random_state=3024, ...)"
      ]
     },
     "execution_count": 14,
     "metadata": {},
     "output_type": "execute_result"
    }
   ],
=======
   "outputs": [],
>>>>>>> krishna_exp:satoriengine/framework/Jupyter/xgb.ipynb
   "source": [
    "xgb_model.fit(\n",
    "    X_full,\n",
    "    y_full,\n",
    "    # eval_set=[(X_full, y_full)],  # Use full dataset for evaluation\n",
    "    verbose=False\n",
    ")"
   ]
  },
  {
   "cell_type": "code",
<<<<<<< HEAD
   "execution_count": 15,
=======
<<<<<<< HEAD
<<<<<<< HEAD:satoriengine/veda/Jupyter/xgb.ipynb
   "execution_count": 255,
=======
   "execution_count": null,
>>>>>>> krishna_exp:satoriengine/framework/Jupyter/xgb.ipynb
=======
   "execution_count": 15,
>>>>>>> krishna
>>>>>>> meta
   "id": "03f0f8fb-849d-4438-9ba9-edccf397dddf",
   "metadata": {},
   "outputs": [],
   "source": [
    "def predict_future(model, last_date, periods=168):  # default to 1 week (168 hours)\n",
    "    \"\"\"\n",
    "    Generate predictions for future periods\n",
    "    \n",
    "    Args:\n",
    "        model: Trained XGBoost model\n",
    "        last_date: Last date in training data\n",
    "        periods: Number of hours to predict into future\n",
    "    \"\"\"\n",
    "    # Generate future dates\n",
    "    future_dates = pd.date_range(\n",
    "        start=pd.Timestamp(last_date) + pd.Timedelta(proc_data.sampling_frequency),\n",
    "        periods=periods,\n",
    "        freq=proc_data.sampling_frequency\n",
    "    )\n",
    "    \n",
    "    # Prepare features for future dates\n",
    "    future_features = prepare_time_features(future_dates)\n",
    "    \n",
    "    # Make predictions\n",
    "    predictions = model.predict(future_features)\n",
    "    \n",
    "    # Create results dataframe\n",
    "    results = pd.DataFrame({\n",
    "        'date_time': future_dates,\n",
    "        'predicted_value': predictions\n",
    "    })\n",
    "    \n",
    "    return results\n",
    "\n",
    "# Get last date from your data\n",
    "last_date = pd.Timestamp(proc_data.dataset.index[-1])\n",
    "type(last_date)\n",
    "# Make future predictions (e.g., next week)\n",
    "future_predictions = predict_future(xgb_model, last_date)"
   ]
  },
  {
   "cell_type": "code",
<<<<<<< HEAD
   "execution_count": 16,
=======
<<<<<<< HEAD
<<<<<<< HEAD:satoriengine/veda/Jupyter/xgb.ipynb
   "execution_count": 256,
=======
   "execution_count": 16,
>>>>>>> krishna
>>>>>>> meta
   "id": "a7c67295-7b46-4b38-821b-39c5053a7fb1",
   "metadata": {},
   "outputs": [
    {
     "data": {
      "text/plain": [
       "pandas._libs.tslibs.timestamps.Timestamp"
      ]
     },
     "execution_count": 16,
     "metadata": {},
     "output_type": "execute_result"
    }
   ],
=======
   "execution_count": null,
   "id": "a7c67295-7b46-4b38-821b-39c5053a7fb1",
   "metadata": {},
   "outputs": [],
>>>>>>> krishna_exp:satoriengine/framework/Jupyter/xgb.ipynb
   "source": [
    "type(last_date)"
   ]
  },
  {
   "cell_type": "code",
<<<<<<< HEAD
   "execution_count": 17,
=======
<<<<<<< HEAD
<<<<<<< HEAD:satoriengine/veda/Jupyter/xgb.ipynb
   "execution_count": 108,
=======
   "execution_count": 17,
>>>>>>> krishna
>>>>>>> meta
   "id": "d20d3399-aa54-4e0d-8de9-7aae98a181da",
   "metadata": {},
   "outputs": [
    {
     "data": {
      "text/html": [
       "<div>\n",
       "<style scoped>\n",
       "    .dataframe tbody tr th:only-of-type {\n",
       "        vertical-align: middle;\n",
       "    }\n",
       "\n",
       "    .dataframe tbody tr th {\n",
       "        vertical-align: top;\n",
       "    }\n",
       "\n",
       "    .dataframe thead th {\n",
       "        text-align: right;\n",
       "    }\n",
       "</style>\n",
       "<table border=\"1\" class=\"dataframe\">\n",
       "  <thead>\n",
       "    <tr style=\"text-align: right;\">\n",
       "      <th></th>\n",
       "      <th>date_time</th>\n",
       "      <th>predicted_value</th>\n",
       "    </tr>\n",
       "  </thead>\n",
       "  <tbody>\n",
       "    <tr>\n",
       "      <th>0</th>\n",
       "      <td>2024-12-16 13:42:00</td>\n",
       "      <td>19.065962</td>\n",
       "    </tr>\n",
       "    <tr>\n",
       "      <th>1</th>\n",
       "      <td>2024-12-16 13:52:00</td>\n",
       "      <td>19.065962</td>\n",
       "    </tr>\n",
       "    <tr>\n",
       "      <th>2</th>\n",
       "      <td>2024-12-16 14:02:00</td>\n",
       "      <td>18.983063</td>\n",
       "    </tr>\n",
       "    <tr>\n",
       "      <th>3</th>\n",
       "      <td>2024-12-16 14:12:00</td>\n",
       "      <td>18.983063</td>\n",
       "    </tr>\n",
       "    <tr>\n",
       "      <th>4</th>\n",
       "      <td>2024-12-16 14:22:00</td>\n",
       "      <td>18.983063</td>\n",
       "    </tr>\n",
       "    <tr>\n",
       "      <th>...</th>\n",
       "      <td>...</td>\n",
       "      <td>...</td>\n",
       "    </tr>\n",
       "    <tr>\n",
       "      <th>163</th>\n",
       "      <td>2024-12-17 16:52:00</td>\n",
       "      <td>18.962883</td>\n",
       "    </tr>\n",
       "    <tr>\n",
       "      <th>164</th>\n",
       "      <td>2024-12-17 17:02:00</td>\n",
       "      <td>18.962883</td>\n",
       "    </tr>\n",
       "    <tr>\n",
       "      <th>165</th>\n",
       "      <td>2024-12-17 17:12:00</td>\n",
       "      <td>18.962883</td>\n",
       "    </tr>\n",
       "    <tr>\n",
       "      <th>166</th>\n",
       "      <td>2024-12-17 17:22:00</td>\n",
       "      <td>18.962883</td>\n",
       "    </tr>\n",
       "    <tr>\n",
       "      <th>167</th>\n",
       "      <td>2024-12-17 17:32:00</td>\n",
       "      <td>18.962883</td>\n",
       "    </tr>\n",
       "  </tbody>\n",
       "</table>\n",
       "<p>168 rows × 2 columns</p>\n",
       "</div>"
      ],
      "text/plain": [
       "              date_time  predicted_value\n",
       "0   2024-12-16 13:42:00        19.065962\n",
       "1   2024-12-16 13:52:00        19.065962\n",
       "2   2024-12-16 14:02:00        18.983063\n",
       "3   2024-12-16 14:12:00        18.983063\n",
       "4   2024-12-16 14:22:00        18.983063\n",
       "..                  ...              ...\n",
       "163 2024-12-17 16:52:00        18.962883\n",
       "164 2024-12-17 17:02:00        18.962883\n",
       "165 2024-12-17 17:12:00        18.962883\n",
       "166 2024-12-17 17:22:00        18.962883\n",
       "167 2024-12-17 17:32:00        18.962883\n",
       "\n",
       "[168 rows x 2 columns]"
      ]
     },
     "execution_count": 17,
     "metadata": {},
     "output_type": "execute_result"
    }
   ],
=======
   "execution_count": null,
   "id": "d20d3399-aa54-4e0d-8de9-7aae98a181da",
   "metadata": {},
   "outputs": [],
>>>>>>> krishna_exp:satoriengine/framework/Jupyter/xgb.ipynb
   "source": [
    "future_predictions"
   ]
  },
  {
   "cell_type": "code",
<<<<<<< HEAD
   "execution_count": null,
   "id": "c43d6472-0729-4908-b99a-be5749523d69",
   "metadata": {},
   "outputs": [],
=======
<<<<<<< HEAD
<<<<<<< HEAD:satoriengine/veda/Jupyter/xgb.ipynb
   "execution_count": 98,
   "id": "c43d6472-0729-4908-b99a-be5749523d69",
   "metadata": {},
   "outputs": [
    {
     "data": {
      "text/html": [
       "<div>\n",
       "<style scoped>\n",
       "    .dataframe tbody tr th:only-of-type {\n",
       "        vertical-align: middle;\n",
       "    }\n",
       "\n",
       "    .dataframe tbody tr th {\n",
       "        vertical-align: top;\n",
       "    }\n",
       "\n",
       "    .dataframe thead th {\n",
       "        text-align: right;\n",
       "    }\n",
       "</style>\n",
       "<table border=\"1\" class=\"dataframe\">\n",
       "  <thead>\n",
       "    <tr style=\"text-align: right;\">\n",
       "      <th></th>\n",
       "      <th>date_time</th>\n",
       "      <th>predicted_value</th>\n",
       "    </tr>\n",
       "  </thead>\n",
       "  <tbody>\n",
       "    <tr>\n",
       "      <th>0</th>\n",
       "      <td>2017-07-01 00:00:00</td>\n",
       "      <td>67.385147</td>\n",
       "    </tr>\n",
       "    <tr>\n",
       "      <th>1</th>\n",
       "      <td>2017-07-01 01:00:00</td>\n",
       "      <td>59.374039</td>\n",
       "    </tr>\n",
       "    <tr>\n",
       "      <th>2</th>\n",
       "      <td>2017-07-01 02:00:00</td>\n",
       "      <td>48.790020</td>\n",
       "    </tr>\n",
       "    <tr>\n",
       "      <th>3</th>\n",
       "      <td>2017-07-01 03:00:00</td>\n",
       "      <td>41.097279</td>\n",
       "    </tr>\n",
       "    <tr>\n",
       "      <th>4</th>\n",
       "      <td>2017-07-01 04:00:00</td>\n",
       "      <td>34.455666</td>\n",
       "    </tr>\n",
       "    <tr>\n",
       "      <th>...</th>\n",
       "      <td>...</td>\n",
       "      <td>...</td>\n",
       "    </tr>\n",
       "    <tr>\n",
       "      <th>163</th>\n",
       "      <td>2017-07-07 19:00:00</td>\n",
       "      <td>89.165237</td>\n",
       "    </tr>\n",
       "    <tr>\n",
       "      <th>164</th>\n",
       "      <td>2017-07-07 20:00:00</td>\n",
       "      <td>86.735573</td>\n",
       "    </tr>\n",
       "    <tr>\n",
       "      <th>165</th>\n",
       "      <td>2017-07-07 21:00:00</td>\n",
       "      <td>76.780396</td>\n",
       "    </tr>\n",
       "    <tr>\n",
       "      <th>166</th>\n",
       "      <td>2017-07-07 22:00:00</td>\n",
       "      <td>70.376259</td>\n",
       "    </tr>\n",
       "    <tr>\n",
       "      <th>167</th>\n",
       "      <td>2017-07-07 23:00:00</td>\n",
       "      <td>67.441032</td>\n",
       "    </tr>\n",
       "  </tbody>\n",
       "</table>\n",
       "<p>168 rows × 2 columns</p>\n",
       "</div>"
      ],
      "text/plain": [
       "              date_time  predicted_value\n",
       "0   2017-07-01 00:00:00        67.385147\n",
       "1   2017-07-01 01:00:00        59.374039\n",
       "2   2017-07-01 02:00:00        48.790020\n",
       "3   2017-07-01 03:00:00        41.097279\n",
       "4   2017-07-01 04:00:00        34.455666\n",
       "..                  ...              ...\n",
       "163 2017-07-07 19:00:00        89.165237\n",
       "164 2017-07-07 20:00:00        86.735573\n",
       "165 2017-07-07 21:00:00        76.780396\n",
       "166 2017-07-07 22:00:00        70.376259\n",
       "167 2017-07-07 23:00:00        67.441032\n",
       "\n",
       "[168 rows x 2 columns]"
      ]
     },
     "execution_count": 98,
     "metadata": {},
     "output_type": "execute_result"
    }
   ],
=======
   "execution_count": null,
   "id": "c43d6472-0729-4908-b99a-be5749523d69",
   "metadata": {},
   "outputs": [],
>>>>>>> krishna_exp:satoriengine/framework/Jupyter/xgb.ipynb
=======
   "execution_count": null,
   "id": "c43d6472-0729-4908-b99a-be5749523d69",
   "metadata": {},
   "outputs": [],
>>>>>>> krishna
>>>>>>> meta
   "source": [
    "future_predictions"
   ]
  },
  {
   "cell_type": "code",
<<<<<<< HEAD
   "execution_count": null,
   "id": "3dcb68a1-0cc1-4a63-bec6-290043807fdd",
   "metadata": {},
   "outputs": [],
=======
<<<<<<< HEAD
<<<<<<< HEAD:satoriengine/veda/Jupyter/xgb.ipynb
   "execution_count": 44,
   "id": "3dcb68a1-0cc1-4a63-bec6-290043807fdd",
   "metadata": {},
   "outputs": [
    {
     "ename": "NameError",
     "evalue": "name 'predictions' is not defined",
     "output_type": "error",
     "traceback": [
      "\u001b[1;31m---------------------------------------------------------------------------\u001b[0m",
      "\u001b[1;31mNameError\u001b[0m                                 Traceback (most recent call last)",
      "Cell \u001b[1;32mIn[44], line 1\u001b[0m\n\u001b[1;32m----> 1\u001b[0m \u001b[38;5;28mlen\u001b[39m(\u001b[43mpredictions\u001b[49m)\n",
      "\u001b[1;31mNameError\u001b[0m: name 'predictions' is not defined"
     ]
    }
   ],
=======
   "execution_count": null,
   "id": "3dcb68a1-0cc1-4a63-bec6-290043807fdd",
   "metadata": {},
   "outputs": [],
>>>>>>> krishna_exp:satoriengine/framework/Jupyter/xgb.ipynb
=======
   "execution_count": null,
   "id": "3dcb68a1-0cc1-4a63-bec6-290043807fdd",
   "metadata": {},
   "outputs": [],
>>>>>>> krishna
>>>>>>> meta
   "source": [
    "len(predictions)"
   ]
  },
  {
   "cell_type": "code",
<<<<<<< HEAD
   "execution_count": null,
   "id": "3620c817-72cf-4453-a14f-823a01f572f0",
   "metadata": {},
   "outputs": [],
=======
<<<<<<< HEAD
<<<<<<< HEAD:satoriengine/veda/Jupyter/xgb.ipynb
   "execution_count": 62,
   "id": "3620c817-72cf-4453-a14f-823a01f572f0",
   "metadata": {},
   "outputs": [
    {
     "data": {
      "text/plain": [
       "array([58.357044, 74.65956 , 80.03948 , ..., 84.72669 , 79.21824 ,\n",
       "       70.54479 ], dtype=float32)"
      ]
     },
     "execution_count": 62,
     "metadata": {},
     "output_type": "execute_result"
    }
   ],
=======
   "execution_count": null,
   "id": "3620c817-72cf-4453-a14f-823a01f572f0",
   "metadata": {},
   "outputs": [],
>>>>>>> krishna_exp:satoriengine/framework/Jupyter/xgb.ipynb
=======
   "execution_count": null,
   "id": "3620c817-72cf-4453-a14f-823a01f572f0",
   "metadata": {},
   "outputs": [],
>>>>>>> krishna
>>>>>>> meta
   "source": [
    "predictions"
   ]
  },
  {
   "cell_type": "code",
   "execution_count": null,
   "id": "485c810a-52f9-4b1e-8b34-2ef921187380",
   "metadata": {},
   "outputs": [],
   "source": []
  }
 ],
 "metadata": {
  "kernelspec": {
   "display_name": "Python 3 (ipykernel)",
   "language": "python",
   "name": "python3"
  },
  "language_info": {
   "codemirror_mode": {
    "name": "ipython",
    "version": 3
   },
   "file_extension": ".py",
   "mimetype": "text/x-python",
   "name": "python",
   "nbconvert_exporter": "python",
   "pygments_lexer": "ipython3",
   "version": "3.12.6"
  }
 },
 "nbformat": 4,
 "nbformat_minor": 5
}
