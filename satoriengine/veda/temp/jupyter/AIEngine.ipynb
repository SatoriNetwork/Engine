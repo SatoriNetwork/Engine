{
 "cells": [
  {
   "cell_type": "code",
   "execution_count": 1,
   "id": "726d1447-ef22-4b3b-b82d-8c7048c5e0eb",
   "metadata": {},
   "outputs": [],
   "source": [
    "import warnings\n",
    "warnings.filterwarnings('ignore', category=UserWarning)\n",
    "warnings.filterwarnings('ignore', category=Warning)\n",
    "warnings.simplefilter('ignore')\n",
    "import sys\n",
    "sys.path.append('./aienginepackages')\n",
    "\n",
    "import pandas as pd"
   ]
  },
  {
   "cell_type": "code",
   "execution_count": 2,
   "id": "32839575-b9b8-47ff-a382-3eacdd26decb",
   "metadata": {},
   "outputs": [],
   "source": [
    "from aienginepackages import process_data\n",
    "from aienginepackages import determine_feature_set\n",
    "from aienginepackages import model_create_train_test_and_predict\n",
    "from aienginepackages import skEnginePipeline"
   ]
  },
  {
   "cell_type": "code",
   "execution_count": 7,
   "id": "070e147d-2284-4186-9384-142e41d5ad31",
   "metadata": {},
   "outputs": [],
   "source": [
    "df = pd.read_csv(\"datasets/2.csv\", names=['date_time', 'value','id'])\n",
    "proc_dataa = process_data(df, quick_start=False)"
   ]
  },
  {
   "cell_type": "code",
   "execution_count": 8,
   "id": "7c32c04e-bb3e-4beb-aec1-30225d70256b",
   "metadata": {},
   "outputs": [
    {
     "data": {
      "text/plain": [
       "2202"
      ]
     },
     "execution_count": 8,
     "metadata": {},
     "output_type": "execute_result"
    }
   ],
   "source": [
    "len(proc_dataa.dataset)"
   ]
  },
  {
   "cell_type": "code",
   "execution_count": 9,
   "id": "1f1d9899-fa97-4707-bdd9-d450a2fe3b41",
   "metadata": {},
   "outputs": [
    {
     "data": {
      "text/plain": [
       "['baseline',\n",
       " 'direct_lasso',\n",
       " 'autoreg_linearregression',\n",
       " 'autoreg_lasso',\n",
       " 'autoreg_lightgbm']"
      ]
     },
     "execution_count": 9,
     "metadata": {},
     "output_type": "execute_result"
    }
   ],
   "source": [
    "proc_dataa.allowed_models"
   ]
  },
  {
   "cell_type": "code",
   "execution_count": 91,
   "id": "9ff2b778-2ba6-4d51-a551-f0ae8c7e7de8",
   "metadata": {
    "scrolled": true
   },
   "outputs": [
    {
     "name": "stdout",
     "output_type": "stream",
     "text": [
      "1\n"
     ]
    },
    {
     "name": "stderr",
     "output_type": "stream",
     "text": [
      "C:\\repos\\Satori\\Engine\\satoriengine\\veda\\Jupyter\\aienginepackages\\determine_features.py:514: InterpolationWarning: The test statistic is outside of the range of p-values available in the\n",
      "look-up table. The actual p-value is smaller than the p-value returned.\n",
      "\n",
      "  kpss_result = kpss(data_diff['value'])\n",
      "C:\\repos\\Satori\\Engine\\satoriengine\\veda\\Jupyter\\aienginepackages\\determine_features.py:514: InterpolationWarning: The test statistic is outside of the range of p-values available in the\n",
      "look-up table. The actual p-value is greater than the p-value returned.\n",
      "\n",
      "  kpss_result = kpss(data_diff['value'])\n"
     ]
    },
    {
     "name": "stdout",
     "output_type": "stream",
     "text": [
      "2\n"
     ]
    },
    {
     "data": {
      "application/vnd.jupyter.widget-view+json": {
       "model_id": "ebc515747acc4282abe97518fa3126af",
       "version_major": 2,
       "version_minor": 0
      },
      "text/plain": [
       "  0%|          | 0/20 [00:00<?, ?it/s]"
      ]
     },
     "metadata": {},
     "output_type": "display_data"
    },
    {
     "name": "stdout",
     "output_type": "stream",
     "text": [
      "`Forecaster` refitted using the best-found lags and parameters, and the whole data set: \n",
      "  Lags: [   1    2    3 ... 1006 1007 1008] \n",
      "  Parameters: {}\n",
      "  Backtesting metric: 182.50045350958982\n",
      "\n"
     ]
    }
   ],
   "source": [
    "engine = skEnginePipeline(df, ['autoreg_linearboost'], mode='train')"
   ]
  },
  {
   "cell_type": "code",
   "execution_count": 92,
   "id": "c751493e-25c3-40a1-95f6-bf5839ee3ad3",
   "metadata": {},
   "outputs": [
    {
     "data": {
      "text/plain": [
       "1"
      ]
     },
     "execution_count": 92,
     "metadata": {},
     "output_type": "execute_result"
    }
   ],
   "source": [
    "engine.status"
   ]
  },
  {
   "cell_type": "code",
   "execution_count": 93,
   "id": "ba3b54d9-526e-44c5-a13d-39191567682c",
   "metadata": {},
   "outputs": [
    {
     "data": {
      "text/plain": [
       "130.4028816241809"
      ]
     },
     "execution_count": 93,
     "metadata": {},
     "output_type": "execute_result"
    }
   ],
   "source": [
    "engine.list_of_models[0].backtest_error"
   ]
  },
  {
   "cell_type": "code",
   "execution_count": 94,
   "id": "a3d0fa1c-4b50-4f81-91af-60a9023f0422",
   "metadata": {},
   "outputs": [
    {
     "data": {
      "text/plain": [
       "<model_creation.ForecastModelResult at 0x26b6cd35dc0>"
      ]
     },
     "execution_count": 94,
     "metadata": {},
     "output_type": "execute_result"
    }
   ],
   "source": [
    "engine.list_of_models[0]"
   ]
  },
  {
   "cell_type": "code",
   "execution_count": 95,
   "id": "73bf2f91-72c0-4330-8c3d-42a3c0f8be23",
   "metadata": {},
   "outputs": [
    {
     "data": {
      "text/plain": [
       "================= \n",
       "ForecasterAutoreg \n",
       "================= \n",
       "Regressor: LinearBoostRegressor(base_estimator=LinearRegression(), random_state=123) \n",
       "Lags: [   1    2    3 ... 1006 1007 1008] \n",
       "Transformer for y: StandardScaler() \n",
       "Transformer for exog: None \n",
       "Window size: 1008 \n",
       "Weight function included: False \n",
       "Differentiation order: None \n",
       "Exogenous included: False \n",
       "Exogenous variables names: None \n",
       "Training range: None \n",
       "Training index type: None \n",
       "Training index frequency: None \n",
       "Regressor parameters: {'base_estimator__copy_X': True, 'base_estimator__fit_intercept': True, 'base_estimator__n_jobs': None, 'base_estimator__positive': False, 'base_estimator': LinearRegression(), 'ccp_alpha': 0.0, 'loss': 'linear', 'max_depth': 3, 'max_features': None, 'max_leaf_nodes': None, 'min_impurity_decrease': 0.0, 'min_samples_leaf': 1, 'min_samples_split': 2, 'min_weight_fraction_leaf': 0.0, 'n_estimators': 10, 'random_state': 123} \n",
       "fit_kwargs: {} \n",
       "Creation date: 2024-12-04 07:49:25 \n",
       "Last fit date: None \n",
       "Skforecast version: 0.13.0 \n",
       "Python version: 3.12.6 \n",
       "Forecaster id: None "
      ]
     },
     "execution_count": 95,
     "metadata": {},
     "output_type": "execute_result"
    }
   ],
   "source": [
    "engine.list_of_models[0].unfitted_forecaster"
   ]
  },
  {
   "cell_type": "code",
   "execution_count": 89,
   "id": "7b939eb3-d866-4f61-8b63-76f14b3f6fa5",
   "metadata": {},
   "outputs": [
    {
     "name": "stdout",
     "output_type": "stream",
     "text": [
      "1\n"
     ]
    },
    {
     "name": "stderr",
     "output_type": "stream",
     "text": [
      "C:\\repos\\Satori\\Engine\\satoriengine\\veda\\Jupyter\\aienginepackages\\determine_features.py:514: InterpolationWarning: The test statistic is outside of the range of p-values available in the\n",
      "look-up table. The actual p-value is smaller than the p-value returned.\n",
      "\n",
      "  kpss_result = kpss(data_diff['value'])\n",
      "C:\\repos\\Satori\\Engine\\satoriengine\\veda\\Jupyter\\aienginepackages\\determine_features.py:514: InterpolationWarning: The test statistic is outside of the range of p-values available in the\n",
      "look-up table. The actual p-value is greater than the p-value returned.\n",
      "\n",
      "  kpss_result = kpss(data_diff['value'])\n"
     ]
    },
    {
     "name": "stdout",
     "output_type": "stream",
     "text": [
      "2\n",
      "3\n",
      "4\n"
     ]
    },
    {
     "name": "stderr",
     "output_type": "stream",
     "text": [
      "C:\\Users\\krizh\\AppData\\Local\\Programs\\Python\\Python312\\Lib\\site-packages\\sklearn\\preprocessing\\_discretization.py:263: UserWarning: Feature 0 is constant and will be replaced with 0.\n",
      "  warnings.warn(\n"
     ]
    },
    {
     "name": "stdout",
     "output_type": "stream",
     "text": [
      "5\n"
     ]
    }
   ],
   "source": [
    "engine_result = skEnginePipeline(df, \n",
    "                                 ['autoreg_linearboost'], \n",
    "                                 mode='predict',\n",
    "                                unfitted_forecaster=engine.list_of_models[0].unfitted_forecaster)"
   ]
  },
  {
   "cell_type": "code",
   "execution_count": 90,
   "id": "3cd41cbc-1921-46ae-880a-217a4d769f99",
   "metadata": {},
   "outputs": [
    {
     "data": {
      "text/html": [
       "<div>\n",
       "<style scoped>\n",
       "    .dataframe tbody tr th:only-of-type {\n",
       "        vertical-align: middle;\n",
       "    }\n",
       "\n",
       "    .dataframe tbody tr th {\n",
       "        vertical-align: top;\n",
       "    }\n",
       "\n",
       "    .dataframe thead th {\n",
       "        text-align: right;\n",
       "    }\n",
       "</style>\n",
       "<table border=\"1\" class=\"dataframe\">\n",
       "  <thead>\n",
       "    <tr style=\"text-align: right;\">\n",
       "      <th></th>\n",
       "      <th>pred</th>\n",
       "      <th>lower_bound</th>\n",
       "      <th>upper_bound</th>\n",
       "    </tr>\n",
       "  </thead>\n",
       "  <tbody>\n",
       "    <tr>\n",
       "      <th>2024-12-16 13:42:00</th>\n",
       "      <td>19.079835</td>\n",
       "      <td>19.079419</td>\n",
       "      <td>19.079419</td>\n",
       "    </tr>\n",
       "    <tr>\n",
       "      <th>2024-12-16 13:52:00</th>\n",
       "      <td>19.080250</td>\n",
       "      <td>19.079419</td>\n",
       "      <td>19.079419</td>\n",
       "    </tr>\n",
       "    <tr>\n",
       "      <th>2024-12-16 14:02:00</th>\n",
       "      <td>19.080666</td>\n",
       "      <td>19.079419</td>\n",
       "      <td>19.079419</td>\n",
       "    </tr>\n",
       "    <tr>\n",
       "      <th>2024-12-16 14:12:00</th>\n",
       "      <td>19.081082</td>\n",
       "      <td>19.079419</td>\n",
       "      <td>19.079419</td>\n",
       "    </tr>\n",
       "    <tr>\n",
       "      <th>2024-12-16 14:22:00</th>\n",
       "      <td>19.081497</td>\n",
       "      <td>19.079419</td>\n",
       "      <td>19.079419</td>\n",
       "    </tr>\n",
       "    <tr>\n",
       "      <th>...</th>\n",
       "      <td>...</td>\n",
       "      <td>...</td>\n",
       "      <td>...</td>\n",
       "    </tr>\n",
       "    <tr>\n",
       "      <th>2024-12-17 12:52:00</th>\n",
       "      <td>19.137601</td>\n",
       "      <td>18.904349</td>\n",
       "      <td>19.079419</td>\n",
       "    </tr>\n",
       "    <tr>\n",
       "      <th>2024-12-17 13:02:00</th>\n",
       "      <td>19.138016</td>\n",
       "      <td>18.904349</td>\n",
       "      <td>19.079419</td>\n",
       "    </tr>\n",
       "    <tr>\n",
       "      <th>2024-12-17 13:12:00</th>\n",
       "      <td>19.138432</td>\n",
       "      <td>18.904349</td>\n",
       "      <td>19.079419</td>\n",
       "    </tr>\n",
       "    <tr>\n",
       "      <th>2024-12-17 13:22:00</th>\n",
       "      <td>19.138847</td>\n",
       "      <td>18.904349</td>\n",
       "      <td>19.079419</td>\n",
       "    </tr>\n",
       "    <tr>\n",
       "      <th>2024-12-17 13:32:00</th>\n",
       "      <td>19.139263</td>\n",
       "      <td>18.904349</td>\n",
       "      <td>19.079419</td>\n",
       "    </tr>\n",
       "  </tbody>\n",
       "</table>\n",
       "<p>144 rows × 3 columns</p>\n",
       "</div>"
      ],
      "text/plain": [
       "                          pred  lower_bound  upper_bound\n",
       "2024-12-16 13:42:00  19.079835    19.079419    19.079419\n",
       "2024-12-16 13:52:00  19.080250    19.079419    19.079419\n",
       "2024-12-16 14:02:00  19.080666    19.079419    19.079419\n",
       "2024-12-16 14:12:00  19.081082    19.079419    19.079419\n",
       "2024-12-16 14:22:00  19.081497    19.079419    19.079419\n",
       "...                        ...          ...          ...\n",
       "2024-12-17 12:52:00  19.137601    18.904349    19.079419\n",
       "2024-12-17 13:02:00  19.138016    18.904349    19.079419\n",
       "2024-12-17 13:12:00  19.138432    18.904349    19.079419\n",
       "2024-12-17 13:22:00  19.138847    18.904349    19.079419\n",
       "2024-12-17 13:32:00  19.139263    18.904349    19.079419\n",
       "\n",
       "[144 rows x 3 columns]"
      ]
     },
     "execution_count": 90,
     "metadata": {},
     "output_type": "execute_result"
    }
   ],
   "source": [
    "engine_result.list_of_models[0].forecast"
   ]
  },
  {
   "cell_type": "code",
   "execution_count": null,
   "id": "363c6178-df7d-440d-848b-edfb94eb7e51",
   "metadata": {},
   "outputs": [],
   "source": []
  }
 ],
 "metadata": {
  "kernelspec": {
   "display_name": "Python 3 (ipykernel)",
   "language": "python",
   "name": "python3"
  },
  "language_info": {
   "codemirror_mode": {
    "name": "ipython",
    "version": 3
   },
   "file_extension": ".py",
   "mimetype": "text/x-python",
   "name": "python",
   "nbconvert_exporter": "python",
   "pygments_lexer": "ipython3",
   "version": "3.12.6"
  }
 },
 "nbformat": 4,
 "nbformat_minor": 5
}
