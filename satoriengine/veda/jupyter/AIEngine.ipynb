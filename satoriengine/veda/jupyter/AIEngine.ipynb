{
 "cells": [
  {
   "cell_type": "code",
<<<<<<< HEAD
   "execution_count": 5,
=======
   "execution_count": 1,
>>>>>>> main
   "id": "726d1447-ef22-4b3b-b82d-8c7048c5e0eb",
   "metadata": {},
   "outputs": [],
   "source": [
    "import warnings\n",
    "warnings.filterwarnings('ignore', category=UserWarning)\n",
    "warnings.filterwarnings('ignore', category=Warning)\n",
    "warnings.simplefilter('ignore')\n",
    "import sys\n",
    "sys.path.append('./aienginepackages')\n",
    "\n",
    "import pandas as pd"
   ]
  },
  {
   "cell_type": "code",
<<<<<<< HEAD
   "execution_count": 6,
=======
   "execution_count": 2,
>>>>>>> main
   "id": "32839575-b9b8-47ff-a382-3eacdd26decb",
   "metadata": {},
   "outputs": [],
   "source": [
    "from aienginepackages import process_data\n",
    "from aienginepackages import determine_feature_set\n",
    "from aienginepackages import model_create_train_test_and_predict\n",
    "from aienginepackages import skEnginePipeline"
   ]
  },
  {
   "cell_type": "code",
   "execution_count": 7,
   "id": "070e147d-2284-4186-9384-142e41d5ad31",
   "metadata": {},
   "outputs": [],
   "source": [
    "df = pd.read_csv(\"datasets/2.csv\", names=['date_time', 'value','id'])\n",
    "proc_dataa = process_data(df, quick_start=False)"
   ]
  },
  {
   "cell_type": "code",
<<<<<<< HEAD
   "execution_count": 13,
   "id": "db1136a2-826f-43ad-831a-0d064846a644",
   "metadata": {},
   "outputs": [
    {
     "data": {
      "text/plain": [
       "'10min'"
      ]
     },
     "execution_count": 13,
     "metadata": {},
     "output_type": "execute_result"
    }
   ],
   "source": [
    "proc_dataa.sampling_frequency"
   ]
  },
  {
   "cell_type": "code",
   "execution_count": 21,
   "id": "a575ce13-e8d0-4f85-869c-d707d21d5b9d",
   "metadata": {},
   "outputs": [
    {
     "name": "stdout",
     "output_type": "stream",
     "text": [
      "No\n"
     ]
    }
   ],
   "source": [
    "if pd.Timedelta(\"19min\") >= pd.Timedelta(minutes=20):\n",
    "    print(\"Yes\")\n",
    "else:\n",
    "    print(\"No\")"
   ]
  },
  {
   "cell_type": "code",
   "execution_count": 10,
   "id": "840192a1-8294-47b5-a299-8890d496c7bd",
   "metadata": {},
   "outputs": [
    {
     "data": {
      "text/html": [
       "<div>\n",
       "<style scoped>\n",
       "    .dataframe tbody tr th:only-of-type {\n",
       "        vertical-align: middle;\n",
       "    }\n",
       "\n",
       "    .dataframe tbody tr th {\n",
       "        vertical-align: top;\n",
       "    }\n",
       "\n",
       "    .dataframe thead th {\n",
       "        text-align: right;\n",
       "    }\n",
       "</style>\n",
       "<table border=\"1\" class=\"dataframe\">\n",
       "  <thead>\n",
       "    <tr style=\"text-align: right;\">\n",
       "      <th></th>\n",
       "      <th>value</th>\n",
       "      <th>hour</th>\n",
       "      <th>fractional_hour</th>\n",
       "      <th>sin_hour</th>\n",
       "      <th>cos_hour</th>\n",
       "      <th>sin_fractional_hour</th>\n",
       "      <th>cos_fractional_hour</th>\n",
       "      <th>hour fractional_hour</th>\n",
       "      <th>hour sin_hour</th>\n",
       "      <th>hour cos_hour</th>\n",
       "      <th>...</th>\n",
       "      <th>fractional_hour sin_hour</th>\n",
       "      <th>fractional_hour cos_hour</th>\n",
       "      <th>fractional_hour sin_fractional_hour</th>\n",
       "      <th>fractional_hour cos_fractional_hour</th>\n",
       "      <th>sin_hour cos_hour</th>\n",
       "      <th>sin_hour sin_fractional_hour</th>\n",
       "      <th>sin_hour cos_fractional_hour</th>\n",
       "      <th>cos_hour sin_fractional_hour</th>\n",
       "      <th>cos_hour cos_fractional_hour</th>\n",
       "      <th>sin_fractional_hour cos_fractional_hour</th>\n",
       "    </tr>\n",
       "    <tr>\n",
       "      <th>date_time</th>\n",
       "      <th></th>\n",
       "      <th></th>\n",
       "      <th></th>\n",
       "      <th></th>\n",
       "      <th></th>\n",
       "      <th></th>\n",
       "      <th></th>\n",
       "      <th></th>\n",
       "      <th></th>\n",
       "      <th></th>\n",
       "      <th></th>\n",
       "      <th></th>\n",
       "      <th></th>\n",
       "      <th></th>\n",
       "      <th></th>\n",
       "      <th></th>\n",
       "      <th></th>\n",
       "      <th></th>\n",
       "      <th></th>\n",
       "      <th></th>\n",
       "      <th></th>\n",
       "    </tr>\n",
       "  </thead>\n",
       "  <tbody>\n",
       "    <tr>\n",
       "      <th>2024-12-02 02:22:00</th>\n",
       "      <td>2.765459</td>\n",
       "      <td>3.0</td>\n",
       "      <td>3.366667</td>\n",
       "      <td>0.707107</td>\n",
       "      <td>0.707107</td>\n",
       "      <td>0.751724</td>\n",
       "      <td>0.659478</td>\n",
       "      <td>10.100000</td>\n",
       "      <td>2.121320</td>\n",
       "      <td>2.121320</td>\n",
       "      <td>...</td>\n",
       "      <td>2.380593</td>\n",
       "      <td>2.380593</td>\n",
       "      <td>2.530804</td>\n",
       "      <td>2.220242</td>\n",
       "      <td>0.500000</td>\n",
       "      <td>0.531549</td>\n",
       "      <td>0.466321</td>\n",
       "      <td>0.531549</td>\n",
       "      <td>0.466321</td>\n",
       "      <td>0.495745</td>\n",
       "    </tr>\n",
       "    <tr>\n",
       "      <th>2024-12-02 02:32:00</th>\n",
       "      <td>2.765459</td>\n",
       "      <td>3.0</td>\n",
       "      <td>3.533333</td>\n",
       "      <td>0.707107</td>\n",
       "      <td>0.707107</td>\n",
       "      <td>0.778822</td>\n",
       "      <td>0.627245</td>\n",
       "      <td>10.600000</td>\n",
       "      <td>2.121320</td>\n",
       "      <td>2.121320</td>\n",
       "      <td>...</td>\n",
       "      <td>2.498444</td>\n",
       "      <td>2.498444</td>\n",
       "      <td>2.751837</td>\n",
       "      <td>2.216267</td>\n",
       "      <td>0.500000</td>\n",
       "      <td>0.550710</td>\n",
       "      <td>0.443529</td>\n",
       "      <td>0.550710</td>\n",
       "      <td>0.443529</td>\n",
       "      <td>0.488512</td>\n",
       "    </tr>\n",
       "    <tr>\n",
       "      <th>2024-12-02 02:42:00</th>\n",
       "      <td>2.765459</td>\n",
       "      <td>3.0</td>\n",
       "      <td>3.700000</td>\n",
       "      <td>0.707107</td>\n",
       "      <td>0.707107</td>\n",
       "      <td>0.804538</td>\n",
       "      <td>0.593901</td>\n",
       "      <td>11.100000</td>\n",
       "      <td>2.121320</td>\n",
       "      <td>2.121320</td>\n",
       "      <td>...</td>\n",
       "      <td>2.616295</td>\n",
       "      <td>2.616295</td>\n",
       "      <td>2.976791</td>\n",
       "      <td>2.197433</td>\n",
       "      <td>0.500000</td>\n",
       "      <td>0.568894</td>\n",
       "      <td>0.419951</td>\n",
       "      <td>0.568894</td>\n",
       "      <td>0.419951</td>\n",
       "      <td>0.477816</td>\n",
       "    </tr>\n",
       "    <tr>\n",
       "      <th>2024-12-02 02:52:00</th>\n",
       "      <td>2.765459</td>\n",
       "      <td>3.0</td>\n",
       "      <td>3.866667</td>\n",
       "      <td>0.707107</td>\n",
       "      <td>0.707107</td>\n",
       "      <td>0.828828</td>\n",
       "      <td>0.559503</td>\n",
       "      <td>11.600000</td>\n",
       "      <td>2.121320</td>\n",
       "      <td>2.121320</td>\n",
       "      <td>...</td>\n",
       "      <td>2.734146</td>\n",
       "      <td>2.734146</td>\n",
       "      <td>3.204802</td>\n",
       "      <td>2.163412</td>\n",
       "      <td>0.500000</td>\n",
       "      <td>0.586070</td>\n",
       "      <td>0.395629</td>\n",
       "      <td>0.586070</td>\n",
       "      <td>0.395629</td>\n",
       "      <td>0.463732</td>\n",
       "    </tr>\n",
       "    <tr>\n",
       "      <th>2024-12-02 03:02:00</th>\n",
       "      <td>2.765459</td>\n",
       "      <td>4.0</td>\n",
       "      <td>4.033333</td>\n",
       "      <td>0.866025</td>\n",
       "      <td>0.500000</td>\n",
       "      <td>0.851648</td>\n",
       "      <td>0.524113</td>\n",
       "      <td>16.133333</td>\n",
       "      <td>3.464102</td>\n",
       "      <td>2.000000</td>\n",
       "      <td>...</td>\n",
       "      <td>3.492969</td>\n",
       "      <td>2.016667</td>\n",
       "      <td>3.434982</td>\n",
       "      <td>2.113924</td>\n",
       "      <td>0.433013</td>\n",
       "      <td>0.737549</td>\n",
       "      <td>0.453896</td>\n",
       "      <td>0.425824</td>\n",
       "      <td>0.262057</td>\n",
       "      <td>0.446360</td>\n",
       "    </tr>\n",
       "    <tr>\n",
       "      <th>...</th>\n",
       "      <td>...</td>\n",
       "      <td>...</td>\n",
       "      <td>...</td>\n",
       "      <td>...</td>\n",
       "      <td>...</td>\n",
       "      <td>...</td>\n",
       "      <td>...</td>\n",
       "      <td>...</td>\n",
       "      <td>...</td>\n",
       "      <td>...</td>\n",
       "      <td>...</td>\n",
       "      <td>...</td>\n",
       "      <td>...</td>\n",
       "      <td>...</td>\n",
       "      <td>...</td>\n",
       "      <td>...</td>\n",
       "      <td>...</td>\n",
       "      <td>...</td>\n",
       "      <td>...</td>\n",
       "      <td>...</td>\n",
       "      <td>...</td>\n",
       "    </tr>\n",
       "    <tr>\n",
       "      <th>2024-12-03 14:12:00</th>\n",
       "      <td>2.832174</td>\n",
       "      <td>15.0</td>\n",
       "      <td>15.200000</td>\n",
       "      <td>-0.707107</td>\n",
       "      <td>-0.707107</td>\n",
       "      <td>-0.643504</td>\n",
       "      <td>-0.765443</td>\n",
       "      <td>228.000000</td>\n",
       "      <td>-10.606602</td>\n",
       "      <td>-10.606602</td>\n",
       "      <td>...</td>\n",
       "      <td>-10.748023</td>\n",
       "      <td>-10.748023</td>\n",
       "      <td>-9.781264</td>\n",
       "      <td>-11.634727</td>\n",
       "      <td>0.500000</td>\n",
       "      <td>0.455026</td>\n",
       "      <td>0.541250</td>\n",
       "      <td>0.455026</td>\n",
       "      <td>0.541250</td>\n",
       "      <td>0.492566</td>\n",
       "    </tr>\n",
       "    <tr>\n",
       "      <th>2024-12-03 14:22:00</th>\n",
       "      <td>2.813131</td>\n",
       "      <td>15.0</td>\n",
       "      <td>15.366667</td>\n",
       "      <td>-0.707107</td>\n",
       "      <td>-0.707107</td>\n",
       "      <td>-0.675159</td>\n",
       "      <td>-0.737672</td>\n",
       "      <td>230.500000</td>\n",
       "      <td>-10.606602</td>\n",
       "      <td>-10.606602</td>\n",
       "      <td>...</td>\n",
       "      <td>-10.865874</td>\n",
       "      <td>-10.865874</td>\n",
       "      <td>-10.374941</td>\n",
       "      <td>-11.335566</td>\n",
       "      <td>0.500000</td>\n",
       "      <td>0.477409</td>\n",
       "      <td>0.521613</td>\n",
       "      <td>0.477409</td>\n",
       "      <td>0.521613</td>\n",
       "      <td>0.498046</td>\n",
       "    </tr>\n",
       "    <tr>\n",
       "      <th>2024-12-03 14:32:00</th>\n",
       "      <td>2.813131</td>\n",
       "      <td>15.0</td>\n",
       "      <td>15.533334</td>\n",
       "      <td>-0.707107</td>\n",
       "      <td>-0.707107</td>\n",
       "      <td>-0.705616</td>\n",
       "      <td>-0.708594</td>\n",
       "      <td>233.000000</td>\n",
       "      <td>-10.606602</td>\n",
       "      <td>-10.606602</td>\n",
       "      <td>...</td>\n",
       "      <td>-10.983726</td>\n",
       "      <td>-10.983726</td>\n",
       "      <td>-10.960573</td>\n",
       "      <td>-11.006828</td>\n",
       "      <td>0.500000</td>\n",
       "      <td>0.498946</td>\n",
       "      <td>0.501052</td>\n",
       "      <td>0.498946</td>\n",
       "      <td>0.501052</td>\n",
       "      <td>0.499996</td>\n",
       "    </tr>\n",
       "    <tr>\n",
       "      <th>2024-12-03 14:42:00</th>\n",
       "      <td>2.813131</td>\n",
       "      <td>15.0</td>\n",
       "      <td>15.700000</td>\n",
       "      <td>-0.707107</td>\n",
       "      <td>-0.707107</td>\n",
       "      <td>-0.734823</td>\n",
       "      <td>-0.678259</td>\n",
       "      <td>235.500000</td>\n",
       "      <td>-10.606602</td>\n",
       "      <td>-10.606602</td>\n",
       "      <td>...</td>\n",
       "      <td>-11.101577</td>\n",
       "      <td>-11.101577</td>\n",
       "      <td>-11.536715</td>\n",
       "      <td>-10.648672</td>\n",
       "      <td>0.500000</td>\n",
       "      <td>0.519598</td>\n",
       "      <td>0.479602</td>\n",
       "      <td>0.519598</td>\n",
       "      <td>0.479602</td>\n",
       "      <td>0.498400</td>\n",
       "    </tr>\n",
       "    <tr>\n",
       "      <th>2024-12-03 14:52:00</th>\n",
       "      <td>2.804333</td>\n",
       "      <td>15.0</td>\n",
       "      <td>15.866667</td>\n",
       "      <td>-0.707107</td>\n",
       "      <td>-0.707107</td>\n",
       "      <td>-0.762726</td>\n",
       "      <td>-0.646722</td>\n",
       "      <td>238.000000</td>\n",
       "      <td>-10.606602</td>\n",
       "      <td>-10.606602</td>\n",
       "      <td>...</td>\n",
       "      <td>-11.219428</td>\n",
       "      <td>-11.219428</td>\n",
       "      <td>-12.101916</td>\n",
       "      <td>-10.261322</td>\n",
       "      <td>0.500000</td>\n",
       "      <td>0.539329</td>\n",
       "      <td>0.457301</td>\n",
       "      <td>0.539329</td>\n",
       "      <td>0.457301</td>\n",
       "      <td>0.493272</td>\n",
       "    </tr>\n",
       "  </tbody>\n",
       "</table>\n",
       "<p>220 rows × 22 columns</p>\n",
       "</div>"
      ],
      "text/plain": [
       "                        value  hour  fractional_hour  sin_hour  cos_hour  \\\n",
       "date_time                                                                  \n",
       "2024-12-02 02:22:00  2.765459   3.0         3.366667  0.707107  0.707107   \n",
       "2024-12-02 02:32:00  2.765459   3.0         3.533333  0.707107  0.707107   \n",
       "2024-12-02 02:42:00  2.765459   3.0         3.700000  0.707107  0.707107   \n",
       "2024-12-02 02:52:00  2.765459   3.0         3.866667  0.707107  0.707107   \n",
       "2024-12-02 03:02:00  2.765459   4.0         4.033333  0.866025  0.500000   \n",
       "...                       ...   ...              ...       ...       ...   \n",
       "2024-12-03 14:12:00  2.832174  15.0        15.200000 -0.707107 -0.707107   \n",
       "2024-12-03 14:22:00  2.813131  15.0        15.366667 -0.707107 -0.707107   \n",
       "2024-12-03 14:32:00  2.813131  15.0        15.533334 -0.707107 -0.707107   \n",
       "2024-12-03 14:42:00  2.813131  15.0        15.700000 -0.707107 -0.707107   \n",
       "2024-12-03 14:52:00  2.804333  15.0        15.866667 -0.707107 -0.707107   \n",
       "\n",
       "                     sin_fractional_hour  cos_fractional_hour  \\\n",
       "date_time                                                       \n",
       "2024-12-02 02:22:00             0.751724             0.659478   \n",
       "2024-12-02 02:32:00             0.778822             0.627245   \n",
       "2024-12-02 02:42:00             0.804538             0.593901   \n",
       "2024-12-02 02:52:00             0.828828             0.559503   \n",
       "2024-12-02 03:02:00             0.851648             0.524113   \n",
       "...                                  ...                  ...   \n",
       "2024-12-03 14:12:00            -0.643504            -0.765443   \n",
       "2024-12-03 14:22:00            -0.675159            -0.737672   \n",
       "2024-12-03 14:32:00            -0.705616            -0.708594   \n",
       "2024-12-03 14:42:00            -0.734823            -0.678259   \n",
       "2024-12-03 14:52:00            -0.762726            -0.646722   \n",
       "\n",
       "                     hour fractional_hour  hour sin_hour  hour cos_hour  ...  \\\n",
       "date_time                                                                ...   \n",
       "2024-12-02 02:22:00             10.100000       2.121320       2.121320  ...   \n",
       "2024-12-02 02:32:00             10.600000       2.121320       2.121320  ...   \n",
       "2024-12-02 02:42:00             11.100000       2.121320       2.121320  ...   \n",
       "2024-12-02 02:52:00             11.600000       2.121320       2.121320  ...   \n",
       "2024-12-02 03:02:00             16.133333       3.464102       2.000000  ...   \n",
       "...                                   ...            ...            ...  ...   \n",
       "2024-12-03 14:12:00            228.000000     -10.606602     -10.606602  ...   \n",
       "2024-12-03 14:22:00            230.500000     -10.606602     -10.606602  ...   \n",
       "2024-12-03 14:32:00            233.000000     -10.606602     -10.606602  ...   \n",
       "2024-12-03 14:42:00            235.500000     -10.606602     -10.606602  ...   \n",
       "2024-12-03 14:52:00            238.000000     -10.606602     -10.606602  ...   \n",
       "\n",
       "                     fractional_hour sin_hour  fractional_hour cos_hour  \\\n",
       "date_time                                                                 \n",
       "2024-12-02 02:22:00                  2.380593                  2.380593   \n",
       "2024-12-02 02:32:00                  2.498444                  2.498444   \n",
       "2024-12-02 02:42:00                  2.616295                  2.616295   \n",
       "2024-12-02 02:52:00                  2.734146                  2.734146   \n",
       "2024-12-02 03:02:00                  3.492969                  2.016667   \n",
       "...                                       ...                       ...   \n",
       "2024-12-03 14:12:00                -10.748023                -10.748023   \n",
       "2024-12-03 14:22:00                -10.865874                -10.865874   \n",
       "2024-12-03 14:32:00                -10.983726                -10.983726   \n",
       "2024-12-03 14:42:00                -11.101577                -11.101577   \n",
       "2024-12-03 14:52:00                -11.219428                -11.219428   \n",
       "\n",
       "                     fractional_hour sin_fractional_hour  \\\n",
       "date_time                                                  \n",
       "2024-12-02 02:22:00                             2.530804   \n",
       "2024-12-02 02:32:00                             2.751837   \n",
       "2024-12-02 02:42:00                             2.976791   \n",
       "2024-12-02 02:52:00                             3.204802   \n",
       "2024-12-02 03:02:00                             3.434982   \n",
       "...                                                  ...   \n",
       "2024-12-03 14:12:00                            -9.781264   \n",
       "2024-12-03 14:22:00                           -10.374941   \n",
       "2024-12-03 14:32:00                           -10.960573   \n",
       "2024-12-03 14:42:00                           -11.536715   \n",
       "2024-12-03 14:52:00                           -12.101916   \n",
       "\n",
       "                     fractional_hour cos_fractional_hour  sin_hour cos_hour  \\\n",
       "date_time                                                                     \n",
       "2024-12-02 02:22:00                             2.220242           0.500000   \n",
       "2024-12-02 02:32:00                             2.216267           0.500000   \n",
       "2024-12-02 02:42:00                             2.197433           0.500000   \n",
       "2024-12-02 02:52:00                             2.163412           0.500000   \n",
       "2024-12-02 03:02:00                             2.113924           0.433013   \n",
       "...                                                  ...                ...   \n",
       "2024-12-03 14:12:00                           -11.634727           0.500000   \n",
       "2024-12-03 14:22:00                           -11.335566           0.500000   \n",
       "2024-12-03 14:32:00                           -11.006828           0.500000   \n",
       "2024-12-03 14:42:00                           -10.648672           0.500000   \n",
       "2024-12-03 14:52:00                           -10.261322           0.500000   \n",
       "\n",
       "                     sin_hour sin_fractional_hour  \\\n",
       "date_time                                           \n",
       "2024-12-02 02:22:00                      0.531549   \n",
       "2024-12-02 02:32:00                      0.550710   \n",
       "2024-12-02 02:42:00                      0.568894   \n",
       "2024-12-02 02:52:00                      0.586070   \n",
       "2024-12-02 03:02:00                      0.737549   \n",
       "...                                           ...   \n",
       "2024-12-03 14:12:00                      0.455026   \n",
       "2024-12-03 14:22:00                      0.477409   \n",
       "2024-12-03 14:32:00                      0.498946   \n",
       "2024-12-03 14:42:00                      0.519598   \n",
       "2024-12-03 14:52:00                      0.539329   \n",
       "\n",
       "                     sin_hour cos_fractional_hour  \\\n",
       "date_time                                           \n",
       "2024-12-02 02:22:00                      0.466321   \n",
       "2024-12-02 02:32:00                      0.443529   \n",
       "2024-12-02 02:42:00                      0.419951   \n",
       "2024-12-02 02:52:00                      0.395629   \n",
       "2024-12-02 03:02:00                      0.453896   \n",
       "...                                           ...   \n",
       "2024-12-03 14:12:00                      0.541250   \n",
       "2024-12-03 14:22:00                      0.521613   \n",
       "2024-12-03 14:32:00                      0.501052   \n",
       "2024-12-03 14:42:00                      0.479602   \n",
       "2024-12-03 14:52:00                      0.457301   \n",
       "\n",
       "                     cos_hour sin_fractional_hour  \\\n",
       "date_time                                           \n",
       "2024-12-02 02:22:00                      0.531549   \n",
       "2024-12-02 02:32:00                      0.550710   \n",
       "2024-12-02 02:42:00                      0.568894   \n",
       "2024-12-02 02:52:00                      0.586070   \n",
       "2024-12-02 03:02:00                      0.425824   \n",
       "...                                           ...   \n",
       "2024-12-03 14:12:00                      0.455026   \n",
       "2024-12-03 14:22:00                      0.477409   \n",
       "2024-12-03 14:32:00                      0.498946   \n",
       "2024-12-03 14:42:00                      0.519598   \n",
       "2024-12-03 14:52:00                      0.539329   \n",
       "\n",
       "                     cos_hour cos_fractional_hour  \\\n",
       "date_time                                           \n",
       "2024-12-02 02:22:00                      0.466321   \n",
       "2024-12-02 02:32:00                      0.443529   \n",
       "2024-12-02 02:42:00                      0.419951   \n",
       "2024-12-02 02:52:00                      0.395629   \n",
       "2024-12-02 03:02:00                      0.262057   \n",
       "...                                           ...   \n",
       "2024-12-03 14:12:00                      0.541250   \n",
       "2024-12-03 14:22:00                      0.521613   \n",
       "2024-12-03 14:32:00                      0.501052   \n",
       "2024-12-03 14:42:00                      0.479602   \n",
       "2024-12-03 14:52:00                      0.457301   \n",
       "\n",
       "                     sin_fractional_hour cos_fractional_hour  \n",
       "date_time                                                     \n",
       "2024-12-02 02:22:00                                 0.495745  \n",
       "2024-12-02 02:32:00                                 0.488512  \n",
       "2024-12-02 02:42:00                                 0.477816  \n",
       "2024-12-02 02:52:00                                 0.463732  \n",
       "2024-12-02 03:02:00                                 0.446360  \n",
       "...                                                      ...  \n",
       "2024-12-03 14:12:00                                 0.492566  \n",
       "2024-12-03 14:22:00                                 0.498046  \n",
       "2024-12-03 14:32:00                                 0.499996  \n",
       "2024-12-03 14:42:00                                 0.498400  \n",
       "2024-12-03 14:52:00                                 0.493272  \n",
       "\n",
       "[220 rows x 22 columns]"
      ]
     },
     "execution_count": 10,
     "metadata": {},
     "output_type": "execute_result"
    }
   ],
   "source": [
    "proc_dataa.dataset_with_features_subsets['test']"
   ]
  },
  {
   "cell_type": "code",
=======
>>>>>>> main
   "execution_count": 8,
   "id": "7c32c04e-bb3e-4beb-aec1-30225d70256b",
   "metadata": {},
   "outputs": [
    {
     "data": {
      "text/plain": [
       "2202"
      ]
     },
     "execution_count": 8,
     "metadata": {},
     "output_type": "execute_result"
    }
   ],
   "source": [
    "len(proc_dataa.dataset)"
   ]
  },
  {
   "cell_type": "code",
   "execution_count": 9,
   "id": "1f1d9899-fa97-4707-bdd9-d450a2fe3b41",
   "metadata": {},
   "outputs": [
    {
     "data": {
      "text/plain": [
       "['baseline',\n",
       " 'direct_lasso',\n",
       " 'autoreg_linearregression',\n",
       " 'autoreg_lasso',\n",
       " 'autoreg_lightgbm']"
      ]
     },
     "execution_count": 9,
     "metadata": {},
     "output_type": "execute_result"
    }
   ],
   "source": [
    "proc_dataa.allowed_models"
   ]
  },
  {
   "cell_type": "code",
   "execution_count": 91,
   "id": "9ff2b778-2ba6-4d51-a551-f0ae8c7e7de8",
   "metadata": {
    "scrolled": true
   },
   "outputs": [
    {
     "name": "stdout",
     "output_type": "stream",
     "text": [
      "1\n"
     ]
    },
    {
     "name": "stderr",
     "output_type": "stream",
     "text": [
      "C:\\repos\\Satori\\Engine\\satoriengine\\veda\\Jupyter\\aienginepackages\\determine_features.py:514: InterpolationWarning: The test statistic is outside of the range of p-values available in the\n",
      "look-up table. The actual p-value is smaller than the p-value returned.\n",
      "\n",
      "  kpss_result = kpss(data_diff['value'])\n",
      "C:\\repos\\Satori\\Engine\\satoriengine\\veda\\Jupyter\\aienginepackages\\determine_features.py:514: InterpolationWarning: The test statistic is outside of the range of p-values available in the\n",
      "look-up table. The actual p-value is greater than the p-value returned.\n",
      "\n",
      "  kpss_result = kpss(data_diff['value'])\n"
     ]
    },
    {
     "name": "stdout",
     "output_type": "stream",
     "text": [
      "2\n"
     ]
    },
    {
     "data": {
      "application/vnd.jupyter.widget-view+json": {
       "model_id": "ebc515747acc4282abe97518fa3126af",
       "version_major": 2,
       "version_minor": 0
      },
      "text/plain": [
       "  0%|          | 0/20 [00:00<?, ?it/s]"
      ]
     },
     "metadata": {},
     "output_type": "display_data"
    },
    {
     "name": "stdout",
     "output_type": "stream",
     "text": [
      "`Forecaster` refitted using the best-found lags and parameters, and the whole data set: \n",
      "  Lags: [   1    2    3 ... 1006 1007 1008] \n",
      "  Parameters: {}\n",
      "  Backtesting metric: 182.50045350958982\n",
      "\n"
     ]
    }
   ],
   "source": [
    "engine = skEnginePipeline(df, ['autoreg_linearboost'], mode='train')"
   ]
  },
  {
   "cell_type": "code",
   "execution_count": 92,
   "id": "c751493e-25c3-40a1-95f6-bf5839ee3ad3",
   "metadata": {},
   "outputs": [
    {
     "data": {
      "text/plain": [
       "1"
      ]
     },
     "execution_count": 92,
     "metadata": {},
     "output_type": "execute_result"
    }
   ],
   "source": [
    "engine.status"
   ]
  },
  {
   "cell_type": "code",
   "execution_count": 93,
   "id": "ba3b54d9-526e-44c5-a13d-39191567682c",
   "metadata": {},
   "outputs": [
    {
     "data": {
      "text/plain": [
       "130.4028816241809"
      ]
     },
     "execution_count": 93,
     "metadata": {},
     "output_type": "execute_result"
    }
   ],
   "source": [
    "engine.list_of_models[0].backtest_error"
   ]
  },
  {
   "cell_type": "code",
   "execution_count": 94,
   "id": "a3d0fa1c-4b50-4f81-91af-60a9023f0422",
   "metadata": {},
   "outputs": [
    {
     "data": {
      "text/plain": [
       "<model_creation.ForecastModelResult at 0x26b6cd35dc0>"
      ]
     },
     "execution_count": 94,
     "metadata": {},
     "output_type": "execute_result"
    }
   ],
   "source": [
    "engine.list_of_models[0]"
   ]
  },
  {
   "cell_type": "code",
   "execution_count": 95,
   "id": "73bf2f91-72c0-4330-8c3d-42a3c0f8be23",
   "metadata": {},
   "outputs": [
    {
     "data": {
      "text/plain": [
       "================= \n",
       "ForecasterAutoreg \n",
       "================= \n",
       "Regressor: LinearBoostRegressor(base_estimator=LinearRegression(), random_state=123) \n",
       "Lags: [   1    2    3 ... 1006 1007 1008] \n",
       "Transformer for y: StandardScaler() \n",
       "Transformer for exog: None \n",
       "Window size: 1008 \n",
       "Weight function included: False \n",
       "Differentiation order: None \n",
       "Exogenous included: False \n",
       "Exogenous variables names: None \n",
       "Training range: None \n",
       "Training index type: None \n",
       "Training index frequency: None \n",
       "Regressor parameters: {'base_estimator__copy_X': True, 'base_estimator__fit_intercept': True, 'base_estimator__n_jobs': None, 'base_estimator__positive': False, 'base_estimator': LinearRegression(), 'ccp_alpha': 0.0, 'loss': 'linear', 'max_depth': 3, 'max_features': None, 'max_leaf_nodes': None, 'min_impurity_decrease': 0.0, 'min_samples_leaf': 1, 'min_samples_split': 2, 'min_weight_fraction_leaf': 0.0, 'n_estimators': 10, 'random_state': 123} \n",
       "fit_kwargs: {} \n",
       "Creation date: 2024-12-04 07:49:25 \n",
       "Last fit date: None \n",
       "Skforecast version: 0.13.0 \n",
       "Python version: 3.12.6 \n",
       "Forecaster id: None "
      ]
     },
     "execution_count": 95,
     "metadata": {},
     "output_type": "execute_result"
    }
   ],
   "source": [
    "engine.list_of_models[0].unfitted_forecaster"
   ]
  },
  {
   "cell_type": "code",
   "execution_count": 89,
   "id": "7b939eb3-d866-4f61-8b63-76f14b3f6fa5",
   "metadata": {},
   "outputs": [
    {
     "name": "stdout",
     "output_type": "stream",
     "text": [
      "1\n"
     ]
    },
    {
     "name": "stderr",
     "output_type": "stream",
     "text": [
      "C:\\repos\\Satori\\Engine\\satoriengine\\veda\\Jupyter\\aienginepackages\\determine_features.py:514: InterpolationWarning: The test statistic is outside of the range of p-values available in the\n",
      "look-up table. The actual p-value is smaller than the p-value returned.\n",
      "\n",
      "  kpss_result = kpss(data_diff['value'])\n",
      "C:\\repos\\Satori\\Engine\\satoriengine\\veda\\Jupyter\\aienginepackages\\determine_features.py:514: InterpolationWarning: The test statistic is outside of the range of p-values available in the\n",
      "look-up table. The actual p-value is greater than the p-value returned.\n",
      "\n",
      "  kpss_result = kpss(data_diff['value'])\n"
     ]
    },
    {
     "name": "stdout",
     "output_type": "stream",
     "text": [
      "2\n",
      "3\n",
      "4\n"
     ]
    },
    {
     "name": "stderr",
     "output_type": "stream",
     "text": [
      "C:\\Users\\krizh\\AppData\\Local\\Programs\\Python\\Python312\\Lib\\site-packages\\sklearn\\preprocessing\\_discretization.py:263: UserWarning: Feature 0 is constant and will be replaced with 0.\n",
      "  warnings.warn(\n"
     ]
    },
    {
     "name": "stdout",
     "output_type": "stream",
     "text": [
      "5\n"
     ]
    }
   ],
   "source": [
    "engine_result = skEnginePipeline(df, \n",
    "                                 ['autoreg_linearboost'], \n",
    "                                 mode='predict',\n",
    "                                unfitted_forecaster=engine.list_of_models[0].unfitted_forecaster)"
   ]
  },
  {
   "cell_type": "code",
   "execution_count": 90,
   "id": "3cd41cbc-1921-46ae-880a-217a4d769f99",
   "metadata": {},
   "outputs": [
    {
     "data": {
      "text/html": [
       "<div>\n",
       "<style scoped>\n",
       "    .dataframe tbody tr th:only-of-type {\n",
       "        vertical-align: middle;\n",
       "    }\n",
       "\n",
       "    .dataframe tbody tr th {\n",
       "        vertical-align: top;\n",
       "    }\n",
       "\n",
       "    .dataframe thead th {\n",
       "        text-align: right;\n",
       "    }\n",
       "</style>\n",
       "<table border=\"1\" class=\"dataframe\">\n",
       "  <thead>\n",
       "    <tr style=\"text-align: right;\">\n",
       "      <th></th>\n",
       "      <th>pred</th>\n",
       "      <th>lower_bound</th>\n",
       "      <th>upper_bound</th>\n",
       "    </tr>\n",
       "  </thead>\n",
       "  <tbody>\n",
       "    <tr>\n",
       "      <th>2024-12-16 13:42:00</th>\n",
       "      <td>19.079835</td>\n",
       "      <td>19.079419</td>\n",
       "      <td>19.079419</td>\n",
       "    </tr>\n",
       "    <tr>\n",
       "      <th>2024-12-16 13:52:00</th>\n",
       "      <td>19.080250</td>\n",
       "      <td>19.079419</td>\n",
       "      <td>19.079419</td>\n",
       "    </tr>\n",
       "    <tr>\n",
       "      <th>2024-12-16 14:02:00</th>\n",
       "      <td>19.080666</td>\n",
       "      <td>19.079419</td>\n",
       "      <td>19.079419</td>\n",
       "    </tr>\n",
       "    <tr>\n",
       "      <th>2024-12-16 14:12:00</th>\n",
       "      <td>19.081082</td>\n",
       "      <td>19.079419</td>\n",
       "      <td>19.079419</td>\n",
       "    </tr>\n",
       "    <tr>\n",
       "      <th>2024-12-16 14:22:00</th>\n",
       "      <td>19.081497</td>\n",
       "      <td>19.079419</td>\n",
       "      <td>19.079419</td>\n",
       "    </tr>\n",
       "    <tr>\n",
       "      <th>...</th>\n",
       "      <td>...</td>\n",
       "      <td>...</td>\n",
       "      <td>...</td>\n",
       "    </tr>\n",
       "    <tr>\n",
       "      <th>2024-12-17 12:52:00</th>\n",
       "      <td>19.137601</td>\n",
       "      <td>18.904349</td>\n",
       "      <td>19.079419</td>\n",
       "    </tr>\n",
       "    <tr>\n",
       "      <th>2024-12-17 13:02:00</th>\n",
       "      <td>19.138016</td>\n",
       "      <td>18.904349</td>\n",
       "      <td>19.079419</td>\n",
       "    </tr>\n",
       "    <tr>\n",
       "      <th>2024-12-17 13:12:00</th>\n",
       "      <td>19.138432</td>\n",
       "      <td>18.904349</td>\n",
       "      <td>19.079419</td>\n",
       "    </tr>\n",
       "    <tr>\n",
       "      <th>2024-12-17 13:22:00</th>\n",
       "      <td>19.138847</td>\n",
       "      <td>18.904349</td>\n",
       "      <td>19.079419</td>\n",
       "    </tr>\n",
       "    <tr>\n",
       "      <th>2024-12-17 13:32:00</th>\n",
       "      <td>19.139263</td>\n",
       "      <td>18.904349</td>\n",
       "      <td>19.079419</td>\n",
       "    </tr>\n",
       "  </tbody>\n",
       "</table>\n",
       "<p>144 rows × 3 columns</p>\n",
       "</div>"
      ],
      "text/plain": [
       "                          pred  lower_bound  upper_bound\n",
       "2024-12-16 13:42:00  19.079835    19.079419    19.079419\n",
       "2024-12-16 13:52:00  19.080250    19.079419    19.079419\n",
       "2024-12-16 14:02:00  19.080666    19.079419    19.079419\n",
       "2024-12-16 14:12:00  19.081082    19.079419    19.079419\n",
       "2024-12-16 14:22:00  19.081497    19.079419    19.079419\n",
       "...                        ...          ...          ...\n",
       "2024-12-17 12:52:00  19.137601    18.904349    19.079419\n",
       "2024-12-17 13:02:00  19.138016    18.904349    19.079419\n",
       "2024-12-17 13:12:00  19.138432    18.904349    19.079419\n",
       "2024-12-17 13:22:00  19.138847    18.904349    19.079419\n",
       "2024-12-17 13:32:00  19.139263    18.904349    19.079419\n",
       "\n",
       "[144 rows x 3 columns]"
      ]
     },
     "execution_count": 90,
     "metadata": {},
     "output_type": "execute_result"
    }
   ],
   "source": [
    "engine_result.list_of_models[0].forecast"
   ]
  },
  {
   "cell_type": "code",
   "execution_count": null,
   "id": "363c6178-df7d-440d-848b-edfb94eb7e51",
   "metadata": {},
   "outputs": [],
   "source": []
  }
 ],
 "metadata": {
  "kernelspec": {
   "display_name": "Python 3 (ipykernel)",
   "language": "python",
   "name": "python3"
  },
  "language_info": {
   "codemirror_mode": {
    "name": "ipython",
    "version": 3
   },
   "file_extension": ".py",
   "mimetype": "text/x-python",
   "name": "python",
   "nbconvert_exporter": "python",
   "pygments_lexer": "ipython3",
   "version": "3.12.6"
  }
 },
 "nbformat": 4,
 "nbformat_minor": 5
}
