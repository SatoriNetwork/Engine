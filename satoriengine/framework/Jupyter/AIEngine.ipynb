{
 "cells": [
  {
   "cell_type": "code",
   "execution_count": 1,
   "id": "726d1447-ef22-4b3b-b82d-8c7048c5e0eb",
   "metadata": {},
   "outputs": [],
   "source": [
    "import sys\n",
    "sys.path.append('./aienginepackages')\n",
    "\n",
    "import pandas as pd"
   ]
  },
  {
   "cell_type": "code",
   "execution_count": 2,
   "id": "32839575-b9b8-47ff-a382-3eacdd26decb",
   "metadata": {},
   "outputs": [],
   "source": [
    "from aienginepackages import process_data\n",
    "from aienginepackages import determine_feature_set\n",
    "from aienginepackages import model_create_train_test_and_predict\n",
    "from aienginepackages import skEnginePipeline"
   ]
  },
  {
   "cell_type": "code",
   "execution_count": 7,
   "id": "070e147d-2284-4186-9384-142e41d5ad31",
   "metadata": {},
   "outputs": [],
   "source": [
    "df = pd.read_csv(\"datasets/modifiedkaggletraffic2.csv\", names=['date_time', 'value','id'])"
   ]
  },
  {
   "cell_type": "code",
   "execution_count": 8,
   "id": "70d13c72-7d93-4f46-b827-5e24696ec4bf",
   "metadata": {},
   "outputs": [],
   "source": [
    "proc_dataa = process_data(df, quick_start=False)"
   ]
  },
  {
   "cell_type": "code",
   "execution_count": 9,
   "id": "d2e3b7f1-156d-43fc-aed9-7eef316d4747",
   "metadata": {},
   "outputs": [
    {
     "data": {
      "text/plain": [
       "24"
      ]
     },
     "execution_count": 9,
     "metadata": {},
     "output_type": "execute_result"
    }
   ],
   "source": [
    "proc_dataa.forecasting_steps"
   ]
  },
  {
   "cell_type": "code",
   "execution_count": 10,
   "id": "1f1d9899-fa97-4707-bdd9-d450a2fe3b41",
   "metadata": {},
   "outputs": [
    {
     "data": {
      "text/plain": [
       "['baseline',\n",
       " 'direct_linearregression',\n",
       " 'direct_ridge',\n",
       " 'direct_lasso',\n",
       " 'direct_linearboost',\n",
       " 'autoreg_linearregression',\n",
       " 'autoreg_ridge',\n",
       " 'autoreg_lasso',\n",
       " 'autoreg_linearboost',\n",
       " 'autoreg_lightgbm',\n",
       " 'skt_tbats_quick']"
      ]
     },
     "execution_count": 10,
     "metadata": {},
     "output_type": "execute_result"
    }
   ],
   "source": [
    "proc_dataa.allowed_models"
   ]
  },
  {
   "cell_type": "code",
   "execution_count": 11,
   "id": "9ff2b778-2ba6-4d51-a551-f0ae8c7e7de8",
   "metadata": {
    "scrolled": true
   },
   "outputs": [
    {
     "name": "stderr",
     "output_type": "stream",
     "text": [
      "C:\\repos\\Satori\\Engine\\satoriengine\\framework\\Jupyter\\aienginepackages\\determine_features.py:783: InterpolationWarning: The test statistic is outside of the range of p-values available in the\n",
      "look-up table. The actual p-value is smaller than the p-value returned.\n",
      "\n",
      "  kpss_result = kpss(data_diff['value'])\n"
     ]
    },
    {
     "name": "stdout",
     "output_type": "stream",
     "text": [
      "adfuller stat and adfuller boolean is: 3.193842996354054e-10, True\n",
      "kpss stat and kpss boolean is: 0.01, False\n",
      "The time series (diff order 0) is likely to be non-stationary.\n",
      "adfuller stat and adfuller boolean is: 0.0, True\n",
      "kpss stat and kpss boolean is: 0.1, True\n",
      "The time series (diff order 1) is likely to be stationary.\n",
      "The differentiation is: 1\n",
      "new seasonality test with SF = hour\n",
      "Hour H_statistic is 7639.788962866396\n",
      "Hour p_value is 0.0\n",
      "Seasonality that is built on hour is True\n",
      "new seasonality test with SF = fractional_hour\n",
      "Fractional_hour H_statistic is 7639.788962866396\n",
      "Fractional_hour p_value is 0.0\n",
      "Seasonality that is built on fractional_hour is True\n",
      "new seasonality test with SF = day_of_week\n",
      "Day_of_week H_statistic is 24.979151043100227\n",
      "Day_of_week p_value is 0.0\n",
      "Seasonality that is built on day_of_week is True\n",
      "Both hour and fractional_hour are seasonal. Choosing hour due to lower or equal p-value.\n",
      "new seasonality test with SF = day_of_week\n",
      "Day_of_week H_statistic is 24.979151043100227\n",
      "Day_of_week p_value is 0.0\n",
      "Seasonality that is built on day_of_week is True\n",
      "Detected seasonal periods:\n",
      "hour: p-value = 0.0\n",
      "day_of_week: p-value = 0.0\n",
      "1\n",
      "123\n"
     ]
    },
    {
     "name": "stderr",
     "output_type": "stream",
     "text": [
      "C:\\repos\\Satori\\Engine\\satoriengine\\framework\\Jupyter\\aienginepackages\\determine_features.py:783: InterpolationWarning: The test statistic is outside of the range of p-values available in the\n",
      "look-up table. The actual p-value is greater than the p-value returned.\n",
      "\n",
      "  kpss_result = kpss(data_diff['value'])\n"
     ]
    },
    {
     "data": {
      "application/vnd.jupyter.widget-view+json": {
       "model_id": "732017b158d242ea8387eb6cd75b2c88",
       "version_major": 2,
       "version_minor": 0
      },
      "text/plain": [
       "  0%|          | 0/20 [00:00<?, ?it/s]"
      ]
     },
     "metadata": {},
     "output_type": "display_data"
    },
    {
     "name": "stdout",
     "output_type": "stream",
     "text": [
      "`Forecaster` refitted using the best-found lags and parameters, and the whole data set: \n",
      "  Lags: [  1   2   3   4   5   6   7   8   9  10  11  12  13  14  15  16  17  18\n",
      "  19  20  21  22  23  24  25  26  27  28  29  30  31  32  33  34  35  36\n",
      "  37  38  39  40  41  42  43  44  45  46  47  48  49  50  51  52  53  54\n",
      "  55  56  57  58  59  60  61  62  63  64  65  66  67  68  69  70  71  72\n",
      "  73  74  75  76  77  78  79  80  81  82  83  84  85  86  87  88  89  90\n",
      "  91  92  93  94  95  96  97  98  99 100 101 102 103 104 105 106 107 108\n",
      " 109 110 111 112 113 114 115 116 117 118 119 120 121 122 123 124 125 126\n",
      " 127 128 129 130 131 132 133 134 135 136 137 138 139 140 141 142 143 144\n",
      " 145 146 147 148 149 150 151 152 153 154 155 156 157 158 159 160 161 162\n",
      " 163 164 165 166 167 168] \n",
      "  Parameters: {'n_estimators': 1000, 'max_depth': 5, 'min_data_in_leaf': 132, 'learning_rate': 0.28014423685061673, 'feature_fraction': 0.9, 'max_bin': 125, 'reg_alpha': 1.0, 'reg_lambda': 0.7000000000000001}\n",
      "  Backtesting metric: 1.2846480267676827\n",
      "\n",
      "Total data points: 24\n",
      "Data points within range: 5\n",
      "Predicted interval coverage assuming Gaussian distribution: 20.83%\n",
      "Total area of the interval: 76.79\n"
     ]
    }
   ],
   "source": [
    "engine = skEnginePipeline(df, ['autoreg_lightgbm'], mode='all')"
   ]
  },
  {
   "cell_type": "code",
   "execution_count": 12,
   "id": "c751493e-25c3-40a1-95f6-bf5839ee3ad3",
   "metadata": {},
   "outputs": [
    {
     "data": {
      "text/plain": [
       "1"
      ]
     },
     "execution_count": 12,
     "metadata": {},
     "output_type": "execute_result"
    }
   ],
   "source": [
    "engine.status"
   ]
  },
  {
   "cell_type": "code",
   "execution_count": 13,
   "id": "ba3b54d9-526e-44c5-a13d-39191567682c",
   "metadata": {},
   "outputs": [
    {
     "data": {
      "text/plain": [
       "2.1157261590195517"
      ]
     },
     "execution_count": 13,
     "metadata": {},
     "output_type": "execute_result"
    }
   ],
   "source": [
    "engine.list_of_models[0].backtest_error"
   ]
  },
  {
   "cell_type": "code",
   "execution_count": 14,
   "id": "73bf2f91-72c0-4330-8c3d-42a3c0f8be23",
   "metadata": {},
   "outputs": [
    {
     "data": {
      "text/html": [
       "<div>\n",
       "<style scoped>\n",
       "    .dataframe tbody tr th:only-of-type {\n",
       "        vertical-align: middle;\n",
       "    }\n",
       "\n",
       "    .dataframe tbody tr th {\n",
       "        vertical-align: top;\n",
       "    }\n",
       "\n",
       "    .dataframe thead th {\n",
       "        text-align: right;\n",
       "    }\n",
       "</style>\n",
       "<table border=\"1\" class=\"dataframe\">\n",
       "  <thead>\n",
       "    <tr style=\"text-align: right;\">\n",
       "      <th></th>\n",
       "      <th>pred</th>\n",
       "      <th>lower_bound</th>\n",
       "      <th>upper_bound</th>\n",
       "    </tr>\n",
       "  </thead>\n",
       "  <tbody>\n",
       "    <tr>\n",
       "      <th>2017-07-01 00:00:00</th>\n",
       "      <td>72.687870</td>\n",
       "      <td>72.138502</td>\n",
       "      <td>73.443328</td>\n",
       "    </tr>\n",
       "    <tr>\n",
       "      <th>2017-07-01 01:00:00</th>\n",
       "      <td>61.450846</td>\n",
       "      <td>61.292657</td>\n",
       "      <td>62.631389</td>\n",
       "    </tr>\n",
       "    <tr>\n",
       "      <th>2017-07-01 02:00:00</th>\n",
       "      <td>50.934156</td>\n",
       "      <td>50.048527</td>\n",
       "      <td>52.350996</td>\n",
       "    </tr>\n",
       "    <tr>\n",
       "      <th>2017-07-01 03:00:00</th>\n",
       "      <td>46.065480</td>\n",
       "      <td>45.075725</td>\n",
       "      <td>47.558485</td>\n",
       "    </tr>\n",
       "    <tr>\n",
       "      <th>2017-07-01 04:00:00</th>\n",
       "      <td>39.194883</td>\n",
       "      <td>37.898809</td>\n",
       "      <td>40.849746</td>\n",
       "    </tr>\n",
       "    <tr>\n",
       "      <th>2017-07-01 05:00:00</th>\n",
       "      <td>36.531517</td>\n",
       "      <td>35.566287</td>\n",
       "      <td>38.148852</td>\n",
       "    </tr>\n",
       "    <tr>\n",
       "      <th>2017-07-01 06:00:00</th>\n",
       "      <td>39.425226</td>\n",
       "      <td>38.554148</td>\n",
       "      <td>41.609590</td>\n",
       "    </tr>\n",
       "    <tr>\n",
       "      <th>2017-07-01 07:00:00</th>\n",
       "      <td>43.398049</td>\n",
       "      <td>41.951546</td>\n",
       "      <td>45.427532</td>\n",
       "    </tr>\n",
       "    <tr>\n",
       "      <th>2017-07-01 08:00:00</th>\n",
       "      <td>47.414946</td>\n",
       "      <td>46.366698</td>\n",
       "      <td>49.507593</td>\n",
       "    </tr>\n",
       "    <tr>\n",
       "      <th>2017-07-01 09:00:00</th>\n",
       "      <td>54.666816</td>\n",
       "      <td>53.195035</td>\n",
       "      <td>56.802795</td>\n",
       "    </tr>\n",
       "    <tr>\n",
       "      <th>2017-07-01 10:00:00</th>\n",
       "      <td>62.040613</td>\n",
       "      <td>60.802350</td>\n",
       "      <td>63.510928</td>\n",
       "    </tr>\n",
       "    <tr>\n",
       "      <th>2017-07-01 11:00:00</th>\n",
       "      <td>64.589393</td>\n",
       "      <td>62.392549</td>\n",
       "      <td>66.902261</td>\n",
       "    </tr>\n",
       "    <tr>\n",
       "      <th>2017-07-01 12:00:00</th>\n",
       "      <td>66.971292</td>\n",
       "      <td>65.467644</td>\n",
       "      <td>69.496328</td>\n",
       "    </tr>\n",
       "    <tr>\n",
       "      <th>2017-07-01 13:00:00</th>\n",
       "      <td>62.925476</td>\n",
       "      <td>61.284535</td>\n",
       "      <td>65.070073</td>\n",
       "    </tr>\n",
       "    <tr>\n",
       "      <th>2017-07-01 14:00:00</th>\n",
       "      <td>63.017802</td>\n",
       "      <td>60.963369</td>\n",
       "      <td>64.991941</td>\n",
       "    </tr>\n",
       "    <tr>\n",
       "      <th>2017-07-01 15:00:00</th>\n",
       "      <td>63.977780</td>\n",
       "      <td>62.548532</td>\n",
       "      <td>66.231219</td>\n",
       "    </tr>\n",
       "    <tr>\n",
       "      <th>2017-07-01 16:00:00</th>\n",
       "      <td>62.257216</td>\n",
       "      <td>59.906641</td>\n",
       "      <td>65.031187</td>\n",
       "    </tr>\n",
       "    <tr>\n",
       "      <th>2017-07-01 17:00:00</th>\n",
       "      <td>61.547407</td>\n",
       "      <td>60.002859</td>\n",
       "      <td>63.744660</td>\n",
       "    </tr>\n",
       "    <tr>\n",
       "      <th>2017-07-01 18:00:00</th>\n",
       "      <td>69.763495</td>\n",
       "      <td>67.894438</td>\n",
       "      <td>71.912419</td>\n",
       "    </tr>\n",
       "    <tr>\n",
       "      <th>2017-07-01 19:00:00</th>\n",
       "      <td>72.734630</td>\n",
       "      <td>70.775887</td>\n",
       "      <td>74.152839</td>\n",
       "    </tr>\n",
       "    <tr>\n",
       "      <th>2017-07-01 20:00:00</th>\n",
       "      <td>72.353625</td>\n",
       "      <td>70.760462</td>\n",
       "      <td>74.928045</td>\n",
       "    </tr>\n",
       "    <tr>\n",
       "      <th>2017-07-01 21:00:00</th>\n",
       "      <td>71.060452</td>\n",
       "      <td>70.148158</td>\n",
       "      <td>74.331077</td>\n",
       "    </tr>\n",
       "    <tr>\n",
       "      <th>2017-07-01 22:00:00</th>\n",
       "      <td>66.960516</td>\n",
       "      <td>65.959619</td>\n",
       "      <td>70.647885</td>\n",
       "    </tr>\n",
       "    <tr>\n",
       "      <th>2017-07-01 23:00:00</th>\n",
       "      <td>66.020878</td>\n",
       "      <td>64.711890</td>\n",
       "      <td>69.021458</td>\n",
       "    </tr>\n",
       "  </tbody>\n",
       "</table>\n",
       "</div>"
      ],
      "text/plain": [
       "                          pred  lower_bound  upper_bound\n",
       "2017-07-01 00:00:00  72.687870    72.138502    73.443328\n",
       "2017-07-01 01:00:00  61.450846    61.292657    62.631389\n",
       "2017-07-01 02:00:00  50.934156    50.048527    52.350996\n",
       "2017-07-01 03:00:00  46.065480    45.075725    47.558485\n",
       "2017-07-01 04:00:00  39.194883    37.898809    40.849746\n",
       "2017-07-01 05:00:00  36.531517    35.566287    38.148852\n",
       "2017-07-01 06:00:00  39.425226    38.554148    41.609590\n",
       "2017-07-01 07:00:00  43.398049    41.951546    45.427532\n",
       "2017-07-01 08:00:00  47.414946    46.366698    49.507593\n",
       "2017-07-01 09:00:00  54.666816    53.195035    56.802795\n",
       "2017-07-01 10:00:00  62.040613    60.802350    63.510928\n",
       "2017-07-01 11:00:00  64.589393    62.392549    66.902261\n",
       "2017-07-01 12:00:00  66.971292    65.467644    69.496328\n",
       "2017-07-01 13:00:00  62.925476    61.284535    65.070073\n",
       "2017-07-01 14:00:00  63.017802    60.963369    64.991941\n",
       "2017-07-01 15:00:00  63.977780    62.548532    66.231219\n",
       "2017-07-01 16:00:00  62.257216    59.906641    65.031187\n",
       "2017-07-01 17:00:00  61.547407    60.002859    63.744660\n",
       "2017-07-01 18:00:00  69.763495    67.894438    71.912419\n",
       "2017-07-01 19:00:00  72.734630    70.775887    74.152839\n",
       "2017-07-01 20:00:00  72.353625    70.760462    74.928045\n",
       "2017-07-01 21:00:00  71.060452    70.148158    74.331077\n",
       "2017-07-01 22:00:00  66.960516    65.959619    70.647885\n",
       "2017-07-01 23:00:00  66.020878    64.711890    69.021458"
      ]
     },
     "execution_count": 14,
     "metadata": {},
     "output_type": "execute_result"
    }
   ],
   "source": [
    "engine.list_of_models[0].forecast"
   ]
  },
  {
   "cell_type": "code",
   "execution_count": null,
   "id": "7b939eb3-d866-4f61-8b63-76f14b3f6fa5",
   "metadata": {},
   "outputs": [],
   "source": []
  }
 ],
 "metadata": {
  "kernelspec": {
   "display_name": "Python 3 (ipykernel)",
   "language": "python",
   "name": "python3"
  },
  "language_info": {
   "codemirror_mode": {
    "name": "ipython",
    "version": 3
   },
   "file_extension": ".py",
   "mimetype": "text/x-python",
   "name": "python",
   "nbconvert_exporter": "python",
   "pygments_lexer": "ipython3",
   "version": "3.12.6"
  }
 },
 "nbformat": 4,
 "nbformat_minor": 5
}
