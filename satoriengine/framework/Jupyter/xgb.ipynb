{
 "cells": [
  {
   "cell_type": "code",
   "execution_count": 34,
   "id": "0311d3d3-fba1-4799-8922-965521074a06",
   "metadata": {},
   "outputs": [],
   "source": [
    "from data_process import process_data\n",
    "from feature import determine_feature_set"
   ]
  },
  {
   "cell_type": "code",
   "execution_count": 35,
   "id": "e22c9464-0c99-423d-a1aa-d260e954f332",
   "metadata": {},
   "outputs": [],
   "source": [
    "from xgboost import XGBRegressor\n",
    "\n",
    "from sklearn.metrics import mean_absolute_error\n",
    "from sklearn.model_selection import train_test_split\n",
    "\n",
    "import pandas as pd"
   ]
  },
  {
   "cell_type": "code",
   "execution_count": 36,
   "id": "d1f40dd7-efea-4e1a-b7cb-a0e831eb5666",
   "metadata": {},
   "outputs": [],
   "source": [
    "df = pd.read_csv('modifiedkaggletraffic2.csv', names=['date_time', 'value','id'])"
   ]
  },
  {
   "cell_type": "code",
   "execution_count": 32,
   "id": "7d43836d-5415-4638-ba5b-f90ab511042f",
   "metadata": {},
   "outputs": [],
   "source": [
    "proc_data = process_data(df, quick_start=False)"
   ]
  },
  {
   "cell_type": "code",
   "execution_count": 33,
   "id": "78952bab-d624-408d-990f-8fecd6e3c287",
   "metadata": {},
   "outputs": [
    {
     "data": {
      "text/html": [
       "<div>\n",
       "<style scoped>\n",
       "    .dataframe tbody tr th:only-of-type {\n",
       "        vertical-align: middle;\n",
       "    }\n",
       "\n",
       "    .dataframe tbody tr th {\n",
       "        vertical-align: top;\n",
       "    }\n",
       "\n",
       "    .dataframe thead th {\n",
       "        text-align: right;\n",
       "    }\n",
       "</style>\n",
       "<table border=\"1\" class=\"dataframe\">\n",
       "  <thead>\n",
       "    <tr style=\"text-align: right;\">\n",
       "      <th></th>\n",
       "      <th>value</th>\n",
       "      <th>id</th>\n",
       "    </tr>\n",
       "    <tr>\n",
       "      <th>date_time</th>\n",
       "      <th></th>\n",
       "      <th></th>\n",
       "    </tr>\n",
       "  </thead>\n",
       "  <tbody>\n",
       "    <tr>\n",
       "      <th>2015-11-01 00:00:00</th>\n",
       "      <td>15.0</td>\n",
       "      <td>20151101001</td>\n",
       "    </tr>\n",
       "    <tr>\n",
       "      <th>2015-11-01 01:00:00</th>\n",
       "      <td>13.0</td>\n",
       "      <td>20151101011</td>\n",
       "    </tr>\n",
       "    <tr>\n",
       "      <th>2015-11-01 02:00:00</th>\n",
       "      <td>10.0</td>\n",
       "      <td>20151101021</td>\n",
       "    </tr>\n",
       "    <tr>\n",
       "      <th>2015-11-01 03:00:00</th>\n",
       "      <td>7.0</td>\n",
       "      <td>20151101031</td>\n",
       "    </tr>\n",
       "    <tr>\n",
       "      <th>2015-11-01 04:00:00</th>\n",
       "      <td>9.0</td>\n",
       "      <td>20151101041</td>\n",
       "    </tr>\n",
       "  </tbody>\n",
       "</table>\n",
       "</div>"
      ],
      "text/plain": [
       "                     value           id\n",
       "date_time                              \n",
       "2015-11-01 00:00:00   15.0  20151101001\n",
       "2015-11-01 01:00:00   13.0  20151101011\n",
       "2015-11-01 02:00:00   10.0  20151101021\n",
       "2015-11-01 03:00:00    7.0  20151101031\n",
       "2015-11-01 04:00:00    9.0  20151101041"
      ]
     },
     "execution_count": 33,
     "metadata": {},
     "output_type": "execute_result"
    }
   ],
   "source": [
    "proc_data.dataset.head()"
   ]
  },
  {
   "cell_type": "code",
   "execution_count": 11,
   "id": "47440fb2-d627-4d7b-b2e2-93fe4877ee54",
   "metadata": {},
   "outputs": [],
   "source": [
    "train_x, test_x, train_y, test_y = train_test_split(\n",
    "            proc_data[['date_time']], proc_data['value'], test_size=0.2, shuffle=False)"
   ]
  },
  {
   "cell_type": "code",
   "execution_count": 27,
   "id": "d860fb2d-7ca0-4516-b8d0-281e4774d13b",
   "metadata": {},
   "outputs": [
    {
     "data": {
      "text/html": [
       "<div>\n",
       "<style scoped>\n",
       "    .dataframe tbody tr th:only-of-type {\n",
       "        vertical-align: middle;\n",
       "    }\n",
       "\n",
       "    .dataframe tbody tr th {\n",
       "        vertical-align: top;\n",
       "    }\n",
       "\n",
       "    .dataframe thead th {\n",
       "        text-align: right;\n",
       "    }\n",
       "</style>\n",
       "<table border=\"1\" class=\"dataframe\">\n",
       "  <thead>\n",
       "    <tr style=\"text-align: right;\">\n",
       "      <th></th>\n",
       "      <th>date_time</th>\n",
       "    </tr>\n",
       "  </thead>\n",
       "  <tbody>\n",
       "    <tr>\n",
       "      <th>0</th>\n",
       "      <td>2015-11-01 00:00:00</td>\n",
       "    </tr>\n",
       "    <tr>\n",
       "      <th>1</th>\n",
       "      <td>2015-11-01 01:00:00</td>\n",
       "    </tr>\n",
       "    <tr>\n",
       "      <th>2</th>\n",
       "      <td>2015-11-01 02:00:00</td>\n",
       "    </tr>\n",
       "    <tr>\n",
       "      <th>3</th>\n",
       "      <td>2015-11-01 03:00:00</td>\n",
       "    </tr>\n",
       "    <tr>\n",
       "      <th>4</th>\n",
       "      <td>2015-11-01 04:00:00</td>\n",
       "    </tr>\n",
       "    <tr>\n",
       "      <th>...</th>\n",
       "      <td>...</td>\n",
       "    </tr>\n",
       "    <tr>\n",
       "      <th>11668</th>\n",
       "      <td>2017-03-01 04:00:00</td>\n",
       "    </tr>\n",
       "    <tr>\n",
       "      <th>11669</th>\n",
       "      <td>2017-03-01 05:00:00</td>\n",
       "    </tr>\n",
       "    <tr>\n",
       "      <th>11670</th>\n",
       "      <td>2017-03-01 06:00:00</td>\n",
       "    </tr>\n",
       "    <tr>\n",
       "      <th>11671</th>\n",
       "      <td>2017-03-01 07:00:00</td>\n",
       "    </tr>\n",
       "    <tr>\n",
       "      <th>11672</th>\n",
       "      <td>2017-03-01 08:00:00</td>\n",
       "    </tr>\n",
       "  </tbody>\n",
       "</table>\n",
       "<p>11673 rows × 1 columns</p>\n",
       "</div>"
      ],
      "text/plain": [
       "                 date_time\n",
       "0      2015-11-01 00:00:00\n",
       "1      2015-11-01 01:00:00\n",
       "2      2015-11-01 02:00:00\n",
       "3      2015-11-01 03:00:00\n",
       "4      2015-11-01 04:00:00\n",
       "...                    ...\n",
       "11668  2017-03-01 04:00:00\n",
       "11669  2017-03-01 05:00:00\n",
       "11670  2017-03-01 06:00:00\n",
       "11671  2017-03-01 07:00:00\n",
       "11672  2017-03-01 08:00:00\n",
       "\n",
       "[11673 rows x 1 columns]"
      ]
     },
     "execution_count": 27,
     "metadata": {},
     "output_type": "execute_result"
    }
   ],
   "source": [
    "train_x"
   ]
  },
  {
   "cell_type": "code",
   "execution_count": 12,
   "id": "dccfa4e6-d90e-4493-be46-3b37b592d25d",
   "metadata": {},
   "outputs": [],
   "source": [
    "xgb_model = XGBRegressor(eval_metric='mae')"
   ]
  },
  {
   "cell_type": "code",
   "execution_count": null,
   "id": "bc233e3d-673a-4c8a-8ae1-b40b1e57983d",
   "metadata": {},
   "outputs": [],
   "source": [
    "xgb_model.fit(train_x, \n",
    "          train_y,\n",
    "          eval_set=[(train_x, train_y), (test_x, test_y)],\n",
    "          verbose=False\n",
    "         )"
   ]
  },
  {
   "cell_type": "code",
   "execution_count": null,
   "id": "03f0f8fb-849d-4438-9ba9-edccf397dddf",
   "metadata": {},
   "outputs": [],
   "source": []
  }
 ],
 "metadata": {
  "kernelspec": {
   "display_name": "Python 3 (ipykernel)",
   "language": "python",
   "name": "python3"
  },
  "language_info": {
   "codemirror_mode": {
    "name": "ipython",
    "version": 3
   },
   "file_extension": ".py",
   "mimetype": "text/x-python",
   "name": "python",
   "nbconvert_exporter": "python",
   "pygments_lexer": "ipython3",
   "version": "3.12.6"
  }
 },
 "nbformat": 4,
 "nbformat_minor": 5
}
